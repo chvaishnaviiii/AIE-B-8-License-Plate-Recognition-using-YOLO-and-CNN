{
  "nbformat": 4,
  "nbformat_minor": 0,
  "metadata": {
    "colab": {
      "provenance": []
    },
    "kernelspec": {
      "name": "python3",
      "display_name": "Python 3"
    },
    "language_info": {
      "name": "python"
    }
  },
  "cells": [
    {
      "cell_type": "code",
      "execution_count": 1,
      "metadata": {
        "colab": {
          "base_uri": "https://localhost:8080/"
        },
        "id": "7Ohi1Qgo6tJZ",
        "outputId": "02cef12d-adb8-4103-b8fc-5c2eb235eafc"
      },
      "outputs": [
        {
          "metadata": {
            "tags": null
          },
          "name": "stdout",
          "output_type": "stream",
          "text": [
            "Downloading from https://www.kaggle.com/api/v1/datasets/download/andrewmvd/car-plate-detection?dataset_version_number=1...\n"
          ]
        },
        {
          "metadata": {
            "tags": null
          },
          "name": "stderr",
          "output_type": "stream",
          "text": [
            "100%|██████████| 203M/203M [00:04<00:00, 50.9MB/s]"
          ]
        },
        {
          "metadata": {
            "tags": null
          },
          "name": "stdout",
          "output_type": "stream",
          "text": [
            "Extracting files...\n"
          ]
        },
        {
          "metadata": {
            "tags": null
          },
          "name": "stderr",
          "output_type": "stream",
          "text": [
            "\n"
          ]
        },
        {
          "metadata": {
            "tags": null
          },
          "name": "stdout",
          "output_type": "stream",
          "text": [
            "Data source import complete.\n",
            "Collecting ultralytics\n",
            "  Downloading ultralytics-8.3.86-py3-none-any.whl.metadata (35 kB)\n",
            "Requirement already satisfied: torch in /usr/local/lib/python3.11/dist-packages (2.5.1+cu124)\n",
            "Requirement already satisfied: torchvision in /usr/local/lib/python3.11/dist-packages (0.20.1+cu124)\n",
            "Collecting pytesseract\n",
            "  Downloading pytesseract-0.3.13-py3-none-any.whl.metadata (11 kB)\n",
            "Requirement already satisfied: gdown in /usr/local/lib/python3.11/dist-packages (5.2.0)\n",
            "Requirement already satisfied: numpy<=2.1.1,>=1.23.0 in /usr/local/lib/python3.11/dist-packages (from ultralytics) (1.26.4)\n",
            "Requirement already satisfied: matplotlib>=3.3.0 in /usr/local/lib/python3.11/dist-packages (from ultralytics) (3.10.0)\n",
            "Requirement already satisfied: opencv-python>=4.6.0 in /usr/local/lib/python3.11/dist-packages (from ultralytics) (4.11.0.86)\n",
            "Requirement already satisfied: pillow>=7.1.2 in /usr/local/lib/python3.11/dist-packages (from ultralytics) (11.1.0)\n",
            "Requirement already satisfied: pyyaml>=5.3.1 in /usr/local/lib/python3.11/dist-packages (from ultralytics) (6.0.2)\n",
            "Requirement already satisfied: requests>=2.23.0 in /usr/local/lib/python3.11/dist-packages (from ultralytics) (2.32.3)\n",
            "Requirement already satisfied: scipy>=1.4.1 in /usr/local/lib/python3.11/dist-packages (from ultralytics) (1.13.1)\n",
            "Requirement already satisfied: tqdm>=4.64.0 in /usr/local/lib/python3.11/dist-packages (from ultralytics) (4.67.1)\n",
            "Requirement already satisfied: psutil in /usr/local/lib/python3.11/dist-packages (from ultralytics) (5.9.5)\n",
            "Requirement already satisfied: py-cpuinfo in /usr/local/lib/python3.11/dist-packages (from ultralytics) (9.0.0)\n",
            "Requirement already satisfied: pandas>=1.1.4 in /usr/local/lib/python3.11/dist-packages (from ultralytics) (2.2.2)\n",
            "Requirement already satisfied: seaborn>=0.11.0 in /usr/local/lib/python3.11/dist-packages (from ultralytics) (0.13.2)\n",
            "Collecting ultralytics-thop>=2.0.0 (from ultralytics)\n",
            "  Downloading ultralytics_thop-2.0.14-py3-none-any.whl.metadata (9.4 kB)\n",
            "Requirement already satisfied: filelock in /usr/local/lib/python3.11/dist-packages (from torch) (3.17.0)\n",
            "Requirement already satisfied: typing-extensions>=4.8.0 in /usr/local/lib/python3.11/dist-packages (from torch) (4.12.2)\n",
            "Requirement already satisfied: networkx in /usr/local/lib/python3.11/dist-packages (from torch) (3.4.2)\n",
            "Requirement already satisfied: jinja2 in /usr/local/lib/python3.11/dist-packages (from torch) (3.1.5)\n",
            "Requirement already satisfied: fsspec in /usr/local/lib/python3.11/dist-packages (from torch) (2024.10.0)\n",
            "Collecting nvidia-cuda-nvrtc-cu12==12.4.127 (from torch)\n",
            "  Downloading nvidia_cuda_nvrtc_cu12-12.4.127-py3-none-manylinux2014_x86_64.whl.metadata (1.5 kB)\n",
            "Collecting nvidia-cuda-runtime-cu12==12.4.127 (from torch)\n",
            "  Downloading nvidia_cuda_runtime_cu12-12.4.127-py3-none-manylinux2014_x86_64.whl.metadata (1.5 kB)\n",
            "Collecting nvidia-cuda-cupti-cu12==12.4.127 (from torch)\n",
            "  Downloading nvidia_cuda_cupti_cu12-12.4.127-py3-none-manylinux2014_x86_64.whl.metadata (1.6 kB)\n",
            "Collecting nvidia-cudnn-cu12==9.1.0.70 (from torch)\n",
            "  Downloading nvidia_cudnn_cu12-9.1.0.70-py3-none-manylinux2014_x86_64.whl.metadata (1.6 kB)\n",
            "Collecting nvidia-cublas-cu12==12.4.5.8 (from torch)\n",
            "  Downloading nvidia_cublas_cu12-12.4.5.8-py3-none-manylinux2014_x86_64.whl.metadata (1.5 kB)\n",
            "Collecting nvidia-cufft-cu12==11.2.1.3 (from torch)\n",
            "  Downloading nvidia_cufft_cu12-11.2.1.3-py3-none-manylinux2014_x86_64.whl.metadata (1.5 kB)\n",
            "Collecting nvidia-curand-cu12==10.3.5.147 (from torch)\n",
            "  Downloading nvidia_curand_cu12-10.3.5.147-py3-none-manylinux2014_x86_64.whl.metadata (1.5 kB)\n",
            "Collecting nvidia-cusolver-cu12==11.6.1.9 (from torch)\n",
            "  Downloading nvidia_cusolver_cu12-11.6.1.9-py3-none-manylinux2014_x86_64.whl.metadata (1.6 kB)\n",
            "Collecting nvidia-cusparse-cu12==12.3.1.170 (from torch)\n",
            "  Downloading nvidia_cusparse_cu12-12.3.1.170-py3-none-manylinux2014_x86_64.whl.metadata (1.6 kB)\n",
            "Requirement already satisfied: nvidia-nccl-cu12==2.21.5 in /usr/local/lib/python3.11/dist-packages (from torch) (2.21.5)\n",
            "Requirement already satisfied: nvidia-nvtx-cu12==12.4.127 in /usr/local/lib/python3.11/dist-packages (from torch) (12.4.127)\n",
            "Collecting nvidia-nvjitlink-cu12==12.4.127 (from torch)\n",
            "  Downloading nvidia_nvjitlink_cu12-12.4.127-py3-none-manylinux2014_x86_64.whl.metadata (1.5 kB)\n",
            "Requirement already satisfied: triton==3.1.0 in /usr/local/lib/python3.11/dist-packages (from torch) (3.1.0)\n",
            "Requirement already satisfied: sympy==1.13.1 in /usr/local/lib/python3.11/dist-packages (from torch) (1.13.1)\n",
            "Requirement already satisfied: mpmath<1.4,>=1.1.0 in /usr/local/lib/python3.11/dist-packages (from sympy==1.13.1->torch) (1.3.0)\n",
            "Requirement already satisfied: packaging>=21.3 in /usr/local/lib/python3.11/dist-packages (from pytesseract) (24.2)\n",
            "Requirement already satisfied: beautifulsoup4 in /usr/local/lib/python3.11/dist-packages (from gdown) (4.13.3)\n",
            "Requirement already satisfied: contourpy>=1.0.1 in /usr/local/lib/python3.11/dist-packages (from matplotlib>=3.3.0->ultralytics) (1.3.1)\n",
            "Requirement already satisfied: cycler>=0.10 in /usr/local/lib/python3.11/dist-packages (from matplotlib>=3.3.0->ultralytics) (0.12.1)\n",
            "Requirement already satisfied: fonttools>=4.22.0 in /usr/local/lib/python3.11/dist-packages (from matplotlib>=3.3.0->ultralytics) (4.56.0)\n",
            "Requirement already satisfied: kiwisolver>=1.3.1 in /usr/local/lib/python3.11/dist-packages (from matplotlib>=3.3.0->ultralytics) (1.4.8)\n",
            "Requirement already satisfied: pyparsing>=2.3.1 in /usr/local/lib/python3.11/dist-packages (from matplotlib>=3.3.0->ultralytics) (3.2.1)\n",
            "Requirement already satisfied: python-dateutil>=2.7 in /usr/local/lib/python3.11/dist-packages (from matplotlib>=3.3.0->ultralytics) (2.8.2)\n",
            "Requirement already satisfied: pytz>=2020.1 in /usr/local/lib/python3.11/dist-packages (from pandas>=1.1.4->ultralytics) (2025.1)\n",
            "Requirement already satisfied: tzdata>=2022.7 in /usr/local/lib/python3.11/dist-packages (from pandas>=1.1.4->ultralytics) (2025.1)\n",
            "Requirement already satisfied: charset-normalizer<4,>=2 in /usr/local/lib/python3.11/dist-packages (from requests>=2.23.0->ultralytics) (3.4.1)\n",
            "Requirement already satisfied: idna<4,>=2.5 in /usr/local/lib/python3.11/dist-packages (from requests>=2.23.0->ultralytics) (3.10)\n",
            "Requirement already satisfied: urllib3<3,>=1.21.1 in /usr/local/lib/python3.11/dist-packages (from requests>=2.23.0->ultralytics) (2.3.0)\n",
            "Requirement already satisfied: certifi>=2017.4.17 in /usr/local/lib/python3.11/dist-packages (from requests>=2.23.0->ultralytics) (2025.1.31)\n",
            "Requirement already satisfied: soupsieve>1.2 in /usr/local/lib/python3.11/dist-packages (from beautifulsoup4->gdown) (2.6)\n",
            "Requirement already satisfied: MarkupSafe>=2.0 in /usr/local/lib/python3.11/dist-packages (from jinja2->torch) (3.0.2)\n",
            "Requirement already satisfied: PySocks!=1.5.7,>=1.5.6 in /usr/local/lib/python3.11/dist-packages (from requests[socks]->gdown) (1.7.1)\n",
            "Requirement already satisfied: six>=1.5 in /usr/local/lib/python3.11/dist-packages (from python-dateutil>=2.7->matplotlib>=3.3.0->ultralytics) (1.17.0)\n",
            "Downloading ultralytics-8.3.86-py3-none-any.whl (922 kB)\n",
            "\u001b[2K   \u001b[90m━━━━━━━━━━━━━━━━━━━━━━━━━━━━━━━━━━━━━━━━\u001b[0m \u001b[32m922.6/922.6 kB\u001b[0m \u001b[31m26.5 MB/s\u001b[0m eta \u001b[36m0:00:00\u001b[0m\n",
            "\u001b[?25hDownloading nvidia_cublas_cu12-12.4.5.8-py3-none-manylinux2014_x86_64.whl (363.4 MB)\n",
            "\u001b[2K   \u001b[90m━━━━━━━━━━━━━━━━━━━━━━━━━━━━━━━━━━━━━━━━\u001b[0m \u001b[32m363.4/363.4 MB\u001b[0m \u001b[31m4.4 MB/s\u001b[0m eta \u001b[36m0:00:00\u001b[0m\n",
            "\u001b[?25hDownloading nvidia_cuda_cupti_cu12-12.4.127-py3-none-manylinux2014_x86_64.whl (13.8 MB)\n",
            "\u001b[2K   \u001b[90m━━━━━━━━━━━━━━━━━━━━━━━━━━━━━━━━━━━━━━━━\u001b[0m \u001b[32m13.8/13.8 MB\u001b[0m \u001b[31m97.1 MB/s\u001b[0m eta \u001b[36m0:00:00\u001b[0m\n",
            "\u001b[?25hDownloading nvidia_cuda_nvrtc_cu12-12.4.127-py3-none-manylinux2014_x86_64.whl (24.6 MB)\n",
            "\u001b[2K   \u001b[90m━━━━━━━━━━━━━━━━━━━━━━━━━━━━━━━━━━━━━━━━\u001b[0m \u001b[32m24.6/24.6 MB\u001b[0m \u001b[31m28.4 MB/s\u001b[0m eta \u001b[36m0:00:00\u001b[0m\n",
            "\u001b[?25hDownloading nvidia_cuda_runtime_cu12-12.4.127-py3-none-manylinux2014_x86_64.whl (883 kB)\n",
            "\u001b[2K   \u001b[90m━━━━━━━━━━━━━━━━━━━━━━━━━━━━━━━━━━━━━━━━\u001b[0m \u001b[32m883.7/883.7 kB\u001b[0m \u001b[31m50.8 MB/s\u001b[0m eta \u001b[36m0:00:00\u001b[0m\n",
            "\u001b[?25hDownloading nvidia_cudnn_cu12-9.1.0.70-py3-none-manylinux2014_x86_64.whl (664.8 MB)\n",
            "\u001b[2K   \u001b[90m━━━━━━━━━━━━━━━━━━━━━━━━━━━━━━━━━━━━━━━━\u001b[0m \u001b[32m664.8/664.8 MB\u001b[0m \u001b[31m2.0 MB/s\u001b[0m eta \u001b[36m0:00:00\u001b[0m\n",
            "\u001b[?25hDownloading nvidia_cufft_cu12-11.2.1.3-py3-none-manylinux2014_x86_64.whl (211.5 MB)\n",
            "\u001b[2K   \u001b[90m━━━━━━━━━━━━━━━━━━━━━━━━━━━━━━━━━━━━━━━━\u001b[0m \u001b[32m211.5/211.5 MB\u001b[0m \u001b[31m5.2 MB/s\u001b[0m eta \u001b[36m0:00:00\u001b[0m\n",
            "\u001b[?25hDownloading nvidia_curand_cu12-10.3.5.147-py3-none-manylinux2014_x86_64.whl (56.3 MB)\n",
            "\u001b[2K   \u001b[90m━━━━━━━━━━━━━━━━━━━━━━━━━━━━━━━━━━━━━━━━\u001b[0m \u001b[32m56.3/56.3 MB\u001b[0m \u001b[31m9.9 MB/s\u001b[0m eta \u001b[36m0:00:00\u001b[0m\n",
            "\u001b[?25hDownloading nvidia_cusolver_cu12-11.6.1.9-py3-none-manylinux2014_x86_64.whl (127.9 MB)\n",
            "\u001b[2K   \u001b[90m━━━━━━━━━━━━━━━━━━━━━━━━━━━━━━━━━━━━━━━━\u001b[0m \u001b[32m127.9/127.9 MB\u001b[0m \u001b[31m8.6 MB/s\u001b[0m eta \u001b[36m0:00:00\u001b[0m\n",
            "\u001b[?25hDownloading nvidia_cusparse_cu12-12.3.1.170-py3-none-manylinux2014_x86_64.whl (207.5 MB)\n",
            "\u001b[2K   \u001b[90m━━━━━━━━━━━━━━━━━━━━━━━━━━━━━━━━━━━━━━━━\u001b[0m \u001b[32m207.5/207.5 MB\u001b[0m \u001b[31m4.8 MB/s\u001b[0m eta \u001b[36m0:00:00\u001b[0m\n",
            "\u001b[?25hDownloading nvidia_nvjitlink_cu12-12.4.127-py3-none-manylinux2014_x86_64.whl (21.1 MB)\n",
            "\u001b[2K   \u001b[90m━━━━━━━━━━━━━━━━━━━━━━━━━━━━━━━━━━━━━━━━\u001b[0m \u001b[32m21.1/21.1 MB\u001b[0m \u001b[31m56.1 MB/s\u001b[0m eta \u001b[36m0:00:00\u001b[0m\n",
            "\u001b[?25hDownloading pytesseract-0.3.13-py3-none-any.whl (14 kB)\n",
            "Downloading ultralytics_thop-2.0.14-py3-none-any.whl (26 kB)\n",
            "Installing collected packages: pytesseract, nvidia-nvjitlink-cu12, nvidia-curand-cu12, nvidia-cufft-cu12, nvidia-cuda-runtime-cu12, nvidia-cuda-nvrtc-cu12, nvidia-cuda-cupti-cu12, nvidia-cublas-cu12, nvidia-cusparse-cu12, nvidia-cudnn-cu12, nvidia-cusolver-cu12, ultralytics-thop, ultralytics\n",
            "  Attempting uninstall: nvidia-nvjitlink-cu12\n",
            "    Found existing installation: nvidia-nvjitlink-cu12 12.5.82\n",
            "    Uninstalling nvidia-nvjitlink-cu12-12.5.82:\n",
            "      Successfully uninstalled nvidia-nvjitlink-cu12-12.5.82\n",
            "  Attempting uninstall: nvidia-curand-cu12\n",
            "    Found existing installation: nvidia-curand-cu12 10.3.6.82\n",
            "    Uninstalling nvidia-curand-cu12-10.3.6.82:\n",
            "      Successfully uninstalled nvidia-curand-cu12-10.3.6.82\n",
            "  Attempting uninstall: nvidia-cufft-cu12\n",
            "    Found existing installation: nvidia-cufft-cu12 11.2.3.61\n",
            "    Uninstalling nvidia-cufft-cu12-11.2.3.61:\n",
            "      Successfully uninstalled nvidia-cufft-cu12-11.2.3.61\n",
            "  Attempting uninstall: nvidia-cuda-runtime-cu12\n",
            "    Found existing installation: nvidia-cuda-runtime-cu12 12.5.82\n",
            "    Uninstalling nvidia-cuda-runtime-cu12-12.5.82:\n",
            "      Successfully uninstalled nvidia-cuda-runtime-cu12-12.5.82\n",
            "  Attempting uninstall: nvidia-cuda-nvrtc-cu12\n",
            "    Found existing installation: nvidia-cuda-nvrtc-cu12 12.5.82\n",
            "    Uninstalling nvidia-cuda-nvrtc-cu12-12.5.82:\n",
            "      Successfully uninstalled nvidia-cuda-nvrtc-cu12-12.5.82\n",
            "  Attempting uninstall: nvidia-cuda-cupti-cu12\n",
            "    Found existing installation: nvidia-cuda-cupti-cu12 12.5.82\n",
            "    Uninstalling nvidia-cuda-cupti-cu12-12.5.82:\n",
            "      Successfully uninstalled nvidia-cuda-cupti-cu12-12.5.82\n",
            "  Attempting uninstall: nvidia-cublas-cu12\n",
            "    Found existing installation: nvidia-cublas-cu12 12.5.3.2\n",
            "    Uninstalling nvidia-cublas-cu12-12.5.3.2:\n",
            "      Successfully uninstalled nvidia-cublas-cu12-12.5.3.2\n",
            "  Attempting uninstall: nvidia-cusparse-cu12\n",
            "    Found existing installation: nvidia-cusparse-cu12 12.5.1.3\n",
            "    Uninstalling nvidia-cusparse-cu12-12.5.1.3:\n",
            "      Successfully uninstalled nvidia-cusparse-cu12-12.5.1.3\n",
            "  Attempting uninstall: nvidia-cudnn-cu12\n",
            "    Found existing installation: nvidia-cudnn-cu12 9.3.0.75\n",
            "    Uninstalling nvidia-cudnn-cu12-9.3.0.75:\n",
            "      Successfully uninstalled nvidia-cudnn-cu12-9.3.0.75\n",
            "  Attempting uninstall: nvidia-cusolver-cu12\n",
            "    Found existing installation: nvidia-cusolver-cu12 11.6.3.83\n",
            "    Uninstalling nvidia-cusolver-cu12-11.6.3.83:\n",
            "      Successfully uninstalled nvidia-cusolver-cu12-11.6.3.83\n",
            "Successfully installed nvidia-cublas-cu12-12.4.5.8 nvidia-cuda-cupti-cu12-12.4.127 nvidia-cuda-nvrtc-cu12-12.4.127 nvidia-cuda-runtime-cu12-12.4.127 nvidia-cudnn-cu12-9.1.0.70 nvidia-cufft-cu12-11.2.1.3 nvidia-curand-cu12-10.3.5.147 nvidia-cusolver-cu12-11.6.1.9 nvidia-cusparse-cu12-12.3.1.170 nvidia-nvjitlink-cu12-12.4.127 pytesseract-0.3.13 ultralytics-8.3.86 ultralytics-thop-2.0.14\n",
            "Creating new Ultralytics Settings v0.0.6 file ✅ \n",
            "View Ultralytics Settings with 'yolo settings' or at '/root/.config/Ultralytics/settings.json'\n",
            "Update Settings with 'yolo settings key=value', i.e. 'yolo settings runs_dir=path/to/dir'. For help see https://docs.ultralytics.com/quickstart/#ultralytics-settings.\n",
            "Mounted at /content/drive\n",
            "Train Images: ['Cars329.png', 'Cars32.png', 'Cars189.png', 'Cars21.png', 'Cars263.png', 'Cars300.png', 'Cars38.png', 'Cars383.png', 'Cars80.png', 'Cars315.png', 'Cars319.png', 'Cars279.png', 'Cars355.png', 'Cars351.png', 'Cars405.png', 'Cars121.png', 'Cars56.png', 'Cars228.png', 'Cars39.png', 'Cars143.png', 'Cars298.png', 'Cars328.png', 'Cars401.png', 'Cars90.png', 'Cars295.png', 'Cars167.png', 'Cars28.png', 'Cars253.png', 'Cars326.png', 'Cars248.png', 'Cars102.png', 'Cars238.png', 'Cars124.png', 'Cars155.png', 'Cars84.png', 'Cars135.png', 'Cars366.png', 'Cars22.png', 'Cars37.png', 'Cars304.png', 'Cars213.png', 'Cars168.png', 'Cars317.png', 'Cars158.png', 'Cars346.png', 'Cars59.png', 'Cars67.png', 'Cars82.png', 'Cars50.png', 'Cars392.png', 'Cars4.png', 'Cars41.png', 'Cars98.png', 'Cars347.png', 'Cars254.png', 'Cars181.png', 'Cars413.png', 'Cars217.png', 'Cars101.png', 'Cars8.png', 'Cars289.png', 'Cars186.png', 'Cars14.png', 'Cars242.png', 'Cars95.png', 'Cars214.png', 'Cars416.png', 'Cars418.png', 'Cars221.png', 'Cars177.png', 'Cars432.png', 'Cars256.png', 'Cars200.png', 'Cars198.png', 'Cars376.png', 'Cars48.png', 'Cars147.png', 'Cars232.png', 'Cars245.png', 'Cars266.png', 'Cars161.png', 'Cars384.png', 'Cars391.png', 'Cars312.png', 'Cars94.png', 'Cars269.png', 'Cars276.png', 'Cars184.png', 'Cars394.png', 'Cars115.png', 'Cars251.png', 'Cars46.png', 'Cars311.png', 'Cars402.png', 'Cars88.png', 'Cars338.png', 'Cars118.png', 'Cars224.png', 'Cars116.png', 'Cars426.png', 'Cars275.png', 'Cars410.png', 'Cars131.png', 'Cars149.png', 'Cars265.png', 'Cars412.png', 'Cars225.png', 'Cars281.png', 'Cars325.png', 'Cars160.png', 'Cars340.png', 'Cars6.png', 'Cars368.png', 'Cars197.png', 'Cars11.png', 'Cars66.png', 'Cars212.png', 'Cars257.png', 'Cars74.png', 'Cars87.png', 'Cars185.png', 'Cars264.png', 'Cars63.png', 'Cars322.png', 'Cars345.png', 'Cars64.png', 'Cars305.png', 'Cars226.png', 'Cars375.png', 'Cars246.png', 'Cars183.png', 'Cars372.png', 'Cars423.png', 'Cars120.png', 'Cars258.png', 'Cars134.png', 'Cars2.png', 'Cars237.png', 'Cars69.png', 'Cars373.png', 'Cars360.png', 'Cars144.png', 'Cars429.png', 'Cars422.png', 'Cars377.png', 'Cars358.png', 'Cars427.png', 'Cars78.png', 'Cars52.png', 'Cars111.png', 'Cars421.png', 'Cars318.png', 'Cars382.png', 'Cars173.png', 'Cars280.png', 'Cars223.png', 'Cars398.png', 'Cars122.png', 'Cars171.png', 'Cars123.png', 'Cars361.png', 'Cars388.png', 'Cars196.png', 'Cars33.png', 'Cars424.png', 'Cars243.png', 'Cars141.png', 'Cars54.png', 'Cars145.png', 'Cars154.png', 'Cars60.png', 'Cars207.png', 'Cars367.png', 'Cars282.png', 'Cars42.png', 'Cars29.png', 'Cars7.png', 'Cars172.png', 'Cars76.png', 'Cars19.png', 'Cars109.png', 'Cars323.png', 'Cars169.png', 'Cars190.png', 'Cars182.png', 'Cars362.png', 'Cars179.png', 'Cars113.png', 'Cars205.png', 'Cars188.png', 'Cars193.png', 'Cars208.png', 'Cars365.png', 'Cars138.png', 'Cars47.png', 'Cars133.png', 'Cars231.png', 'Cars97.png', 'Cars327.png', 'Cars53.png', 'Cars399.png', 'Cars148.png', 'Cars425.png', 'Cars307.png', 'Cars287.png', 'Cars132.png', 'Cars292.png', 'Cars294.png', 'Cars378.png', 'Cars233.png', 'Cars239.png', 'Cars284.png', 'Cars125.png', 'Cars219.png', 'Cars16.png', 'Cars68.png', 'Cars71.png', 'Cars142.png', 'Cars20.png', 'Cars13.png', 'Cars308.png', 'Cars396.png', 'Cars330.png', 'Cars414.png', 'Cars390.png', 'Cars216.png', 'Cars285.png', 'Cars314.png', 'Cars324.png', 'Cars339.png', 'Cars86.png', 'Cars215.png', 'Cars166.png', 'Cars211.png', 'Cars187.png', 'Cars428.png', 'Cars30.png', 'Cars261.png', 'Cars23.png', 'Cars57.png', 'Cars321.png', 'Cars25.png', 'Cars403.png', 'Cars259.png', 'Cars139.png', 'Cars114.png', 'Cars45.png', 'Cars267.png', 'Cars108.png', 'Cars61.png', 'Cars99.png', 'Cars409.png', 'Cars51.png', 'Cars100.png', 'Cars271.png', 'Cars278.png', 'Cars151.png', 'Cars137.png', 'Cars5.png', 'Cars107.png', 'Cars260.png', 'Cars356.png', 'Cars369.png', 'Cars247.png', 'Cars332.png', 'Cars218.png', 'Cars336.png', 'Cars353.png', 'Cars250.png', 'Cars110.png', 'Cars129.png', 'Cars55.png', 'Cars210.png', 'Cars105.png', 'Cars75.png', 'Cars273.png', 'Cars316.png', 'Cars406.png', 'Cars31.png', 'Cars381.png', 'Cars3.png', 'Cars119.png', 'Cars81.png', 'Cars371.png', 'Cars72.png', 'Cars199.png', 'Cars393.png', 'Cars303.png', 'Cars240.png', 'Cars244.png', 'Cars163.png', 'Cars357.png', 'Cars175.png', 'Cars0.png', 'Cars43.png', 'Cars277.png', 'Cars359.png', 'Cars268.png', 'Cars395.png', 'Cars337.png', 'Cars415.png', 'Cars404.png', 'Cars333.png', 'Cars222.png', 'Cars176.png', 'Cars85.png', 'Cars229.png', 'Cars191.png', 'Cars73.png', 'Cars270.png', 'Cars380.png', 'Cars349.png', 'Cars150.png', 'Cars331.png', 'Cars334.png', 'Cars236.png', 'Cars320.png', 'Cars62.png', 'Cars286.png', 'Cars178.png', 'Cars420.png', 'Cars252.png', 'Cars352.png', 'Cars44.png', 'Cars36.png', 'Cars194.png', 'Cars174.png', 'Cars18.png', 'Cars397.png', 'Cars291.png', 'Cars299.png', 'Cars290.png', 'Cars34.png', 'Cars206.png', 'Cars235.png', 'Cars203.png', 'Cars96.png', 'Cars387.png', 'Cars431.png', 'Cars162.png', 'Cars1.png', 'Cars230.png', 'Cars344.png', 'Cars227.png', 'Cars26.png', 'Cars136.png']\n",
            "Val Images: ['Cars93.png', 'Cars58.png', 'Cars234.png', 'Cars309.png', 'Cars126.png', 'Cars354.png', 'Cars204.png', 'Cars180.png', 'Cars112.png', 'Cars49.png', 'Cars283.png', 'Cars91.png', 'Cars341.png', 'Cars419.png', 'Cars92.png', 'Cars77.png', 'Cars130.png', 'Cars70.png', 'Cars153.png', 'Cars170.png', 'Cars12.png', 'Cars140.png', 'Cars24.png', 'Cars364.png', 'Cars195.png', 'Cars201.png', 'Cars313.png', 'Cars293.png', 'Cars164.png', 'Cars274.png', 'Cars374.png', 'Cars302.png', 'Cars379.png', 'Cars152.png', 'Cars262.png', 'Cars363.png', 'Cars389.png', 'Cars342.png', 'Cars348.png', 'Cars104.png', 'Cars411.png', 'Cars301.png', 'Cars192.png', 'Cars288.png', 'Cars156.png', 'Cars146.png', 'Cars40.png', 'Cars249.png', 'Cars35.png', 'Cars296.png', 'Cars306.png', 'Cars400.png', 'Cars165.png', 'Cars83.png', 'Cars255.png', 'Cars15.png', 'Cars127.png', 'Cars430.png', 'Cars106.png', 'Cars297.png', 'Cars335.png', 'Cars65.png', 'Cars417.png', 'Cars10.png', 'Cars79.png', 'Cars128.png', 'Cars220.png', 'Cars202.png', 'Cars407.png', 'Cars408.png', 'Cars159.png', 'Cars89.png', 'Cars310.png', 'Cars343.png', 'Cars27.png', 'Cars117.png', 'Cars157.png', 'Cars9.png', 'Cars272.png', 'Cars103.png', 'Cars386.png', 'Cars385.png', 'Cars370.png', 'Cars209.png', 'Cars241.png', 'Cars350.png', 'Cars17.png']\n",
            "Downloading https://github.com/ultralytics/assets/releases/download/v8.3.0/yolov8n.pt to 'yolov8n.pt'...\n"
          ]
        },
        {
          "metadata": {
            "tags": null
          },
          "name": "stderr",
          "output_type": "stream",
          "text": [
            "100%|██████████| 6.25M/6.25M [00:00<00:00, 190MB/s]\n"
          ]
        },
        {
          "metadata": {
            "tags": null
          },
          "name": "stdout",
          "output_type": "stream",
          "text": [
            "Ultralytics 8.3.86 🚀 Python-3.11.11 torch-2.5.1+cu124 CPU (Intel Xeon 2.20GHz)\n",
            "\u001b[34m\u001b[1mengine/trainer: \u001b[0mtask=detect, mode=train, model=yolov8n.pt, data=/content/drive/MyDrive/license_plate_recognition/license_plate.yaml, epochs=50, time=None, patience=100, batch=16, imgsz=640, save=True, save_period=-1, cache=False, device=None, workers=4, project=None, name=train, exist_ok=False, pretrained=True, optimizer=auto, verbose=True, seed=0, deterministic=True, single_cls=False, rect=False, cos_lr=False, close_mosaic=10, resume=False, amp=True, fraction=1.0, profile=False, freeze=None, multi_scale=False, overlap_mask=True, mask_ratio=4, dropout=0.0, val=True, split=val, save_json=False, save_hybrid=False, conf=None, iou=0.7, max_det=300, half=False, dnn=False, plots=True, source=None, vid_stride=1, stream_buffer=False, visualize=False, augment=False, agnostic_nms=False, classes=None, retina_masks=False, embed=None, show=False, save_frames=False, save_txt=False, save_conf=False, save_crop=False, show_labels=True, show_conf=True, show_boxes=True, line_width=None, format=torchscript, keras=False, optimize=False, int8=False, dynamic=False, simplify=True, opset=None, workspace=None, nms=False, lr0=0.01, lrf=0.01, momentum=0.937, weight_decay=0.0005, warmup_epochs=3.0, warmup_momentum=0.8, warmup_bias_lr=0.1, box=7.5, cls=0.5, dfl=1.5, pose=12.0, kobj=1.0, nbs=64, hsv_h=0.015, hsv_s=0.7, hsv_v=0.4, degrees=0.0, translate=0.1, scale=0.5, shear=0.0, perspective=0.0, flipud=0.0, fliplr=0.5, bgr=0.0, mosaic=1.0, mixup=0.0, copy_paste=0.0, copy_paste_mode=flip, auto_augment=randaugment, erasing=0.4, crop_fraction=1.0, cfg=None, tracker=botsort.yaml, save_dir=runs/detect/train\n",
            "Downloading https://ultralytics.com/assets/Arial.ttf to '/root/.config/Ultralytics/Arial.ttf'...\n"
          ]
        },
        {
          "metadata": {
            "tags": null
          },
          "name": "stderr",
          "output_type": "stream",
          "text": [
            "100%|██████████| 755k/755k [00:00<00:00, 94.6MB/s]\n"
          ]
        },
        {
          "metadata": {
            "tags": null
          },
          "name": "stdout",
          "output_type": "stream",
          "text": [
            "Overriding model.yaml nc=80 with nc=1\n",
            "\n",
            "                   from  n    params  module                                       arguments                     \n",
            "  0                  -1  1       464  ultralytics.nn.modules.conv.Conv             [3, 16, 3, 2]                 \n",
            "  1                  -1  1      4672  ultralytics.nn.modules.conv.Conv             [16, 32, 3, 2]                \n",
            "  2                  -1  1      7360  ultralytics.nn.modules.block.C2f             [32, 32, 1, True]             \n",
            "  3                  -1  1     18560  ultralytics.nn.modules.conv.Conv             [32, 64, 3, 2]                \n",
            "  4                  -1  2     49664  ultralytics.nn.modules.block.C2f             [64, 64, 2, True]             \n",
            "  5                  -1  1     73984  ultralytics.nn.modules.conv.Conv             [64, 128, 3, 2]               \n",
            "  6                  -1  2    197632  ultralytics.nn.modules.block.C2f             [128, 128, 2, True]           \n",
            "  7                  -1  1    295424  ultralytics.nn.modules.conv.Conv             [128, 256, 3, 2]              \n",
            "  8                  -1  1    460288  ultralytics.nn.modules.block.C2f             [256, 256, 1, True]           \n",
            "  9                  -1  1    164608  ultralytics.nn.modules.block.SPPF            [256, 256, 5]                 \n",
            " 10                  -1  1         0  torch.nn.modules.upsampling.Upsample         [None, 2, 'nearest']          \n",
            " 11             [-1, 6]  1         0  ultralytics.nn.modules.conv.Concat           [1]                           \n",
            " 12                  -1  1    148224  ultralytics.nn.modules.block.C2f             [384, 128, 1]                 \n",
            " 13                  -1  1         0  torch.nn.modules.upsampling.Upsample         [None, 2, 'nearest']          \n",
            " 14             [-1, 4]  1         0  ultralytics.nn.modules.conv.Concat           [1]                           \n",
            " 15                  -1  1     37248  ultralytics.nn.modules.block.C2f             [192, 64, 1]                  \n",
            " 16                  -1  1     36992  ultralytics.nn.modules.conv.Conv             [64, 64, 3, 2]                \n",
            " 17            [-1, 12]  1         0  ultralytics.nn.modules.conv.Concat           [1]                           \n",
            " 18                  -1  1    123648  ultralytics.nn.modules.block.C2f             [192, 128, 1]                 \n",
            " 19                  -1  1    147712  ultralytics.nn.modules.conv.Conv             [128, 128, 3, 2]              \n",
            " 20             [-1, 9]  1         0  ultralytics.nn.modules.conv.Concat           [1]                           \n",
            " 21                  -1  1    493056  ultralytics.nn.modules.block.C2f             [384, 256, 1]                 \n",
            " 22        [15, 18, 21]  1    751507  ultralytics.nn.modules.head.Detect           [1, [64, 128, 256]]           \n",
            "Model summary: 129 layers, 3,011,043 parameters, 3,011,027 gradients, 8.2 GFLOPs\n",
            "\n",
            "Transferred 319/355 items from pretrained weights\n",
            "\u001b[34m\u001b[1mTensorBoard: \u001b[0mStart with 'tensorboard --logdir runs/detect/train', view at http://localhost:6006/\n",
            "Freezing layer 'model.22.dfl.conv.weight'\n"
          ]
        },
        {
          "metadata": {
            "tags": null
          },
          "name": "stderr",
          "output_type": "stream",
          "text": [
            "\u001b[34m\u001b[1mtrain: \u001b[0mScanning /content/drive/MyDrive/license_plate_recognition/labels/train.cache... 346 images, 0 backgrounds, 0 corrupt: 100%|██████████| 346/346 [00:00<?, ?it/s]\n"
          ]
        },
        {
          "metadata": {
            "tags": null
          },
          "name": "stdout",
          "output_type": "stream",
          "text": [
            "\u001b[34m\u001b[1malbumentations: \u001b[0mBlur(p=0.01, blur_limit=(3, 7)), MedianBlur(p=0.01, blur_limit=(3, 7)), ToGray(p=0.01, num_output_channels=3, method='weighted_average'), CLAHE(p=0.01, clip_limit=(1.0, 4.0), tile_grid_size=(8, 8))\n"
          ]
        },
        {
          "metadata": {
            "tags": null
          },
          "name": "stderr",
          "output_type": "stream",
          "text": [
            "\u001b[34m\u001b[1mval: \u001b[0mScanning /content/drive/MyDrive/license_plate_recognition/labels/val.cache... 87 images, 0 backgrounds, 0 corrupt: 100%|██████████| 87/87 [00:00<?, ?it/s]\n"
          ]
        },
        {
          "metadata": {
            "tags": null
          },
          "name": "stdout",
          "output_type": "stream",
          "text": [
            "Plotting labels to runs/detect/train/labels.jpg... \n",
            "\u001b[34m\u001b[1moptimizer:\u001b[0m 'optimizer=auto' found, ignoring 'lr0=0.01' and 'momentum=0.937' and determining best 'optimizer', 'lr0' and 'momentum' automatically... \n",
            "\u001b[34m\u001b[1moptimizer:\u001b[0m AdamW(lr=0.002, momentum=0.9) with parameter groups 57 weight(decay=0.0), 64 weight(decay=0.0005), 63 bias(decay=0.0)\n",
            "\u001b[34m\u001b[1mTensorBoard: \u001b[0mmodel graph visualization added ✅\n",
            "Image sizes 640 train, 640 val\n",
            "Using 0 dataloader workers\n",
            "Logging results to \u001b[1mruns/detect/train\u001b[0m\n",
            "Starting training for 50 epochs...\n",
            "\n",
            "      Epoch    GPU_mem   box_loss   cls_loss   dfl_loss  Instances       Size\n"
          ]
        },
        {
          "metadata": {
            "tags": null
          },
          "name": "stderr",
          "output_type": "stream",
          "text": [
            "       1/50         0G       1.48      2.957      1.282         12        640: 100%|██████████| 22/22 [04:37<00:00, 12.63s/it]\n",
            "                 Class     Images  Instances      Box(P          R      mAP50  mAP50-95): 100%|██████████| 3/3 [00:20<00:00,  6.74s/it]"
          ]
        },
        {
          "metadata": {
            "tags": null
          },
          "name": "stdout",
          "output_type": "stream",
          "text": [
            "                   all         87         87    0.00326      0.977      0.606      0.313\n"
          ]
        },
        {
          "metadata": {
            "tags": null
          },
          "name": "stderr",
          "output_type": "stream",
          "text": [
            "\n"
          ]
        },
        {
          "metadata": {
            "tags": null
          },
          "name": "stdout",
          "output_type": "stream",
          "text": [
            "\n",
            "      Epoch    GPU_mem   box_loss   cls_loss   dfl_loss  Instances       Size\n"
          ]
        },
        {
          "metadata": {
            "tags": null
          },
          "name": "stderr",
          "output_type": "stream",
          "text": [
            "       2/50         0G      1.422      1.975      1.196         15        640: 100%|██████████| 22/22 [04:27<00:00, 12.18s/it]\n",
            "                 Class     Images  Instances      Box(P          R      mAP50  mAP50-95): 100%|██████████| 3/3 [00:19<00:00,  6.54s/it]"
          ]
        },
        {
          "metadata": {
            "tags": null
          },
          "name": "stdout",
          "output_type": "stream",
          "text": [
            "                   all         87         87     0.0109      0.713      0.219      0.132\n"
          ]
        },
        {
          "metadata": {
            "tags": null
          },
          "name": "stderr",
          "output_type": "stream",
          "text": [
            "\n"
          ]
        },
        {
          "metadata": {
            "tags": null
          },
          "name": "stdout",
          "output_type": "stream",
          "text": [
            "\n",
            "      Epoch    GPU_mem   box_loss   cls_loss   dfl_loss  Instances       Size\n"
          ]
        },
        {
          "metadata": {
            "tags": null
          },
          "name": "stderr",
          "output_type": "stream",
          "text": [
            "       3/50         0G      1.449       1.94      1.236         28        640: 100%|██████████| 22/22 [04:25<00:00, 12.07s/it]\n",
            "                 Class     Images  Instances      Box(P          R      mAP50  mAP50-95): 100%|██████████| 3/3 [00:25<00:00,  8.43s/it]"
          ]
        },
        {
          "metadata": {
            "tags": null
          },
          "name": "stdout",
          "output_type": "stream",
          "text": [
            "                   all         87         87      0.682      0.161      0.209      0.104\n"
          ]
        },
        {
          "metadata": {
            "tags": null
          },
          "name": "stderr",
          "output_type": "stream",
          "text": [
            "\n"
          ]
        },
        {
          "metadata": {
            "tags": null
          },
          "name": "stdout",
          "output_type": "stream",
          "text": [
            "\n",
            "      Epoch    GPU_mem   box_loss   cls_loss   dfl_loss  Instances       Size\n"
          ]
        },
        {
          "metadata": {
            "tags": null
          },
          "name": "stderr",
          "output_type": "stream",
          "text": [
            "       4/50         0G      1.478      1.784      1.298         18        640: 100%|██████████| 22/22 [04:28<00:00, 12.19s/it]\n",
            "                 Class     Images  Instances      Box(P          R      mAP50  mAP50-95): 100%|██████████| 3/3 [00:18<00:00,  6.27s/it]"
          ]
        },
        {
          "metadata": {
            "tags": null
          },
          "name": "stdout",
          "output_type": "stream",
          "text": [
            "                   all         87         87      0.714      0.517      0.557      0.294\n"
          ]
        },
        {
          "metadata": {
            "tags": null
          },
          "name": "stderr",
          "output_type": "stream",
          "text": [
            "\n"
          ]
        },
        {
          "metadata": {
            "tags": null
          },
          "name": "stdout",
          "output_type": "stream",
          "text": [
            "\n",
            "      Epoch    GPU_mem   box_loss   cls_loss   dfl_loss  Instances       Size\n"
          ]
        },
        {
          "metadata": {
            "tags": null
          },
          "name": "stderr",
          "output_type": "stream",
          "text": [
            "       5/50         0G      1.519      1.825      1.297         17        640: 100%|██████████| 22/22 [04:23<00:00, 11.96s/it]\n",
            "                 Class     Images  Instances      Box(P          R      mAP50  mAP50-95): 100%|██████████| 3/3 [00:19<00:00,  6.47s/it]"
          ]
        },
        {
          "metadata": {
            "tags": null
          },
          "name": "stdout",
          "output_type": "stream",
          "text": [
            "                   all         87         87      0.868      0.607      0.638       0.34\n"
          ]
        },
        {
          "metadata": {
            "tags": null
          },
          "name": "stderr",
          "output_type": "stream",
          "text": [
            "\n"
          ]
        },
        {
          "metadata": {
            "tags": null
          },
          "name": "stdout",
          "output_type": "stream",
          "text": [
            "\n",
            "      Epoch    GPU_mem   box_loss   cls_loss   dfl_loss  Instances       Size\n"
          ]
        },
        {
          "metadata": {
            "tags": null
          },
          "name": "stderr",
          "output_type": "stream",
          "text": [
            "       6/50         0G       1.53      1.641      1.277         18        640: 100%|██████████| 22/22 [04:27<00:00, 12.16s/it]\n",
            "                 Class     Images  Instances      Box(P          R      mAP50  mAP50-95): 100%|██████████| 3/3 [00:19<00:00,  6.46s/it]"
          ]
        },
        {
          "metadata": {
            "tags": null
          },
          "name": "stdout",
          "output_type": "stream",
          "text": [
            "                   all         87         87      0.805      0.663      0.713      0.372\n"
          ]
        },
        {
          "metadata": {
            "tags": null
          },
          "name": "stderr",
          "output_type": "stream",
          "text": [
            "\n"
          ]
        },
        {
          "metadata": {
            "tags": null
          },
          "name": "stdout",
          "output_type": "stream",
          "text": [
            "\n",
            "      Epoch    GPU_mem   box_loss   cls_loss   dfl_loss  Instances       Size\n"
          ]
        },
        {
          "metadata": {
            "tags": null
          },
          "name": "stderr",
          "output_type": "stream",
          "text": [
            "       7/50         0G      1.479      1.436      1.295         16        640: 100%|██████████| 22/22 [04:29<00:00, 12.23s/it]\n",
            "                 Class     Images  Instances      Box(P          R      mAP50  mAP50-95): 100%|██████████| 3/3 [00:18<00:00,  6.15s/it]"
          ]
        },
        {
          "metadata": {
            "tags": null
          },
          "name": "stdout",
          "output_type": "stream",
          "text": [
            "                   all         87         87      0.749      0.754      0.817      0.441\n"
          ]
        },
        {
          "metadata": {
            "tags": null
          },
          "name": "stderr",
          "output_type": "stream",
          "text": [
            "\n"
          ]
        },
        {
          "metadata": {
            "tags": null
          },
          "name": "stdout",
          "output_type": "stream",
          "text": [
            "\n",
            "      Epoch    GPU_mem   box_loss   cls_loss   dfl_loss  Instances       Size\n"
          ]
        },
        {
          "metadata": {
            "tags": null
          },
          "name": "stderr",
          "output_type": "stream",
          "text": [
            "       8/50         0G      1.496      1.427      1.284         18        640: 100%|██████████| 22/22 [04:24<00:00, 12.01s/it]\n",
            "                 Class     Images  Instances      Box(P          R      mAP50  mAP50-95): 100%|██████████| 3/3 [00:19<00:00,  6.50s/it]"
          ]
        },
        {
          "metadata": {
            "tags": null
          },
          "name": "stdout",
          "output_type": "stream",
          "text": [
            "                   all         87         87      0.899      0.621      0.791      0.455\n"
          ]
        },
        {
          "metadata": {
            "tags": null
          },
          "name": "stderr",
          "output_type": "stream",
          "text": [
            "\n"
          ]
        },
        {
          "metadata": {
            "tags": null
          },
          "name": "stdout",
          "output_type": "stream",
          "text": [
            "\n",
            "      Epoch    GPU_mem   box_loss   cls_loss   dfl_loss  Instances       Size\n"
          ]
        },
        {
          "metadata": {
            "tags": null
          },
          "name": "stderr",
          "output_type": "stream",
          "text": [
            "       9/50         0G      1.456      1.297      1.267         27        640: 100%|██████████| 22/22 [04:24<00:00, 12.02s/it]\n",
            "                 Class     Images  Instances      Box(P          R      mAP50  mAP50-95): 100%|██████████| 3/3 [00:19<00:00,  6.47s/it]"
          ]
        },
        {
          "metadata": {
            "tags": null
          },
          "name": "stdout",
          "output_type": "stream",
          "text": [
            "                   all         87         87      0.783      0.793      0.823      0.454\n"
          ]
        },
        {
          "metadata": {
            "tags": null
          },
          "name": "stderr",
          "output_type": "stream",
          "text": [
            "\n"
          ]
        },
        {
          "metadata": {
            "tags": null
          },
          "name": "stdout",
          "output_type": "stream",
          "text": [
            "\n",
            "      Epoch    GPU_mem   box_loss   cls_loss   dfl_loss  Instances       Size\n"
          ]
        },
        {
          "metadata": {
            "tags": null
          },
          "name": "stderr",
          "output_type": "stream",
          "text": [
            "      10/50         0G      1.465      1.308      1.259         18        640: 100%|██████████| 22/22 [04:24<00:00, 12.02s/it]\n",
            "                 Class     Images  Instances      Box(P          R      mAP50  mAP50-95): 100%|██████████| 3/3 [00:18<00:00,  6.10s/it]"
          ]
        },
        {
          "metadata": {
            "tags": null
          },
          "name": "stdout",
          "output_type": "stream",
          "text": [
            "                   all         87         87       0.83      0.785      0.869        0.5\n"
          ]
        },
        {
          "metadata": {
            "tags": null
          },
          "name": "stderr",
          "output_type": "stream",
          "text": [
            "\n"
          ]
        },
        {
          "metadata": {
            "tags": null
          },
          "name": "stdout",
          "output_type": "stream",
          "text": [
            "\n",
            "      Epoch    GPU_mem   box_loss   cls_loss   dfl_loss  Instances       Size\n"
          ]
        },
        {
          "metadata": {
            "tags": null
          },
          "name": "stderr",
          "output_type": "stream",
          "text": [
            "      11/50         0G      1.457      1.244      1.245         20        640: 100%|██████████| 22/22 [04:27<00:00, 12.15s/it]\n",
            "                 Class     Images  Instances      Box(P          R      mAP50  mAP50-95): 100%|██████████| 3/3 [00:18<00:00,  6.07s/it]"
          ]
        },
        {
          "metadata": {
            "tags": null
          },
          "name": "stdout",
          "output_type": "stream",
          "text": [
            "                   all         87         87      0.917      0.758      0.881      0.504\n"
          ]
        },
        {
          "metadata": {
            "tags": null
          },
          "name": "stderr",
          "output_type": "stream",
          "text": [
            "\n"
          ]
        },
        {
          "metadata": {
            "tags": null
          },
          "name": "stdout",
          "output_type": "stream",
          "text": [
            "\n",
            "      Epoch    GPU_mem   box_loss   cls_loss   dfl_loss  Instances       Size\n"
          ]
        },
        {
          "metadata": {
            "tags": null
          },
          "name": "stderr",
          "output_type": "stream",
          "text": [
            "      12/50         0G      1.384      1.137      1.221         20        640: 100%|██████████| 22/22 [04:26<00:00, 12.12s/it]\n",
            "                 Class     Images  Instances      Box(P          R      mAP50  mAP50-95): 100%|██████████| 3/3 [00:18<00:00,  6.21s/it]"
          ]
        },
        {
          "metadata": {
            "tags": null
          },
          "name": "stdout",
          "output_type": "stream",
          "text": [
            "                   all         87         87      0.732      0.846      0.858      0.479\n"
          ]
        },
        {
          "metadata": {
            "tags": null
          },
          "name": "stderr",
          "output_type": "stream",
          "text": [
            "\n"
          ]
        },
        {
          "metadata": {
            "tags": null
          },
          "name": "stdout",
          "output_type": "stream",
          "text": [
            "\n",
            "      Epoch    GPU_mem   box_loss   cls_loss   dfl_loss  Instances       Size\n"
          ]
        },
        {
          "metadata": {
            "tags": null
          },
          "name": "stderr",
          "output_type": "stream",
          "text": [
            "      13/50         0G        1.4      1.139      1.248         23        640: 100%|██████████| 22/22 [04:58<00:00, 13.58s/it]\n",
            "                 Class     Images  Instances      Box(P          R      mAP50  mAP50-95): 100%|██████████| 3/3 [00:18<00:00,  6.11s/it]"
          ]
        },
        {
          "metadata": {
            "tags": null
          },
          "name": "stdout",
          "output_type": "stream",
          "text": [
            "                   all         87         87       0.86      0.845      0.877       0.48\n"
          ]
        },
        {
          "metadata": {
            "tags": null
          },
          "name": "stderr",
          "output_type": "stream",
          "text": [
            "\n"
          ]
        },
        {
          "metadata": {
            "tags": null
          },
          "name": "stdout",
          "output_type": "stream",
          "text": [
            "\n",
            "      Epoch    GPU_mem   box_loss   cls_loss   dfl_loss  Instances       Size\n"
          ]
        },
        {
          "metadata": {
            "tags": null
          },
          "name": "stderr",
          "output_type": "stream",
          "text": [
            "      14/50         0G      1.324      1.097      1.209         21        640: 100%|██████████| 22/22 [04:26<00:00, 12.13s/it]\n",
            "                 Class     Images  Instances      Box(P          R      mAP50  mAP50-95): 100%|██████████| 3/3 [00:18<00:00,  6.16s/it]"
          ]
        },
        {
          "metadata": {
            "tags": null
          },
          "name": "stdout",
          "output_type": "stream",
          "text": [
            "                   all         87         87      0.909      0.805      0.906      0.503\n"
          ]
        },
        {
          "metadata": {
            "tags": null
          },
          "name": "stderr",
          "output_type": "stream",
          "text": [
            "\n"
          ]
        },
        {
          "metadata": {
            "tags": null
          },
          "name": "stdout",
          "output_type": "stream",
          "text": [
            "\n",
            "      Epoch    GPU_mem   box_loss   cls_loss   dfl_loss  Instances       Size\n"
          ]
        },
        {
          "metadata": {
            "tags": null
          },
          "name": "stderr",
          "output_type": "stream",
          "text": [
            "      15/50         0G      1.349       1.04       1.19         21        640: 100%|██████████| 22/22 [04:25<00:00, 12.05s/it]\n",
            "                 Class     Images  Instances      Box(P          R      mAP50  mAP50-95): 100%|██████████| 3/3 [00:18<00:00,  6.18s/it]"
          ]
        },
        {
          "metadata": {
            "tags": null
          },
          "name": "stdout",
          "output_type": "stream",
          "text": [
            "                   all         87         87      0.876      0.895      0.942      0.512\n"
          ]
        },
        {
          "metadata": {
            "tags": null
          },
          "name": "stderr",
          "output_type": "stream",
          "text": [
            "\n"
          ]
        },
        {
          "metadata": {
            "tags": null
          },
          "name": "stdout",
          "output_type": "stream",
          "text": [
            "\n",
            "      Epoch    GPU_mem   box_loss   cls_loss   dfl_loss  Instances       Size\n"
          ]
        },
        {
          "metadata": {
            "tags": null
          },
          "name": "stderr",
          "output_type": "stream",
          "text": [
            "      16/50         0G      1.365      1.025      1.229         15        640: 100%|██████████| 22/22 [04:27<00:00, 12.15s/it]\n",
            "                 Class     Images  Instances      Box(P          R      mAP50  mAP50-95): 100%|██████████| 3/3 [00:19<00:00,  6.47s/it]"
          ]
        },
        {
          "metadata": {
            "tags": null
          },
          "name": "stdout",
          "output_type": "stream",
          "text": [
            "                   all         87         87      0.936      0.841      0.926      0.543\n"
          ]
        },
        {
          "metadata": {
            "tags": null
          },
          "name": "stderr",
          "output_type": "stream",
          "text": [
            "\n"
          ]
        },
        {
          "metadata": {
            "tags": null
          },
          "name": "stdout",
          "output_type": "stream",
          "text": [
            "\n",
            "      Epoch    GPU_mem   box_loss   cls_loss   dfl_loss  Instances       Size\n"
          ]
        },
        {
          "metadata": {
            "tags": null
          },
          "name": "stderr",
          "output_type": "stream",
          "text": [
            "      17/50         0G      1.289     0.9504      1.181         19        640: 100%|██████████| 22/22 [04:24<00:00, 12.01s/it]\n",
            "                 Class     Images  Instances      Box(P          R      mAP50  mAP50-95): 100%|██████████| 3/3 [00:19<00:00,  6.45s/it]"
          ]
        },
        {
          "metadata": {
            "tags": null
          },
          "name": "stdout",
          "output_type": "stream",
          "text": [
            "                   all         87         87      0.882      0.948      0.948      0.543\n"
          ]
        },
        {
          "metadata": {
            "tags": null
          },
          "name": "stderr",
          "output_type": "stream",
          "text": [
            "\n"
          ]
        },
        {
          "metadata": {
            "tags": null
          },
          "name": "stdout",
          "output_type": "stream",
          "text": [
            "\n",
            "      Epoch    GPU_mem   box_loss   cls_loss   dfl_loss  Instances       Size\n"
          ]
        },
        {
          "metadata": {
            "tags": null
          },
          "name": "stderr",
          "output_type": "stream",
          "text": [
            "      18/50         0G      1.283     0.9518      1.181         23        640: 100%|██████████| 22/22 [04:22<00:00, 11.92s/it]\n",
            "                 Class     Images  Instances      Box(P          R      mAP50  mAP50-95): 100%|██████████| 3/3 [00:18<00:00,  6.07s/it]"
          ]
        },
        {
          "metadata": {
            "tags": null
          },
          "name": "stdout",
          "output_type": "stream",
          "text": [
            "                   all         87         87      0.837      0.885      0.909      0.521\n"
          ]
        },
        {
          "metadata": {
            "tags": null
          },
          "name": "stderr",
          "output_type": "stream",
          "text": [
            "\n"
          ]
        },
        {
          "metadata": {
            "tags": null
          },
          "name": "stdout",
          "output_type": "stream",
          "text": [
            "\n",
            "      Epoch    GPU_mem   box_loss   cls_loss   dfl_loss  Instances       Size\n"
          ]
        },
        {
          "metadata": {
            "tags": null
          },
          "name": "stderr",
          "output_type": "stream",
          "text": [
            "      19/50         0G      1.332      0.946      1.212         17        640: 100%|██████████| 22/22 [04:24<00:00, 12.02s/it]\n",
            "                 Class     Images  Instances      Box(P          R      mAP50  mAP50-95): 100%|██████████| 3/3 [00:18<00:00,  6.09s/it]"
          ]
        },
        {
          "metadata": {
            "tags": null
          },
          "name": "stdout",
          "output_type": "stream",
          "text": [
            "                   all         87         87      0.878      0.914      0.929      0.538\n"
          ]
        },
        {
          "metadata": {
            "tags": null
          },
          "name": "stderr",
          "output_type": "stream",
          "text": [
            "\n"
          ]
        },
        {
          "metadata": {
            "tags": null
          },
          "name": "stdout",
          "output_type": "stream",
          "text": [
            "\n",
            "      Epoch    GPU_mem   box_loss   cls_loss   dfl_loss  Instances       Size\n"
          ]
        },
        {
          "metadata": {
            "tags": null
          },
          "name": "stderr",
          "output_type": "stream",
          "text": [
            "      20/50         0G      1.296     0.9232      1.191         20        640: 100%|██████████| 22/22 [04:24<00:00, 12.01s/it]\n",
            "                 Class     Images  Instances      Box(P          R      mAP50  mAP50-95): 100%|██████████| 3/3 [00:18<00:00,  6.15s/it]"
          ]
        },
        {
          "metadata": {
            "tags": null
          },
          "name": "stdout",
          "output_type": "stream",
          "text": [
            "                   all         87         87      0.907      0.894       0.92      0.538\n"
          ]
        },
        {
          "metadata": {
            "tags": null
          },
          "name": "stderr",
          "output_type": "stream",
          "text": [
            "\n"
          ]
        },
        {
          "metadata": {
            "tags": null
          },
          "name": "stdout",
          "output_type": "stream",
          "text": [
            "\n",
            "      Epoch    GPU_mem   box_loss   cls_loss   dfl_loss  Instances       Size\n"
          ]
        },
        {
          "metadata": {
            "tags": null
          },
          "name": "stderr",
          "output_type": "stream",
          "text": [
            "      21/50         0G      1.279     0.8792      1.156         17        640: 100%|██████████| 22/22 [04:22<00:00, 11.92s/it]\n",
            "                 Class     Images  Instances      Box(P          R      mAP50  mAP50-95): 100%|██████████| 3/3 [00:20<00:00,  6.70s/it]"
          ]
        },
        {
          "metadata": {
            "tags": null
          },
          "name": "stdout",
          "output_type": "stream",
          "text": [
            "                   all         87         87      0.856       0.89      0.903      0.527\n"
          ]
        },
        {
          "metadata": {
            "tags": null
          },
          "name": "stderr",
          "output_type": "stream",
          "text": [
            "\n"
          ]
        },
        {
          "metadata": {
            "tags": null
          },
          "name": "stdout",
          "output_type": "stream",
          "text": [
            "\n",
            "      Epoch    GPU_mem   box_loss   cls_loss   dfl_loss  Instances       Size\n"
          ]
        },
        {
          "metadata": {
            "tags": null
          },
          "name": "stderr",
          "output_type": "stream",
          "text": [
            "      22/50         0G      1.285     0.8983      1.159         23        640: 100%|██████████| 22/22 [04:22<00:00, 11.91s/it]\n",
            "                 Class     Images  Instances      Box(P          R      mAP50  mAP50-95): 100%|██████████| 3/3 [00:17<00:00,  5.99s/it]"
          ]
        },
        {
          "metadata": {
            "tags": null
          },
          "name": "stdout",
          "output_type": "stream",
          "text": [
            "                   all         87         87      0.938      0.864      0.956      0.581\n"
          ]
        },
        {
          "metadata": {
            "tags": null
          },
          "name": "stderr",
          "output_type": "stream",
          "text": [
            "\n"
          ]
        },
        {
          "metadata": {
            "tags": null
          },
          "name": "stdout",
          "output_type": "stream",
          "text": [
            "\n",
            "      Epoch    GPU_mem   box_loss   cls_loss   dfl_loss  Instances       Size\n"
          ]
        },
        {
          "metadata": {
            "tags": null
          },
          "name": "stderr",
          "output_type": "stream",
          "text": [
            "      23/50         0G      1.257     0.8936      1.142         23        640: 100%|██████████| 22/22 [04:24<00:00, 12.02s/it]\n",
            "                 Class     Images  Instances      Box(P          R      mAP50  mAP50-95): 100%|██████████| 3/3 [00:18<00:00,  6.08s/it]"
          ]
        },
        {
          "metadata": {
            "tags": null
          },
          "name": "stdout",
          "output_type": "stream",
          "text": [
            "                   all         87         87      0.805      0.908      0.934      0.546\n"
          ]
        },
        {
          "metadata": {
            "tags": null
          },
          "name": "stderr",
          "output_type": "stream",
          "text": [
            "\n"
          ]
        },
        {
          "metadata": {
            "tags": null
          },
          "name": "stdout",
          "output_type": "stream",
          "text": [
            "\n",
            "      Epoch    GPU_mem   box_loss   cls_loss   dfl_loss  Instances       Size\n"
          ]
        },
        {
          "metadata": {
            "tags": null
          },
          "name": "stderr",
          "output_type": "stream",
          "text": [
            "      24/50         0G      1.251     0.8398      1.188         20        640: 100%|██████████| 22/22 [04:21<00:00, 11.90s/it]\n",
            "                 Class     Images  Instances      Box(P          R      mAP50  mAP50-95): 100%|██████████| 3/3 [00:19<00:00,  6.47s/it]"
          ]
        },
        {
          "metadata": {
            "tags": null
          },
          "name": "stdout",
          "output_type": "stream",
          "text": [
            "                   all         87         87       0.86      0.816      0.896      0.515\n"
          ]
        },
        {
          "metadata": {
            "tags": null
          },
          "name": "stderr",
          "output_type": "stream",
          "text": [
            "\n"
          ]
        },
        {
          "metadata": {
            "tags": null
          },
          "name": "stdout",
          "output_type": "stream",
          "text": [
            "\n",
            "      Epoch    GPU_mem   box_loss   cls_loss   dfl_loss  Instances       Size\n"
          ]
        },
        {
          "metadata": {
            "tags": null
          },
          "name": "stderr",
          "output_type": "stream",
          "text": [
            "      25/50         0G      1.217     0.8444      1.141         20        640: 100%|██████████| 22/22 [04:20<00:00, 11.82s/it]\n",
            "                 Class     Images  Instances      Box(P          R      mAP50  mAP50-95): 100%|██████████| 3/3 [00:18<00:00,  6.16s/it]"
          ]
        },
        {
          "metadata": {
            "tags": null
          },
          "name": "stdout",
          "output_type": "stream",
          "text": [
            "                   all         87         87      0.848      0.839      0.892      0.549\n"
          ]
        },
        {
          "metadata": {
            "tags": null
          },
          "name": "stderr",
          "output_type": "stream",
          "text": [
            "\n"
          ]
        },
        {
          "metadata": {
            "tags": null
          },
          "name": "stdout",
          "output_type": "stream",
          "text": [
            "\n",
            "      Epoch    GPU_mem   box_loss   cls_loss   dfl_loss  Instances       Size\n"
          ]
        },
        {
          "metadata": {
            "tags": null
          },
          "name": "stderr",
          "output_type": "stream",
          "text": [
            "      26/50         0G       1.17     0.8504      1.126         24        640: 100%|██████████| 22/22 [04:21<00:00, 11.88s/it]\n",
            "                 Class     Images  Instances      Box(P          R      mAP50  mAP50-95): 100%|██████████| 3/3 [00:19<00:00,  6.44s/it]"
          ]
        },
        {
          "metadata": {
            "tags": null
          },
          "name": "stdout",
          "output_type": "stream",
          "text": [
            "                   all         87         87      0.865      0.883      0.903      0.536\n"
          ]
        },
        {
          "metadata": {
            "tags": null
          },
          "name": "stderr",
          "output_type": "stream",
          "text": [
            "\n"
          ]
        },
        {
          "metadata": {
            "tags": null
          },
          "name": "stdout",
          "output_type": "stream",
          "text": [
            "\n",
            "      Epoch    GPU_mem   box_loss   cls_loss   dfl_loss  Instances       Size\n"
          ]
        },
        {
          "metadata": {
            "tags": null
          },
          "name": "stderr",
          "output_type": "stream",
          "text": [
            "      27/50         0G      1.216     0.8206      1.162         15        640: 100%|██████████| 22/22 [04:23<00:00, 11.96s/it]\n",
            "                 Class     Images  Instances      Box(P          R      mAP50  mAP50-95): 100%|██████████| 3/3 [00:19<00:00,  6.40s/it]"
          ]
        },
        {
          "metadata": {
            "tags": null
          },
          "name": "stdout",
          "output_type": "stream",
          "text": [
            "                   all         87         87      0.878      0.862      0.906      0.518\n"
          ]
        },
        {
          "metadata": {
            "tags": null
          },
          "name": "stderr",
          "output_type": "stream",
          "text": [
            "\n"
          ]
        },
        {
          "metadata": {
            "tags": null
          },
          "name": "stdout",
          "output_type": "stream",
          "text": [
            "\n",
            "      Epoch    GPU_mem   box_loss   cls_loss   dfl_loss  Instances       Size\n"
          ]
        },
        {
          "metadata": {
            "tags": null
          },
          "name": "stderr",
          "output_type": "stream",
          "text": [
            "      28/50         0G      1.215      0.831      1.152         13        640: 100%|██████████| 22/22 [04:21<00:00, 11.87s/it]\n",
            "                 Class     Images  Instances      Box(P          R      mAP50  mAP50-95): 100%|██████████| 3/3 [00:18<00:00,  6.09s/it]"
          ]
        },
        {
          "metadata": {
            "tags": null
          },
          "name": "stdout",
          "output_type": "stream",
          "text": [
            "                   all         87         87      0.864      0.851      0.907       0.55\n"
          ]
        },
        {
          "metadata": {
            "tags": null
          },
          "name": "stderr",
          "output_type": "stream",
          "text": [
            "\n"
          ]
        },
        {
          "metadata": {
            "tags": null
          },
          "name": "stdout",
          "output_type": "stream",
          "text": [
            "\n",
            "      Epoch    GPU_mem   box_loss   cls_loss   dfl_loss  Instances       Size\n"
          ]
        },
        {
          "metadata": {
            "tags": null
          },
          "name": "stderr",
          "output_type": "stream",
          "text": [
            "      29/50         0G      1.192     0.7909      1.143         23        640: 100%|██████████| 22/22 [04:25<00:00, 12.08s/it]\n",
            "                 Class     Images  Instances      Box(P          R      mAP50  mAP50-95): 100%|██████████| 3/3 [00:18<00:00,  6.24s/it]"
          ]
        },
        {
          "metadata": {
            "tags": null
          },
          "name": "stdout",
          "output_type": "stream",
          "text": [
            "                   all         87         87      0.851      0.916      0.933      0.574\n"
          ]
        },
        {
          "metadata": {
            "tags": null
          },
          "name": "stderr",
          "output_type": "stream",
          "text": [
            "\n"
          ]
        },
        {
          "metadata": {
            "tags": null
          },
          "name": "stdout",
          "output_type": "stream",
          "text": [
            "\n",
            "      Epoch    GPU_mem   box_loss   cls_loss   dfl_loss  Instances       Size\n"
          ]
        },
        {
          "metadata": {
            "tags": null
          },
          "name": "stderr",
          "output_type": "stream",
          "text": [
            "      30/50         0G      1.192     0.7784      1.119         22        640: 100%|██████████| 22/22 [04:26<00:00, 12.13s/it]\n",
            "                 Class     Images  Instances      Box(P          R      mAP50  mAP50-95): 100%|██████████| 3/3 [00:18<00:00,  6.07s/it]"
          ]
        },
        {
          "metadata": {
            "tags": null
          },
          "name": "stdout",
          "output_type": "stream",
          "text": [
            "                   all         87         87      0.919      0.874      0.959      0.519\n"
          ]
        },
        {
          "metadata": {
            "tags": null
          },
          "name": "stderr",
          "output_type": "stream",
          "text": [
            "\n"
          ]
        },
        {
          "metadata": {
            "tags": null
          },
          "name": "stdout",
          "output_type": "stream",
          "text": [
            "\n",
            "      Epoch    GPU_mem   box_loss   cls_loss   dfl_loss  Instances       Size\n"
          ]
        },
        {
          "metadata": {
            "tags": null
          },
          "name": "stderr",
          "output_type": "stream",
          "text": [
            "      31/50         0G      1.197     0.7581      1.131         18        640: 100%|██████████| 22/22 [04:25<00:00, 12.09s/it]\n",
            "                 Class     Images  Instances      Box(P          R      mAP50  mAP50-95): 100%|██████████| 3/3 [00:19<00:00,  6.40s/it]"
          ]
        },
        {
          "metadata": {
            "tags": null
          },
          "name": "stdout",
          "output_type": "stream",
          "text": [
            "                   all         87         87      0.918      0.905      0.965      0.589\n"
          ]
        },
        {
          "metadata": {
            "tags": null
          },
          "name": "stderr",
          "output_type": "stream",
          "text": [
            "\n"
          ]
        },
        {
          "metadata": {
            "tags": null
          },
          "name": "stdout",
          "output_type": "stream",
          "text": [
            "\n",
            "      Epoch    GPU_mem   box_loss   cls_loss   dfl_loss  Instances       Size\n"
          ]
        },
        {
          "metadata": {
            "tags": null
          },
          "name": "stderr",
          "output_type": "stream",
          "text": [
            "      32/50         0G      1.137     0.7259      1.117         16        640: 100%|██████████| 22/22 [04:20<00:00, 11.85s/it]\n",
            "                 Class     Images  Instances      Box(P          R      mAP50  mAP50-95): 100%|██████████| 3/3 [00:19<00:00,  6.41s/it]"
          ]
        },
        {
          "metadata": {
            "tags": null
          },
          "name": "stdout",
          "output_type": "stream",
          "text": [
            "                   all         87         87      0.924      0.862      0.942      0.574\n"
          ]
        },
        {
          "metadata": {
            "tags": null
          },
          "name": "stderr",
          "output_type": "stream",
          "text": [
            "\n"
          ]
        },
        {
          "metadata": {
            "tags": null
          },
          "name": "stdout",
          "output_type": "stream",
          "text": [
            "\n",
            "      Epoch    GPU_mem   box_loss   cls_loss   dfl_loss  Instances       Size\n"
          ]
        },
        {
          "metadata": {
            "tags": null
          },
          "name": "stderr",
          "output_type": "stream",
          "text": [
            "      33/50         0G      1.161     0.7351       1.11         21        640: 100%|██████████| 22/22 [04:22<00:00, 11.93s/it]\n",
            "                 Class     Images  Instances      Box(P          R      mAP50  mAP50-95): 100%|██████████| 3/3 [00:18<00:00,  6.31s/it]"
          ]
        },
        {
          "metadata": {
            "tags": null
          },
          "name": "stdout",
          "output_type": "stream",
          "text": [
            "                   all         87         87      0.851      0.862      0.903      0.533\n"
          ]
        },
        {
          "metadata": {
            "tags": null
          },
          "name": "stderr",
          "output_type": "stream",
          "text": [
            "\n"
          ]
        },
        {
          "metadata": {
            "tags": null
          },
          "name": "stdout",
          "output_type": "stream",
          "text": [
            "\n",
            "      Epoch    GPU_mem   box_loss   cls_loss   dfl_loss  Instances       Size\n"
          ]
        },
        {
          "metadata": {
            "tags": null
          },
          "name": "stderr",
          "output_type": "stream",
          "text": [
            "      34/50         0G      1.122     0.6972      1.105         18        640: 100%|██████████| 22/22 [04:22<00:00, 11.93s/it]\n",
            "                 Class     Images  Instances      Box(P          R      mAP50  mAP50-95): 100%|██████████| 3/3 [00:18<00:00,  6.17s/it]"
          ]
        },
        {
          "metadata": {
            "tags": null
          },
          "name": "stdout",
          "output_type": "stream",
          "text": [
            "                   all         87         87      0.891      0.908      0.934      0.564\n"
          ]
        },
        {
          "metadata": {
            "tags": null
          },
          "name": "stderr",
          "output_type": "stream",
          "text": [
            "\n"
          ]
        },
        {
          "metadata": {
            "tags": null
          },
          "name": "stdout",
          "output_type": "stream",
          "text": [
            "\n",
            "      Epoch    GPU_mem   box_loss   cls_loss   dfl_loss  Instances       Size\n"
          ]
        },
        {
          "metadata": {
            "tags": null
          },
          "name": "stderr",
          "output_type": "stream",
          "text": [
            "      35/50         0G       1.16     0.7098      1.129         14        640: 100%|██████████| 22/22 [04:23<00:00, 11.98s/it]\n",
            "                 Class     Images  Instances      Box(P          R      mAP50  mAP50-95): 100%|██████████| 3/3 [00:19<00:00,  6.48s/it]"
          ]
        },
        {
          "metadata": {
            "tags": null
          },
          "name": "stdout",
          "output_type": "stream",
          "text": [
            "                   all         87         87      0.915      0.897      0.948      0.594\n"
          ]
        },
        {
          "metadata": {
            "tags": null
          },
          "name": "stderr",
          "output_type": "stream",
          "text": [
            "\n"
          ]
        },
        {
          "metadata": {
            "tags": null
          },
          "name": "stdout",
          "output_type": "stream",
          "text": [
            "\n",
            "      Epoch    GPU_mem   box_loss   cls_loss   dfl_loss  Instances       Size\n"
          ]
        },
        {
          "metadata": {
            "tags": null
          },
          "name": "stderr",
          "output_type": "stream",
          "text": [
            "      36/50         0G      1.122     0.7116      1.105         15        640: 100%|██████████| 22/22 [04:23<00:00, 11.98s/it]\n",
            "                 Class     Images  Instances      Box(P          R      mAP50  mAP50-95): 100%|██████████| 3/3 [00:18<00:00,  6.05s/it]"
          ]
        },
        {
          "metadata": {
            "tags": null
          },
          "name": "stdout",
          "output_type": "stream",
          "text": [
            "                   all         87         87      0.897       0.92      0.943      0.582\n"
          ]
        },
        {
          "metadata": {
            "tags": null
          },
          "name": "stderr",
          "output_type": "stream",
          "text": [
            "\n"
          ]
        },
        {
          "metadata": {
            "tags": null
          },
          "name": "stdout",
          "output_type": "stream",
          "text": [
            "\n",
            "      Epoch    GPU_mem   box_loss   cls_loss   dfl_loss  Instances       Size\n"
          ]
        },
        {
          "metadata": {
            "tags": null
          },
          "name": "stderr",
          "output_type": "stream",
          "text": [
            "      37/50         0G       1.11     0.6936      1.112         21        640: 100%|██████████| 22/22 [04:23<00:00, 12.00s/it]\n",
            "                 Class     Images  Instances      Box(P          R      mAP50  mAP50-95): 100%|██████████| 3/3 [00:18<00:00,  6.13s/it]"
          ]
        },
        {
          "metadata": {
            "tags": null
          },
          "name": "stdout",
          "output_type": "stream",
          "text": [
            "                   all         87         87      0.906      0.862      0.929      0.575\n"
          ]
        },
        {
          "metadata": {
            "tags": null
          },
          "name": "stderr",
          "output_type": "stream",
          "text": [
            "\n"
          ]
        },
        {
          "metadata": {
            "tags": null
          },
          "name": "stdout",
          "output_type": "stream",
          "text": [
            "\n",
            "      Epoch    GPU_mem   box_loss   cls_loss   dfl_loss  Instances       Size\n"
          ]
        },
        {
          "metadata": {
            "tags": null
          },
          "name": "stderr",
          "output_type": "stream",
          "text": [
            "      38/50         0G      1.094     0.6678      1.073         20        640: 100%|██████████| 22/22 [04:25<00:00, 12.07s/it]\n",
            "                 Class     Images  Instances      Box(P          R      mAP50  mAP50-95): 100%|██████████| 3/3 [00:19<00:00,  6.66s/it]"
          ]
        },
        {
          "metadata": {
            "tags": null
          },
          "name": "stdout",
          "output_type": "stream",
          "text": [
            "                   all         87         87      0.901      0.943      0.963      0.604\n"
          ]
        },
        {
          "metadata": {
            "tags": null
          },
          "name": "stderr",
          "output_type": "stream",
          "text": [
            "\n"
          ]
        },
        {
          "metadata": {
            "tags": null
          },
          "name": "stdout",
          "output_type": "stream",
          "text": [
            "\n",
            "      Epoch    GPU_mem   box_loss   cls_loss   dfl_loss  Instances       Size\n"
          ]
        },
        {
          "metadata": {
            "tags": null
          },
          "name": "stderr",
          "output_type": "stream",
          "text": [
            "      39/50         0G      1.096     0.6739      1.106         23        640: 100%|██████████| 22/22 [04:26<00:00, 12.10s/it]\n",
            "                 Class     Images  Instances      Box(P          R      mAP50  mAP50-95): 100%|██████████| 3/3 [00:18<00:00,  6.14s/it]"
          ]
        },
        {
          "metadata": {
            "tags": null
          },
          "name": "stdout",
          "output_type": "stream",
          "text": [
            "                   all         87         87      0.912      0.949      0.954       0.59\n"
          ]
        },
        {
          "metadata": {
            "tags": null
          },
          "name": "stderr",
          "output_type": "stream",
          "text": [
            "\n"
          ]
        },
        {
          "metadata": {
            "tags": null
          },
          "name": "stdout",
          "output_type": "stream",
          "text": [
            "\n",
            "      Epoch    GPU_mem   box_loss   cls_loss   dfl_loss  Instances       Size\n"
          ]
        },
        {
          "output_type": "stream",
          "name": "stderr",
          "text": [
            "      40/50         0G      1.086     0.6451      1.093         15        640: 100%|██████████| 22/22 [04:24<00:00, 12.02s/it]\n",
            "                 Class     Images  Instances      Box(P          R      mAP50  mAP50-95): 100%|██████████| 3/3 [00:18<00:00,  6.25s/it]"
          ]
        },
        {
          "output_type": "stream",
          "name": "stdout",
          "text": [
            "                   all         87         87      0.925      0.874      0.933      0.576\n"
          ]
        },
        {
          "output_type": "stream",
          "name": "stderr",
          "text": [
            "\n"
          ]
        },
        {
          "output_type": "stream",
          "name": "stdout",
          "text": [
            "Closing dataloader mosaic\n",
            "\u001b[34m\u001b[1malbumentations: \u001b[0mBlur(p=0.01, blur_limit=(3, 7)), MedianBlur(p=0.01, blur_limit=(3, 7)), ToGray(p=0.01, num_output_channels=3, method='weighted_average'), CLAHE(p=0.01, clip_limit=(1.0, 4.0), tile_grid_size=(8, 8))\n",
            "\n",
            "      Epoch    GPU_mem   box_loss   cls_loss   dfl_loss  Instances       Size\n"
          ]
        },
        {
          "output_type": "stream",
          "name": "stderr",
          "text": [
            "      41/50         0G      1.047     0.6612      1.088         10        640: 100%|██████████| 22/22 [04:22<00:00, 11.94s/it]\n",
            "                 Class     Images  Instances      Box(P          R      mAP50  mAP50-95): 100%|██████████| 3/3 [00:18<00:00,  6.08s/it]"
          ]
        },
        {
          "output_type": "stream",
          "name": "stdout",
          "text": [
            "                   all         87         87      0.903      0.839      0.927      0.581\n"
          ]
        },
        {
          "output_type": "stream",
          "name": "stderr",
          "text": [
            "\n"
          ]
        },
        {
          "output_type": "stream",
          "name": "stdout",
          "text": [
            "\n",
            "      Epoch    GPU_mem   box_loss   cls_loss   dfl_loss  Instances       Size\n"
          ]
        },
        {
          "output_type": "stream",
          "name": "stderr",
          "text": [
            "      42/50         0G      1.052     0.6204      1.069         10        640: 100%|██████████| 22/22 [04:22<00:00, 11.93s/it]\n",
            "                 Class     Images  Instances      Box(P          R      mAP50  mAP50-95): 100%|██████████| 3/3 [00:18<00:00,  6.24s/it]"
          ]
        },
        {
          "output_type": "stream",
          "name": "stdout",
          "text": [
            "                   all         87         87      0.939      0.878      0.951      0.588\n"
          ]
        },
        {
          "output_type": "stream",
          "name": "stderr",
          "text": [
            "\n"
          ]
        },
        {
          "output_type": "stream",
          "name": "stdout",
          "text": [
            "\n",
            "      Epoch    GPU_mem   box_loss   cls_loss   dfl_loss  Instances       Size\n"
          ]
        },
        {
          "output_type": "stream",
          "name": "stderr",
          "text": [
            "      43/50         0G      1.025     0.6133      1.073         10        640: 100%|██████████| 22/22 [04:21<00:00, 11.90s/it]\n",
            "                 Class     Images  Instances      Box(P          R      mAP50  mAP50-95): 100%|██████████| 3/3 [00:18<00:00,  6.01s/it]"
          ]
        },
        {
          "output_type": "stream",
          "name": "stdout",
          "text": [
            "                   all         87         87      0.931      0.862      0.946      0.576\n"
          ]
        },
        {
          "output_type": "stream",
          "name": "stderr",
          "text": [
            "\n"
          ]
        },
        {
          "output_type": "stream",
          "name": "stdout",
          "text": [
            "\n",
            "      Epoch    GPU_mem   box_loss   cls_loss   dfl_loss  Instances       Size\n"
          ]
        },
        {
          "output_type": "stream",
          "name": "stderr",
          "text": [
            "      44/50         0G      1.018     0.6099      1.072         10        640: 100%|██████████| 22/22 [04:16<00:00, 11.68s/it]\n",
            "                 Class     Images  Instances      Box(P          R      mAP50  mAP50-95): 100%|██████████| 3/3 [00:19<00:00,  6.37s/it]"
          ]
        },
        {
          "output_type": "stream",
          "name": "stdout",
          "text": [
            "                   all         87         87      0.906      0.839      0.917      0.576\n"
          ]
        },
        {
          "output_type": "stream",
          "name": "stderr",
          "text": [
            "\n"
          ]
        },
        {
          "output_type": "stream",
          "name": "stdout",
          "text": [
            "\n",
            "      Epoch    GPU_mem   box_loss   cls_loss   dfl_loss  Instances       Size\n"
          ]
        },
        {
          "output_type": "stream",
          "name": "stderr",
          "text": [
            "      45/50         0G      1.006     0.6087      1.043         10        640: 100%|██████████| 22/22 [04:18<00:00, 11.75s/it]\n",
            "                 Class     Images  Instances      Box(P          R      mAP50  mAP50-95): 100%|██████████| 3/3 [00:18<00:00,  6.22s/it]"
          ]
        },
        {
          "output_type": "stream",
          "name": "stdout",
          "text": [
            "                   all         87         87      0.901      0.834      0.914      0.558\n"
          ]
        },
        {
          "output_type": "stream",
          "name": "stderr",
          "text": [
            "\n"
          ]
        },
        {
          "output_type": "stream",
          "name": "stdout",
          "text": [
            "\n",
            "      Epoch    GPU_mem   box_loss   cls_loss   dfl_loss  Instances       Size\n"
          ]
        },
        {
          "output_type": "stream",
          "name": "stderr",
          "text": [
            "      46/50         0G     0.9712     0.5672      1.034         10        640: 100%|██████████| 22/22 [04:18<00:00, 11.75s/it]\n",
            "                 Class     Images  Instances      Box(P          R      mAP50  mAP50-95): 100%|██████████| 3/3 [00:18<00:00,  6.24s/it]"
          ]
        },
        {
          "output_type": "stream",
          "name": "stdout",
          "text": [
            "                   all         87         87      0.895      0.862      0.928      0.573\n"
          ]
        },
        {
          "output_type": "stream",
          "name": "stderr",
          "text": [
            "\n"
          ]
        },
        {
          "output_type": "stream",
          "name": "stdout",
          "text": [
            "\n",
            "      Epoch    GPU_mem   box_loss   cls_loss   dfl_loss  Instances       Size\n"
          ]
        },
        {
          "output_type": "stream",
          "name": "stderr",
          "text": [
            "      47/50         0G     0.9868     0.5794      1.051         10        640: 100%|██████████| 22/22 [04:20<00:00, 11.82s/it]\n",
            "                 Class     Images  Instances      Box(P          R      mAP50  mAP50-95): 100%|██████████| 3/3 [00:18<00:00,  6.03s/it]"
          ]
        },
        {
          "output_type": "stream",
          "name": "stdout",
          "text": [
            "                   all         87         87      0.906      0.851      0.927      0.585\n"
          ]
        },
        {
          "output_type": "stream",
          "name": "stderr",
          "text": [
            "\n"
          ]
        },
        {
          "output_type": "stream",
          "name": "stdout",
          "text": [
            "\n",
            "      Epoch    GPU_mem   box_loss   cls_loss   dfl_loss  Instances       Size\n"
          ]
        },
        {
          "output_type": "stream",
          "name": "stderr",
          "text": [
            "      48/50         0G     0.9684     0.5764      1.051         10        640: 100%|██████████| 22/22 [04:18<00:00, 11.75s/it]\n",
            "                 Class     Images  Instances      Box(P          R      mAP50  mAP50-95): 100%|██████████| 3/3 [00:17<00:00,  5.98s/it]"
          ]
        },
        {
          "output_type": "stream",
          "name": "stdout",
          "text": [
            "                   all         87         87      0.938      0.873      0.956      0.587\n"
          ]
        },
        {
          "output_type": "stream",
          "name": "stderr",
          "text": [
            "\n"
          ]
        },
        {
          "output_type": "stream",
          "name": "stdout",
          "text": [
            "\n",
            "      Epoch    GPU_mem   box_loss   cls_loss   dfl_loss  Instances       Size\n"
          ]
        },
        {
          "output_type": "stream",
          "name": "stderr",
          "text": [
            "      49/50         0G     0.9382     0.5536      1.036         10        640: 100%|██████████| 22/22 [04:18<00:00, 11.73s/it]\n",
            "                 Class     Images  Instances      Box(P          R      mAP50  mAP50-95): 100%|██████████| 3/3 [00:19<00:00,  6.56s/it]"
          ]
        },
        {
          "output_type": "stream",
          "name": "stdout",
          "text": [
            "                   all         87         87      0.925      0.852      0.951      0.584\n"
          ]
        },
        {
          "output_type": "stream",
          "name": "stderr",
          "text": [
            "\n"
          ]
        },
        {
          "output_type": "stream",
          "name": "stdout",
          "text": [
            "\n",
            "      Epoch    GPU_mem   box_loss   cls_loss   dfl_loss  Instances       Size\n"
          ]
        },
        {
          "output_type": "stream",
          "name": "stderr",
          "text": [
            "      50/50         0G     0.9248     0.5471      1.047         10        640: 100%|██████████| 22/22 [04:20<00:00, 11.84s/it]\n",
            "                 Class     Images  Instances      Box(P          R      mAP50  mAP50-95): 100%|██████████| 3/3 [00:19<00:00,  6.50s/it]"
          ]
        },
        {
          "output_type": "stream",
          "name": "stdout",
          "text": [
            "                   all         87         87      0.921      0.874      0.942      0.582\n"
          ]
        },
        {
          "output_type": "stream",
          "name": "stderr",
          "text": [
            "\n"
          ]
        },
        {
          "output_type": "stream",
          "name": "stdout",
          "text": [
            "\n",
            "50 epochs completed in 3.947 hours.\n",
            "Optimizer stripped from runs/detect/train/weights/last.pt, 6.2MB\n",
            "Optimizer stripped from runs/detect/train/weights/best.pt, 6.2MB\n",
            "\n",
            "Validating runs/detect/train/weights/best.pt...\n",
            "Ultralytics 8.3.86 🚀 Python-3.11.11 torch-2.5.1+cu124 CPU (Intel Xeon 2.20GHz)\n",
            "Model summary (fused): 72 layers, 3,005,843 parameters, 0 gradients, 8.1 GFLOPs\n"
          ]
        },
        {
          "output_type": "stream",
          "name": "stderr",
          "text": [
            "                 Class     Images  Instances      Box(P          R      mAP50  mAP50-95): 100%|██████████| 3/3 [00:17<00:00,  5.73s/it]\n"
          ]
        },
        {
          "output_type": "stream",
          "name": "stdout",
          "text": [
            "                   all         87         87      0.901      0.943      0.962      0.603\n",
            "Speed: 1.8ms preprocess, 175.9ms inference, 0.0ms loss, 0.5ms postprocess per image\n",
            "Results saved to \u001b[1mruns/detect/train\u001b[0m\n",
            "Model saved at /content/drive/MyDrive/license_plate_recognition/license_plate_model.pt\n"
          ]
        }
      ],
      "source": [
        "# -*- coding: utf-8 -*-\n",
        "\"\"\"Untitled0.ipynb\n",
        "\n",
        "Automatically generated by Colab.\n",
        "\n",
        "Original file is located at\n",
        "    https://colab.research.google.com/drive/1YELWdurMaSt39Kf4PjYKtCE7QRuOmWf5\n",
        "\"\"\"\n",
        "\n",
        "# IMPORTANT: RUN THIS CELL IN ORDER TO IMPORT YOUR KAGGLE DATA SOURCES,\n",
        "# THEN FEEL FREE TO DELETE THIS CELL.\n",
        "# NOTE: THIS NOTEBOOK ENVIRONMENT DIFFERS FROM KAGGLE'S PYTHON\n",
        "# ENVIRONMENT SO THERE MAY BE MISSING LIBRARIES USED BY YOUR\n",
        "# NOTEBOOK.\n",
        "import kagglehub\n",
        "andrewmvd_car_plate_detection_path = kagglehub.dataset_download('andrewmvd/car-plate-detection')\n",
        "\n",
        "print('Data source import complete.')\n",
        "\n",
        "# Install necessary dependencies\n",
        "!pip install ultralytics torch torchvision pytesseract gdown\n",
        "\n",
        "from ultralytics import YOLO\n",
        "import os\n",
        "import xml.etree.ElementTree as xet\n",
        "import glob\n",
        "from PIL import Image\n",
        "import matplotlib.pyplot as plt\n",
        "import pandas as pd\n",
        "import matplotlib.patches as patches\n",
        "import torch\n",
        "from torch.utils.data import Dataset, DataLoader\n",
        "from torchvision import transforms\n",
        "from sklearn.model_selection import train_test_split\n",
        "from pathlib import Path\n",
        "import cv2\n",
        "from google.colab import drive\n",
        "\n",
        "# Mount Google Drive\n",
        "drive.mount('/content/drive')\n",
        "\n",
        "# Dataset Path\n",
        "path = kagglehub.dataset_download(\"andrewmvd/car-plate-detection\")\n",
        "\n",
        "# Define paths for XML and Image files\n",
        "xml_files_path = glob.glob(f'{path}/annotations/*.xml')\n",
        "image_files_path = glob.glob(f'{path}/images/**/*.png')\n",
        "\n",
        "# Initialize labels_dict to store image data and bounding box coordinates\n",
        "labels_dict = {'filepath': [], 'xmin': [], 'xmax': [], 'ymin': [], 'ymax': []}\n",
        "\n",
        "# Parse XML annotations and store corresponding data\n",
        "for xml_filename in xml_files_path:\n",
        "    info = xet.parse(xml_filename)\n",
        "    root = info.getroot()\n",
        "    member_object = root.find('object')\n",
        "    labels_info = member_object.find('bndbox')\n",
        "\n",
        "    # Extract bounding box coordinates\n",
        "    xmin = int(labels_info.find('xmin').text)\n",
        "    xmax = int(labels_info.find('xmax').text)\n",
        "    ymin = int(labels_info.find('ymin').text)\n",
        "    ymax = int(labels_info.find('ymax').text)\n",
        "\n",
        "    # Adjust image filename and store data in labels_dict\n",
        "    image_filename = xml_filename.replace('annotations', 'images').replace('.xml', '.png')\n",
        "    labels_dict['filepath'].append(image_filename)\n",
        "    labels_dict['xmin'].append(xmin)\n",
        "    labels_dict['xmax'].append(xmax)\n",
        "    labels_dict['ymin'].append(ymin)\n",
        "    labels_dict['ymax'].append(ymax)\n",
        "\n",
        "# Define save paths in Google Drive\n",
        "drive_output_dir = '/content/drive/MyDrive/license_plate_recognition'\n",
        "os.makedirs(f'{drive_output_dir}/images/train', exist_ok=True)\n",
        "os.makedirs(f'{drive_output_dir}/images/val', exist_ok=True)\n",
        "os.makedirs(f'{drive_output_dir}/labels/train', exist_ok=True)\n",
        "os.makedirs(f'{drive_output_dir}/labels/val', exist_ok=True)\n",
        "\n",
        "def convert_bbox_to_yolo_format(bbox, image_width, image_height):\n",
        "    xmin, xmax, ymin, ymax = bbox\n",
        "    x_center = (xmin + xmax) / 2 / image_width\n",
        "    y_center = (ymin + ymax) / 2 / image_height\n",
        "    width = (xmax - xmin) / image_width\n",
        "    height = (ymax - ymin) / image_height\n",
        "    return x_center, y_center, width, height\n",
        "\n",
        "image_paths = labels_dict['filepath']\n",
        "labels = list(zip(labels_dict['xmin'], labels_dict['xmax'], labels_dict['ymin'], labels_dict['ymax']))\n",
        "\n",
        "train_image_paths, val_image_paths, train_labels, val_labels = train_test_split(image_paths, labels, test_size=0.2, random_state=42)\n",
        "\n",
        "for dataset_type, image_paths, labels in [('train', train_image_paths, train_labels), ('val', val_image_paths, val_labels)]:\n",
        "    for image_path, bbox in zip(image_paths, labels):\n",
        "        if not os.path.exists(image_path):  # Ensure image exists before processing\n",
        "            print(f\"Warning: Image {image_path} not found!\")\n",
        "            continue\n",
        "\n",
        "        img = cv2.imread(image_path)\n",
        "        if img is None:\n",
        "            print(f\"Error: Could not read image {image_path}\")\n",
        "            continue\n",
        "\n",
        "        h, w, _ = img.shape\n",
        "        x_center, y_center, width, height = convert_bbox_to_yolo_format(bbox, w, h)\n",
        "        label_filename = Path(image_path).stem + '.txt'\n",
        "        cv2.imwrite(f'{drive_output_dir}/images/{dataset_type}/{Path(image_path).name}', img)\n",
        "        with open(f'{drive_output_dir}/labels/{dataset_type}/{label_filename}', 'w') as f:\n",
        "            f.write(f'0 {x_center} {y_center} {width} {height}\\n')\n",
        "\n",
        "# Update YAML configuration\n",
        "yaml_content = f\"\"\"\n",
        "train: {drive_output_dir}/images/train\n",
        "val: {drive_output_dir}/images/val\n",
        "\n",
        "nc: 1\n",
        "names: ['license_plate']\n",
        "\"\"\"\n",
        "\n",
        "with open(f\"{drive_output_dir}/license_plate.yaml\", \"w\") as yaml_file:\n",
        "    yaml_file.write(yaml_content)\n",
        "\n",
        "# Check if dataset has been processed correctly\n",
        "print(\"Train Images:\", os.listdir(f'{drive_output_dir}/images/train'))\n",
        "print(\"Val Images:\", os.listdir(f'{drive_output_dir}/images/val'))\n",
        "\n",
        "# Train YOLO model\n",
        "model = YOLO(\"yolov8n.pt\")\n",
        "model.train(data=f\"{drive_output_dir}/license_plate.yaml\", epochs=50, batch=16, imgsz=640, workers=4)\n",
        "\n",
        "# Save trained model to Google Drive\n",
        "model_path = f\"{drive_output_dir}/license_plate_model.pt\"\n",
        "model.save(model_path)\n",
        "print(f\"Model saved at {model_path}\")\n"
      ]
    },
    {
      "cell_type": "code",
      "source": [
        "from google.colab import drive\n",
        "import cv2\n",
        "import os\n",
        "import numpy as np\n",
        "\n",
        "# Mount Google Drive\n",
        "drive.mount('/content/drive')\n",
        "\n",
        "# Paths to dataset\n",
        "train_images_dir = \"/content/drive/MyDrive/license_plate_recognition/images/train\"\n",
        "val_images_dir = \"/content/drive/MyDrive/license_plate_recognition/images/val\"\n",
        "train_labels_dir = \"/content/drive/MyDrive/license_plate_recognition/labels/train\"\n",
        "val_labels_dir = \"/content/drive/MyDrive/license_plate_recognition/labels/val\"\n",
        "\n",
        "# Output directories\n",
        "output_base = \"/content/drive/MyDrive/license_plate_recognition/processed_dataset\"\n",
        "os.makedirs(output_base, exist_ok=True)\n",
        "\n",
        "for dataset in ['train', 'val']:\n",
        "    os.makedirs(f\"{output_base}/{dataset}\", exist_ok=True)\n",
        "    os.makedirs(f\"{output_base}/{dataset}/cropped\", exist_ok=True)\n",
        "    os.makedirs(f\"{output_base}/{dataset}/resized\", exist_ok=True)\n",
        "    os.makedirs(f\"{output_base}/{dataset}/normalized\", exist_ok=True)\n",
        "    os.makedirs(f\"{output_base}/{dataset}/grayscale\", exist_ok=True)\n",
        "    os.makedirs(f\"{output_base}/{dataset}/denoised\", exist_ok=True)\n",
        "    os.makedirs(f\"{output_base}/{dataset}/binary\", exist_ok=True)\n",
        "    os.makedirs(f\"{output_base}/{dataset}/segmented\", exist_ok=True)  # For character segmentation\n",
        "\n",
        "# Function to preprocess images\n",
        "def preprocess_images(image_dir, label_dir, dataset):\n",
        "    image_filenames = os.listdir(image_dir)\n",
        "\n",
        "    for img_file in image_filenames:\n",
        "        image_path = os.path.join(image_dir, img_file)\n",
        "        label_path = os.path.join(label_dir, img_file.replace(\".png\", \".txt\"))\n",
        "\n",
        "        if not os.path.exists(label_path):\n",
        "            continue\n",
        "\n",
        "        # Read image\n",
        "        img = cv2.imread(image_path)\n",
        "        img = cv2.cvtColor(img, cv2.COLOR_BGR2RGB)\n",
        "        h, w, _ = img.shape\n",
        "\n",
        "        # Read bounding box from label file\n",
        "        with open(label_path, \"r\") as f:\n",
        "            data = f.readline().split()\n",
        "            _, x_center, y_center, width, height = map(float, data)\n",
        "\n",
        "        # Convert YOLO format to pixel values\n",
        "        x_min = int((x_center - width / 2) * w)\n",
        "        y_min = int((y_center - height / 2) * h)\n",
        "        x_max = int((x_center + width / 2) * w)\n",
        "        y_max = int((y_center + height / 2) * h)\n",
        "\n",
        "        cropped_plate = img[y_min:y_max, x_min:x_max]\n",
        "\n",
        "        if cropped_plate.size == 0:\n",
        "            continue\n",
        "\n",
        "        # Save cropped license plate\n",
        "        cropped_path = f\"{output_base}/{dataset}/cropped/{img_file}\"\n",
        "        cv2.imwrite(cropped_path, cv2.cvtColor(cropped_plate, cv2.COLOR_RGB2BGR))\n",
        "\n",
        "        # Resize image\n",
        "        resized_plate = cv2.resize(cropped_plate, (128, 64))\n",
        "        resized_path = f\"{output_base}/{dataset}/resized/{img_file}\"\n",
        "        cv2.imwrite(resized_path, resized_plate)\n",
        "\n",
        "        # Normalize image (scale pixel values between 0 and 1)\n",
        "        normalized_plate = resized_plate.astype(np.float32) / 255.0\n",
        "        normalized_path = f\"{output_base}/{dataset}/normalized/{img_file}\"\n",
        "        cv2.imwrite(normalized_path, (normalized_plate * 255).astype(np.uint8))\n",
        "\n",
        "        # Convert to grayscale\n",
        "        gray_plate = cv2.cvtColor(resized_plate, cv2.COLOR_RGB2GRAY)\n",
        "        gray_path = f\"{output_base}/{dataset}/grayscale/{img_file}\"\n",
        "        cv2.imwrite(gray_path, gray_plate)\n",
        "\n",
        "        # Denoising\n",
        "        denoised_plate = cv2.fastNlMeansDenoising(gray_plate, None, 30, 7, 21)\n",
        "        denoised_path = f\"{output_base}/{dataset}/denoised/{img_file}\"\n",
        "        cv2.imwrite(denoised_path, denoised_plate)\n",
        "\n",
        "        # Apply binary thresholding\n",
        "        _, binary_plate = cv2.threshold(denoised_plate, 127, 255, cv2.THRESH_BINARY)\n",
        "        binary_path = f\"{output_base}/{dataset}/binary/{img_file}\"\n",
        "        cv2.imwrite(binary_path, binary_plate)\n",
        "\n",
        "        # Character Segmentation\n",
        "        segment_characters(binary_plate, dataset, img_file)\n",
        "\n",
        "        print(f\"✅ Processed: {img_file}\")\n",
        "\n",
        "# Function for character segmentation\n",
        "def segment_characters(binary_img, dataset, img_file):\n",
        "    contours, _ = cv2.findContours(binary_img, cv2.RETR_EXTERNAL, cv2.CHAIN_APPROX_SIMPLE)\n",
        "\n",
        "    character_folder = f\"{output_base}/{dataset}/segmented/{img_file.split('.')[0]}\"\n",
        "    os.makedirs(character_folder, exist_ok=True)\n",
        "\n",
        "    char_count = 0\n",
        "    for contour in contours:\n",
        "        x, y, w, h = cv2.boundingRect(contour)\n",
        "\n",
        "        if w > 5 and h > 10:  # Filter out small contours\n",
        "            char_img = binary_img[y:y+h, x:x+w]\n",
        "            char_path = f\"{character_folder}/char_{char_count}.png\"\n",
        "            cv2.imwrite(char_path, char_img)\n",
        "            char_count += 1\n",
        "\n",
        "    print(f\"✅ Segmented {char_count} characters for {img_file}\")\n",
        "\n",
        "# Run preprocessing on train and val datasets\n",
        "preprocess_images(train_images_dir, train_labels_dir, 'train')\n",
        "preprocess_images(val_images_dir, val_labels_dir, 'val')\n",
        "\n",
        "print(\"✅ All license plates processed and saved in Google Drive!\")\n"
      ],
      "metadata": {
        "colab": {
          "base_uri": "https://localhost:8080/"
        },
        "id": "7BOjZGWv65nG",
        "outputId": "e4701921-cca3-4554-d889-90709b74989a"
      },
      "execution_count": 2,
      "outputs": [
        {
          "output_type": "stream",
          "name": "stdout",
          "text": [
            "Drive already mounted at /content/drive; to attempt to forcibly remount, call drive.mount(\"/content/drive\", force_remount=True).\n",
            "✅ Segmented 1 characters for Cars329.png\n",
            "✅ Processed: Cars329.png\n",
            "✅ Segmented 1 characters for Cars32.png\n",
            "✅ Processed: Cars32.png\n",
            "✅ Segmented 2 characters for Cars189.png\n",
            "✅ Processed: Cars189.png\n",
            "✅ Segmented 2 characters for Cars21.png\n",
            "✅ Processed: Cars21.png\n",
            "✅ Segmented 2 characters for Cars263.png\n",
            "✅ Processed: Cars263.png\n",
            "✅ Segmented 0 characters for Cars300.png\n",
            "✅ Processed: Cars300.png\n",
            "✅ Segmented 1 characters for Cars38.png\n",
            "✅ Processed: Cars38.png\n",
            "✅ Segmented 2 characters for Cars383.png\n",
            "✅ Processed: Cars383.png\n",
            "✅ Segmented 2 characters for Cars80.png\n",
            "✅ Processed: Cars80.png\n",
            "✅ Segmented 6 characters for Cars315.png\n",
            "✅ Processed: Cars315.png\n",
            "✅ Segmented 1 characters for Cars319.png\n",
            "✅ Processed: Cars319.png\n",
            "✅ Segmented 4 characters for Cars279.png\n",
            "✅ Processed: Cars279.png\n",
            "✅ Segmented 1 characters for Cars355.png\n",
            "✅ Processed: Cars355.png\n",
            "✅ Segmented 1 characters for Cars351.png\n",
            "✅ Processed: Cars351.png\n",
            "✅ Segmented 1 characters for Cars405.png\n",
            "✅ Processed: Cars405.png\n",
            "✅ Segmented 2 characters for Cars121.png\n",
            "✅ Processed: Cars121.png\n",
            "✅ Segmented 1 characters for Cars56.png\n",
            "✅ Processed: Cars56.png\n",
            "✅ Segmented 1 characters for Cars228.png\n",
            "✅ Processed: Cars228.png\n",
            "✅ Segmented 1 characters for Cars39.png\n",
            "✅ Processed: Cars39.png\n",
            "✅ Segmented 2 characters for Cars143.png\n",
            "✅ Processed: Cars143.png\n",
            "✅ Segmented 8 characters for Cars298.png\n",
            "✅ Processed: Cars298.png\n",
            "✅ Segmented 9 characters for Cars328.png\n",
            "✅ Processed: Cars328.png\n",
            "✅ Segmented 1 characters for Cars401.png\n",
            "✅ Processed: Cars401.png\n",
            "✅ Segmented 1 characters for Cars90.png\n",
            "✅ Processed: Cars90.png\n",
            "✅ Segmented 1 characters for Cars295.png\n",
            "✅ Processed: Cars295.png\n",
            "✅ Segmented 1 characters for Cars167.png\n",
            "✅ Processed: Cars167.png\n",
            "✅ Segmented 0 characters for Cars28.png\n",
            "✅ Processed: Cars28.png\n",
            "✅ Segmented 1 characters for Cars253.png\n",
            "✅ Processed: Cars253.png\n",
            "✅ Segmented 1 characters for Cars326.png\n",
            "✅ Processed: Cars326.png\n",
            "✅ Segmented 1 characters for Cars248.png\n",
            "✅ Processed: Cars248.png\n",
            "✅ Segmented 5 characters for Cars102.png\n",
            "✅ Processed: Cars102.png\n",
            "✅ Segmented 3 characters for Cars238.png\n",
            "✅ Processed: Cars238.png\n",
            "✅ Segmented 1 characters for Cars124.png\n",
            "✅ Processed: Cars124.png\n",
            "✅ Segmented 0 characters for Cars155.png\n",
            "✅ Processed: Cars155.png\n",
            "✅ Segmented 1 characters for Cars84.png\n",
            "✅ Processed: Cars84.png\n",
            "✅ Segmented 0 characters for Cars135.png\n",
            "✅ Processed: Cars135.png\n",
            "✅ Segmented 1 characters for Cars366.png\n",
            "✅ Processed: Cars366.png\n",
            "✅ Segmented 1 characters for Cars22.png\n",
            "✅ Processed: Cars22.png\n",
            "✅ Segmented 1 characters for Cars37.png\n",
            "✅ Processed: Cars37.png\n",
            "✅ Segmented 1 characters for Cars304.png\n",
            "✅ Processed: Cars304.png\n",
            "✅ Segmented 2 characters for Cars213.png\n",
            "✅ Processed: Cars213.png\n",
            "✅ Segmented 2 characters for Cars168.png\n",
            "✅ Processed: Cars168.png\n",
            "✅ Segmented 1 characters for Cars317.png\n",
            "✅ Processed: Cars317.png\n",
            "✅ Segmented 1 characters for Cars158.png\n",
            "✅ Processed: Cars158.png\n",
            "✅ Segmented 6 characters for Cars346.png\n",
            "✅ Processed: Cars346.png\n",
            "✅ Segmented 2 characters for Cars59.png\n",
            "✅ Processed: Cars59.png\n",
            "✅ Segmented 1 characters for Cars67.png\n",
            "✅ Processed: Cars67.png\n",
            "✅ Segmented 1 characters for Cars82.png\n",
            "✅ Processed: Cars82.png\n",
            "✅ Segmented 2 characters for Cars50.png\n",
            "✅ Processed: Cars50.png\n",
            "✅ Segmented 1 characters for Cars392.png\n",
            "✅ Processed: Cars392.png\n",
            "✅ Segmented 1 characters for Cars4.png\n",
            "✅ Processed: Cars4.png\n",
            "✅ Segmented 2 characters for Cars41.png\n",
            "✅ Processed: Cars41.png\n",
            "✅ Segmented 1 characters for Cars98.png\n",
            "✅ Processed: Cars98.png\n",
            "✅ Segmented 1 characters for Cars347.png\n",
            "✅ Processed: Cars347.png\n",
            "✅ Segmented 1 characters for Cars254.png\n",
            "✅ Processed: Cars254.png\n",
            "✅ Segmented 1 characters for Cars181.png\n",
            "✅ Processed: Cars181.png\n",
            "✅ Segmented 1 characters for Cars413.png\n",
            "✅ Processed: Cars413.png\n",
            "✅ Segmented 5 characters for Cars217.png\n",
            "✅ Processed: Cars217.png\n",
            "✅ Segmented 1 characters for Cars101.png\n",
            "✅ Processed: Cars101.png\n",
            "✅ Segmented 1 characters for Cars8.png\n",
            "✅ Processed: Cars8.png\n",
            "✅ Segmented 3 characters for Cars289.png\n",
            "✅ Processed: Cars289.png\n",
            "✅ Segmented 1 characters for Cars186.png\n",
            "✅ Processed: Cars186.png\n",
            "✅ Segmented 1 characters for Cars14.png\n",
            "✅ Processed: Cars14.png\n",
            "✅ Segmented 1 characters for Cars242.png\n",
            "✅ Processed: Cars242.png\n",
            "✅ Segmented 2 characters for Cars95.png\n",
            "✅ Processed: Cars95.png\n",
            "✅ Segmented 1 characters for Cars214.png\n",
            "✅ Processed: Cars214.png\n",
            "✅ Segmented 2 characters for Cars416.png\n",
            "✅ Processed: Cars416.png\n",
            "✅ Segmented 1 characters for Cars418.png\n",
            "✅ Processed: Cars418.png\n",
            "✅ Segmented 1 characters for Cars221.png\n",
            "✅ Processed: Cars221.png\n",
            "✅ Segmented 3 characters for Cars177.png\n",
            "✅ Processed: Cars177.png\n",
            "✅ Segmented 1 characters for Cars432.png\n",
            "✅ Processed: Cars432.png\n",
            "✅ Segmented 0 characters for Cars256.png\n",
            "✅ Processed: Cars256.png\n",
            "✅ Segmented 6 characters for Cars200.png\n",
            "✅ Processed: Cars200.png\n",
            "✅ Segmented 1 characters for Cars198.png\n",
            "✅ Processed: Cars198.png\n",
            "✅ Segmented 2 characters for Cars376.png\n",
            "✅ Processed: Cars376.png\n",
            "✅ Segmented 1 characters for Cars48.png\n",
            "✅ Processed: Cars48.png\n",
            "✅ Segmented 5 characters for Cars147.png\n",
            "✅ Processed: Cars147.png\n",
            "✅ Segmented 1 characters for Cars232.png\n",
            "✅ Processed: Cars232.png\n",
            "✅ Segmented 1 characters for Cars245.png\n",
            "✅ Processed: Cars245.png\n",
            "✅ Segmented 2 characters for Cars266.png\n",
            "✅ Processed: Cars266.png\n",
            "✅ Segmented 1 characters for Cars161.png\n",
            "✅ Processed: Cars161.png\n",
            "✅ Segmented 0 characters for Cars384.png\n",
            "✅ Processed: Cars384.png\n",
            "✅ Segmented 1 characters for Cars391.png\n",
            "✅ Processed: Cars391.png\n",
            "✅ Segmented 1 characters for Cars312.png\n",
            "✅ Processed: Cars312.png\n",
            "✅ Segmented 1 characters for Cars94.png\n",
            "✅ Processed: Cars94.png\n",
            "✅ Segmented 0 characters for Cars269.png\n",
            "✅ Processed: Cars269.png\n",
            "✅ Segmented 1 characters for Cars276.png\n",
            "✅ Processed: Cars276.png\n",
            "✅ Segmented 1 characters for Cars184.png\n",
            "✅ Processed: Cars184.png\n",
            "✅ Segmented 1 characters for Cars394.png\n",
            "✅ Processed: Cars394.png\n",
            "✅ Segmented 1 characters for Cars115.png\n",
            "✅ Processed: Cars115.png\n",
            "✅ Segmented 0 characters for Cars251.png\n",
            "✅ Processed: Cars251.png\n",
            "✅ Segmented 1 characters for Cars46.png\n",
            "✅ Processed: Cars46.png\n",
            "✅ Segmented 1 characters for Cars311.png\n",
            "✅ Processed: Cars311.png\n",
            "✅ Segmented 0 characters for Cars402.png\n",
            "✅ Processed: Cars402.png\n",
            "✅ Segmented 1 characters for Cars88.png\n",
            "✅ Processed: Cars88.png\n",
            "✅ Segmented 1 characters for Cars338.png\n",
            "✅ Processed: Cars338.png\n",
            "✅ Segmented 1 characters for Cars118.png\n",
            "✅ Processed: Cars118.png\n",
            "✅ Segmented 1 characters for Cars224.png\n",
            "✅ Processed: Cars224.png\n",
            "✅ Segmented 7 characters for Cars116.png\n",
            "✅ Processed: Cars116.png\n",
            "✅ Segmented 1 characters for Cars426.png\n",
            "✅ Processed: Cars426.png\n",
            "✅ Segmented 1 characters for Cars275.png\n",
            "✅ Processed: Cars275.png\n",
            "✅ Segmented 1 characters for Cars410.png\n",
            "✅ Processed: Cars410.png\n",
            "✅ Segmented 4 characters for Cars131.png\n",
            "✅ Processed: Cars131.png\n",
            "✅ Segmented 1 characters for Cars149.png\n",
            "✅ Processed: Cars149.png\n",
            "✅ Segmented 1 characters for Cars265.png\n",
            "✅ Processed: Cars265.png\n",
            "✅ Segmented 1 characters for Cars412.png\n",
            "✅ Processed: Cars412.png\n",
            "✅ Segmented 1 characters for Cars225.png\n",
            "✅ Processed: Cars225.png\n",
            "✅ Segmented 1 characters for Cars281.png\n",
            "✅ Processed: Cars281.png\n",
            "✅ Segmented 1 characters for Cars325.png\n",
            "✅ Processed: Cars325.png\n",
            "✅ Segmented 2 characters for Cars160.png\n",
            "✅ Processed: Cars160.png\n",
            "✅ Segmented 1 characters for Cars340.png\n",
            "✅ Processed: Cars340.png\n",
            "✅ Segmented 1 characters for Cars6.png\n",
            "✅ Processed: Cars6.png\n",
            "✅ Segmented 1 characters for Cars368.png\n",
            "✅ Processed: Cars368.png\n",
            "✅ Segmented 1 characters for Cars197.png\n",
            "✅ Processed: Cars197.png\n",
            "✅ Segmented 2 characters for Cars11.png\n",
            "✅ Processed: Cars11.png\n",
            "✅ Segmented 0 characters for Cars66.png\n",
            "✅ Processed: Cars66.png\n",
            "✅ Segmented 1 characters for Cars212.png\n",
            "✅ Processed: Cars212.png\n",
            "✅ Segmented 1 characters for Cars257.png\n",
            "✅ Processed: Cars257.png\n",
            "✅ Segmented 1 characters for Cars74.png\n",
            "✅ Processed: Cars74.png\n",
            "✅ Segmented 1 characters for Cars87.png\n",
            "✅ Processed: Cars87.png\n",
            "✅ Segmented 13 characters for Cars185.png\n",
            "✅ Processed: Cars185.png\n",
            "✅ Segmented 1 characters for Cars264.png\n",
            "✅ Processed: Cars264.png\n",
            "✅ Segmented 3 characters for Cars63.png\n",
            "✅ Processed: Cars63.png\n",
            "✅ Segmented 1 characters for Cars322.png\n",
            "✅ Processed: Cars322.png\n",
            "✅ Segmented 1 characters for Cars345.png\n",
            "✅ Processed: Cars345.png\n",
            "✅ Segmented 1 characters for Cars64.png\n",
            "✅ Processed: Cars64.png\n",
            "✅ Segmented 0 characters for Cars305.png\n",
            "✅ Processed: Cars305.png\n",
            "✅ Segmented 1 characters for Cars226.png\n",
            "✅ Processed: Cars226.png\n",
            "✅ Segmented 1 characters for Cars375.png\n",
            "✅ Processed: Cars375.png\n",
            "✅ Segmented 1 characters for Cars246.png\n",
            "✅ Processed: Cars246.png\n",
            "✅ Segmented 1 characters for Cars183.png\n",
            "✅ Processed: Cars183.png\n",
            "✅ Segmented 1 characters for Cars372.png\n",
            "✅ Processed: Cars372.png\n",
            "✅ Segmented 1 characters for Cars423.png\n",
            "✅ Processed: Cars423.png\n",
            "✅ Segmented 1 characters for Cars120.png\n",
            "✅ Processed: Cars120.png\n",
            "✅ Segmented 1 characters for Cars258.png\n",
            "✅ Processed: Cars258.png\n",
            "✅ Segmented 1 characters for Cars134.png\n",
            "✅ Processed: Cars134.png\n",
            "✅ Segmented 1 characters for Cars2.png\n",
            "✅ Processed: Cars2.png\n",
            "✅ Segmented 1 characters for Cars237.png\n",
            "✅ Processed: Cars237.png\n",
            "✅ Segmented 1 characters for Cars69.png\n",
            "✅ Processed: Cars69.png\n",
            "✅ Segmented 1 characters for Cars373.png\n",
            "✅ Processed: Cars373.png\n",
            "✅ Segmented 6 characters for Cars360.png\n",
            "✅ Processed: Cars360.png\n",
            "✅ Segmented 4 characters for Cars144.png\n",
            "✅ Processed: Cars144.png\n",
            "✅ Segmented 1 characters for Cars429.png\n",
            "✅ Processed: Cars429.png\n",
            "✅ Segmented 2 characters for Cars422.png\n",
            "✅ Processed: Cars422.png\n",
            "✅ Segmented 1 characters for Cars377.png\n",
            "✅ Processed: Cars377.png\n",
            "✅ Segmented 1 characters for Cars358.png\n",
            "✅ Processed: Cars358.png\n",
            "✅ Segmented 6 characters for Cars427.png\n",
            "✅ Processed: Cars427.png\n",
            "✅ Segmented 1 characters for Cars78.png\n",
            "✅ Processed: Cars78.png\n",
            "✅ Segmented 1 characters for Cars52.png\n",
            "✅ Processed: Cars52.png\n",
            "✅ Segmented 1 characters for Cars111.png\n",
            "✅ Processed: Cars111.png\n",
            "✅ Segmented 5 characters for Cars421.png\n",
            "✅ Processed: Cars421.png\n",
            "✅ Segmented 1 characters for Cars318.png\n",
            "✅ Processed: Cars318.png\n",
            "✅ Segmented 1 characters for Cars382.png\n",
            "✅ Processed: Cars382.png\n",
            "✅ Segmented 1 characters for Cars173.png\n",
            "✅ Processed: Cars173.png\n",
            "✅ Segmented 2 characters for Cars280.png\n",
            "✅ Processed: Cars280.png\n",
            "✅ Segmented 0 characters for Cars223.png\n",
            "✅ Processed: Cars223.png\n",
            "✅ Segmented 3 characters for Cars398.png\n",
            "✅ Processed: Cars398.png\n",
            "✅ Segmented 1 characters for Cars122.png\n",
            "✅ Processed: Cars122.png\n",
            "✅ Segmented 4 characters for Cars171.png\n",
            "✅ Processed: Cars171.png\n",
            "✅ Segmented 1 characters for Cars123.png\n",
            "✅ Processed: Cars123.png\n",
            "✅ Segmented 3 characters for Cars361.png\n",
            "✅ Processed: Cars361.png\n",
            "✅ Segmented 3 characters for Cars388.png\n",
            "✅ Processed: Cars388.png\n",
            "✅ Segmented 1 characters for Cars196.png\n",
            "✅ Processed: Cars196.png\n",
            "✅ Segmented 1 characters for Cars33.png\n",
            "✅ Processed: Cars33.png\n",
            "✅ Segmented 1 characters for Cars424.png\n",
            "✅ Processed: Cars424.png\n",
            "✅ Segmented 1 characters for Cars243.png\n",
            "✅ Processed: Cars243.png\n",
            "✅ Segmented 1 characters for Cars141.png\n",
            "✅ Processed: Cars141.png\n",
            "✅ Segmented 1 characters for Cars54.png\n",
            "✅ Processed: Cars54.png\n",
            "✅ Segmented 2 characters for Cars145.png\n",
            "✅ Processed: Cars145.png\n",
            "✅ Segmented 1 characters for Cars154.png\n",
            "✅ Processed: Cars154.png\n",
            "✅ Segmented 3 characters for Cars60.png\n",
            "✅ Processed: Cars60.png\n",
            "✅ Segmented 1 characters for Cars207.png\n",
            "✅ Processed: Cars207.png\n",
            "✅ Segmented 1 characters for Cars367.png\n",
            "✅ Processed: Cars367.png\n",
            "✅ Segmented 1 characters for Cars282.png\n",
            "✅ Processed: Cars282.png\n",
            "✅ Segmented 1 characters for Cars42.png\n",
            "✅ Processed: Cars42.png\n",
            "✅ Segmented 0 characters for Cars29.png\n",
            "✅ Processed: Cars29.png\n",
            "✅ Segmented 6 characters for Cars7.png\n",
            "✅ Processed: Cars7.png\n",
            "✅ Segmented 1 characters for Cars172.png\n",
            "✅ Processed: Cars172.png\n",
            "✅ Segmented 1 characters for Cars76.png\n",
            "✅ Processed: Cars76.png\n",
            "✅ Segmented 5 characters for Cars19.png\n",
            "✅ Processed: Cars19.png\n",
            "✅ Segmented 1 characters for Cars109.png\n",
            "✅ Processed: Cars109.png\n",
            "✅ Segmented 1 characters for Cars323.png\n",
            "✅ Processed: Cars323.png\n",
            "✅ Segmented 1 characters for Cars169.png\n",
            "✅ Processed: Cars169.png\n",
            "✅ Segmented 1 characters for Cars190.png\n",
            "✅ Processed: Cars190.png\n",
            "✅ Segmented 1 characters for Cars182.png\n",
            "✅ Processed: Cars182.png\n",
            "✅ Segmented 0 characters for Cars362.png\n",
            "✅ Processed: Cars362.png\n",
            "✅ Segmented 1 characters for Cars179.png\n",
            "✅ Processed: Cars179.png\n",
            "✅ Segmented 1 characters for Cars113.png\n",
            "✅ Processed: Cars113.png\n",
            "✅ Segmented 0 characters for Cars205.png\n",
            "✅ Processed: Cars205.png\n",
            "✅ Segmented 1 characters for Cars188.png\n",
            "✅ Processed: Cars188.png\n",
            "✅ Segmented 1 characters for Cars193.png\n",
            "✅ Processed: Cars193.png\n",
            "✅ Segmented 1 characters for Cars208.png\n",
            "✅ Processed: Cars208.png\n",
            "✅ Segmented 2 characters for Cars365.png\n",
            "✅ Processed: Cars365.png\n",
            "✅ Segmented 3 characters for Cars138.png\n",
            "✅ Processed: Cars138.png\n",
            "✅ Segmented 0 characters for Cars47.png\n",
            "✅ Processed: Cars47.png\n",
            "✅ Segmented 1 characters for Cars133.png\n",
            "✅ Processed: Cars133.png\n",
            "✅ Segmented 1 characters for Cars231.png\n",
            "✅ Processed: Cars231.png\n",
            "✅ Segmented 3 characters for Cars97.png\n",
            "✅ Processed: Cars97.png\n",
            "✅ Segmented 1 characters for Cars327.png\n",
            "✅ Processed: Cars327.png\n",
            "✅ Segmented 1 characters for Cars53.png\n",
            "✅ Processed: Cars53.png\n",
            "✅ Segmented 1 characters for Cars399.png\n",
            "✅ Processed: Cars399.png\n",
            "✅ Segmented 0 characters for Cars148.png\n",
            "✅ Processed: Cars148.png\n",
            "✅ Segmented 1 characters for Cars425.png\n",
            "✅ Processed: Cars425.png\n",
            "✅ Segmented 1 characters for Cars307.png\n",
            "✅ Processed: Cars307.png\n",
            "✅ Segmented 1 characters for Cars287.png\n",
            "✅ Processed: Cars287.png\n",
            "✅ Segmented 1 characters for Cars132.png\n",
            "✅ Processed: Cars132.png\n",
            "✅ Segmented 2 characters for Cars292.png\n",
            "✅ Processed: Cars292.png\n",
            "✅ Segmented 4 characters for Cars294.png\n",
            "✅ Processed: Cars294.png\n",
            "✅ Segmented 1 characters for Cars378.png\n",
            "✅ Processed: Cars378.png\n",
            "✅ Segmented 1 characters for Cars233.png\n",
            "✅ Processed: Cars233.png\n",
            "✅ Segmented 1 characters for Cars239.png\n",
            "✅ Processed: Cars239.png\n",
            "✅ Segmented 1 characters for Cars284.png\n",
            "✅ Processed: Cars284.png\n",
            "✅ Segmented 1 characters for Cars125.png\n",
            "✅ Processed: Cars125.png\n",
            "✅ Segmented 1 characters for Cars219.png\n",
            "✅ Processed: Cars219.png\n",
            "✅ Segmented 0 characters for Cars16.png\n",
            "✅ Processed: Cars16.png\n",
            "✅ Segmented 2 characters for Cars68.png\n",
            "✅ Processed: Cars68.png\n",
            "✅ Segmented 2 characters for Cars71.png\n",
            "✅ Processed: Cars71.png\n",
            "✅ Segmented 1 characters for Cars142.png\n",
            "✅ Processed: Cars142.png\n",
            "✅ Segmented 4 characters for Cars20.png\n",
            "✅ Processed: Cars20.png\n",
            "✅ Segmented 4 characters for Cars13.png\n",
            "✅ Processed: Cars13.png\n",
            "✅ Segmented 1 characters for Cars308.png\n",
            "✅ Processed: Cars308.png\n",
            "✅ Segmented 7 characters for Cars396.png\n",
            "✅ Processed: Cars396.png\n",
            "✅ Segmented 2 characters for Cars330.png\n",
            "✅ Processed: Cars330.png\n",
            "✅ Segmented 1 characters for Cars414.png\n",
            "✅ Processed: Cars414.png\n",
            "✅ Segmented 0 characters for Cars390.png\n",
            "✅ Processed: Cars390.png\n",
            "✅ Segmented 2 characters for Cars216.png\n",
            "✅ Processed: Cars216.png\n",
            "✅ Segmented 1 characters for Cars285.png\n",
            "✅ Processed: Cars285.png\n",
            "✅ Segmented 1 characters for Cars314.png\n",
            "✅ Processed: Cars314.png\n",
            "✅ Segmented 1 characters for Cars324.png\n",
            "✅ Processed: Cars324.png\n",
            "✅ Segmented 2 characters for Cars339.png\n",
            "✅ Processed: Cars339.png\n",
            "✅ Segmented 1 characters for Cars86.png\n",
            "✅ Processed: Cars86.png\n",
            "✅ Segmented 1 characters for Cars215.png\n",
            "✅ Processed: Cars215.png\n",
            "✅ Segmented 1 characters for Cars166.png\n",
            "✅ Processed: Cars166.png\n",
            "✅ Segmented 1 characters for Cars211.png\n",
            "✅ Processed: Cars211.png\n",
            "✅ Segmented 1 characters for Cars187.png\n",
            "✅ Processed: Cars187.png\n",
            "✅ Segmented 1 characters for Cars428.png\n",
            "✅ Processed: Cars428.png\n",
            "✅ Segmented 3 characters for Cars30.png\n",
            "✅ Processed: Cars30.png\n",
            "✅ Segmented 3 characters for Cars261.png\n",
            "✅ Processed: Cars261.png\n",
            "✅ Segmented 0 characters for Cars23.png\n",
            "✅ Processed: Cars23.png\n",
            "✅ Segmented 1 characters for Cars57.png\n",
            "✅ Processed: Cars57.png\n",
            "✅ Segmented 3 characters for Cars321.png\n",
            "✅ Processed: Cars321.png\n",
            "✅ Segmented 1 characters for Cars25.png\n",
            "✅ Processed: Cars25.png\n",
            "✅ Segmented 1 characters for Cars403.png\n",
            "✅ Processed: Cars403.png\n",
            "✅ Segmented 1 characters for Cars259.png\n",
            "✅ Processed: Cars259.png\n",
            "✅ Segmented 4 characters for Cars139.png\n",
            "✅ Processed: Cars139.png\n",
            "✅ Segmented 3 characters for Cars114.png\n",
            "✅ Processed: Cars114.png\n",
            "✅ Segmented 2 characters for Cars45.png\n",
            "✅ Processed: Cars45.png\n",
            "✅ Segmented 1 characters for Cars267.png\n",
            "✅ Processed: Cars267.png\n",
            "✅ Segmented 1 characters for Cars108.png\n",
            "✅ Processed: Cars108.png\n",
            "✅ Segmented 3 characters for Cars61.png\n",
            "✅ Processed: Cars61.png\n",
            "✅ Segmented 1 characters for Cars99.png\n",
            "✅ Processed: Cars99.png\n",
            "✅ Segmented 1 characters for Cars409.png\n",
            "✅ Processed: Cars409.png\n",
            "✅ Segmented 2 characters for Cars51.png\n",
            "✅ Processed: Cars51.png\n",
            "✅ Segmented 1 characters for Cars100.png\n",
            "✅ Processed: Cars100.png\n",
            "✅ Segmented 2 characters for Cars271.png\n",
            "✅ Processed: Cars271.png\n",
            "✅ Segmented 4 characters for Cars278.png\n",
            "✅ Processed: Cars278.png\n",
            "✅ Segmented 1 characters for Cars151.png\n",
            "✅ Processed: Cars151.png\n",
            "✅ Segmented 1 characters for Cars137.png\n",
            "✅ Processed: Cars137.png\n",
            "✅ Segmented 1 characters for Cars5.png\n",
            "✅ Processed: Cars5.png\n",
            "✅ Segmented 1 characters for Cars107.png\n",
            "✅ Processed: Cars107.png\n",
            "✅ Segmented 3 characters for Cars260.png\n",
            "✅ Processed: Cars260.png\n",
            "✅ Segmented 2 characters for Cars356.png\n",
            "✅ Processed: Cars356.png\n",
            "✅ Segmented 1 characters for Cars369.png\n",
            "✅ Processed: Cars369.png\n",
            "✅ Segmented 1 characters for Cars247.png\n",
            "✅ Processed: Cars247.png\n",
            "✅ Segmented 1 characters for Cars332.png\n",
            "✅ Processed: Cars332.png\n",
            "✅ Segmented 1 characters for Cars218.png\n",
            "✅ Processed: Cars218.png\n",
            "✅ Segmented 2 characters for Cars336.png\n",
            "✅ Processed: Cars336.png\n",
            "✅ Segmented 5 characters for Cars353.png\n",
            "✅ Processed: Cars353.png\n",
            "✅ Segmented 1 characters for Cars250.png\n",
            "✅ Processed: Cars250.png\n",
            "✅ Segmented 1 characters for Cars110.png\n",
            "✅ Processed: Cars110.png\n",
            "✅ Segmented 2 characters for Cars129.png\n",
            "✅ Processed: Cars129.png\n",
            "✅ Segmented 0 characters for Cars55.png\n",
            "✅ Processed: Cars55.png\n",
            "✅ Segmented 1 characters for Cars210.png\n",
            "✅ Processed: Cars210.png\n",
            "✅ Segmented 3 characters for Cars105.png\n",
            "✅ Processed: Cars105.png\n",
            "✅ Segmented 2 characters for Cars75.png\n",
            "✅ Processed: Cars75.png\n",
            "✅ Segmented 1 characters for Cars273.png\n",
            "✅ Processed: Cars273.png\n",
            "✅ Segmented 2 characters for Cars316.png\n",
            "✅ Processed: Cars316.png\n",
            "✅ Segmented 1 characters for Cars406.png\n",
            "✅ Processed: Cars406.png\n",
            "✅ Segmented 0 characters for Cars31.png\n",
            "✅ Processed: Cars31.png\n",
            "✅ Segmented 2 characters for Cars381.png\n",
            "✅ Processed: Cars381.png\n",
            "✅ Segmented 1 characters for Cars3.png\n",
            "✅ Processed: Cars3.png\n",
            "✅ Segmented 0 characters for Cars119.png\n",
            "✅ Processed: Cars119.png\n",
            "✅ Segmented 1 characters for Cars81.png\n",
            "✅ Processed: Cars81.png\n",
            "✅ Segmented 1 characters for Cars371.png\n",
            "✅ Processed: Cars371.png\n",
            "✅ Segmented 1 characters for Cars72.png\n",
            "✅ Processed: Cars72.png\n",
            "✅ Segmented 1 characters for Cars199.png\n",
            "✅ Processed: Cars199.png\n",
            "✅ Segmented 1 characters for Cars393.png\n",
            "✅ Processed: Cars393.png\n",
            "✅ Segmented 1 characters for Cars303.png\n",
            "✅ Processed: Cars303.png\n",
            "✅ Segmented 0 characters for Cars240.png\n",
            "✅ Processed: Cars240.png\n",
            "✅ Segmented 1 characters for Cars244.png\n",
            "✅ Processed: Cars244.png\n",
            "✅ Segmented 1 characters for Cars163.png\n",
            "✅ Processed: Cars163.png\n",
            "✅ Segmented 2 characters for Cars357.png\n",
            "✅ Processed: Cars357.png\n",
            "✅ Segmented 0 characters for Cars175.png\n",
            "✅ Processed: Cars175.png\n",
            "✅ Segmented 5 characters for Cars0.png\n",
            "✅ Processed: Cars0.png\n",
            "✅ Segmented 1 characters for Cars43.png\n",
            "✅ Processed: Cars43.png\n",
            "✅ Segmented 1 characters for Cars277.png\n",
            "✅ Processed: Cars277.png\n",
            "✅ Segmented 3 characters for Cars359.png\n",
            "✅ Processed: Cars359.png\n",
            "✅ Segmented 2 characters for Cars268.png\n",
            "✅ Processed: Cars268.png\n",
            "✅ Segmented 1 characters for Cars395.png\n",
            "✅ Processed: Cars395.png\n",
            "✅ Segmented 1 characters for Cars337.png\n",
            "✅ Processed: Cars337.png\n",
            "✅ Segmented 1 characters for Cars415.png\n",
            "✅ Processed: Cars415.png\n",
            "✅ Segmented 1 characters for Cars404.png\n",
            "✅ Processed: Cars404.png\n",
            "✅ Segmented 1 characters for Cars333.png\n",
            "✅ Processed: Cars333.png\n",
            "✅ Segmented 1 characters for Cars222.png\n",
            "✅ Processed: Cars222.png\n",
            "✅ Segmented 2 characters for Cars176.png\n",
            "✅ Processed: Cars176.png\n",
            "✅ Segmented 1 characters for Cars85.png\n",
            "✅ Processed: Cars85.png\n",
            "✅ Segmented 1 characters for Cars229.png\n",
            "✅ Processed: Cars229.png\n",
            "✅ Segmented 6 characters for Cars191.png\n",
            "✅ Processed: Cars191.png\n",
            "✅ Segmented 1 characters for Cars73.png\n",
            "✅ Processed: Cars73.png\n",
            "✅ Segmented 1 characters for Cars270.png\n",
            "✅ Processed: Cars270.png\n",
            "✅ Segmented 0 characters for Cars380.png\n",
            "✅ Processed: Cars380.png\n",
            "✅ Segmented 0 characters for Cars349.png\n",
            "✅ Processed: Cars349.png\n",
            "✅ Segmented 2 characters for Cars150.png\n",
            "✅ Processed: Cars150.png\n",
            "✅ Segmented 3 characters for Cars331.png\n",
            "✅ Processed: Cars331.png\n",
            "✅ Segmented 1 characters for Cars334.png\n",
            "✅ Processed: Cars334.png\n",
            "✅ Segmented 1 characters for Cars236.png\n",
            "✅ Processed: Cars236.png\n",
            "✅ Segmented 1 characters for Cars320.png\n",
            "✅ Processed: Cars320.png\n",
            "✅ Segmented 1 characters for Cars62.png\n",
            "✅ Processed: Cars62.png\n",
            "✅ Segmented 1 characters for Cars286.png\n",
            "✅ Processed: Cars286.png\n",
            "✅ Segmented 1 characters for Cars178.png\n",
            "✅ Processed: Cars178.png\n",
            "✅ Segmented 1 characters for Cars420.png\n",
            "✅ Processed: Cars420.png\n",
            "✅ Segmented 1 characters for Cars252.png\n",
            "✅ Processed: Cars252.png\n",
            "✅ Segmented 1 characters for Cars352.png\n",
            "✅ Processed: Cars352.png\n",
            "✅ Segmented 1 characters for Cars44.png\n",
            "✅ Processed: Cars44.png\n",
            "✅ Segmented 1 characters for Cars36.png\n",
            "✅ Processed: Cars36.png\n",
            "✅ Segmented 1 characters for Cars194.png\n",
            "✅ Processed: Cars194.png\n",
            "✅ Segmented 0 characters for Cars174.png\n",
            "✅ Processed: Cars174.png\n",
            "✅ Segmented 1 characters for Cars18.png\n",
            "✅ Processed: Cars18.png\n",
            "✅ Segmented 0 characters for Cars397.png\n",
            "✅ Processed: Cars397.png\n",
            "✅ Segmented 1 characters for Cars291.png\n",
            "✅ Processed: Cars291.png\n",
            "✅ Segmented 8 characters for Cars299.png\n",
            "✅ Processed: Cars299.png\n",
            "✅ Segmented 3 characters for Cars290.png\n",
            "✅ Processed: Cars290.png\n",
            "✅ Segmented 1 characters for Cars34.png\n",
            "✅ Processed: Cars34.png\n",
            "✅ Segmented 1 characters for Cars206.png\n",
            "✅ Processed: Cars206.png\n",
            "✅ Segmented 1 characters for Cars235.png\n",
            "✅ Processed: Cars235.png\n",
            "✅ Segmented 1 characters for Cars203.png\n",
            "✅ Processed: Cars203.png\n",
            "✅ Segmented 1 characters for Cars96.png\n",
            "✅ Processed: Cars96.png\n",
            "✅ Segmented 1 characters for Cars387.png\n",
            "✅ Processed: Cars387.png\n",
            "✅ Segmented 1 characters for Cars431.png\n",
            "✅ Processed: Cars431.png\n",
            "✅ Segmented 1 characters for Cars162.png\n",
            "✅ Processed: Cars162.png\n",
            "✅ Segmented 1 characters for Cars1.png\n",
            "✅ Processed: Cars1.png\n",
            "✅ Segmented 1 characters for Cars230.png\n",
            "✅ Processed: Cars230.png\n",
            "✅ Segmented 1 characters for Cars344.png\n",
            "✅ Processed: Cars344.png\n",
            "✅ Segmented 0 characters for Cars227.png\n",
            "✅ Processed: Cars227.png\n",
            "✅ Segmented 0 characters for Cars26.png\n",
            "✅ Processed: Cars26.png\n",
            "✅ Segmented 2 characters for Cars136.png\n",
            "✅ Processed: Cars136.png\n",
            "✅ Segmented 1 characters for Cars93.png\n",
            "✅ Processed: Cars93.png\n",
            "✅ Segmented 1 characters for Cars58.png\n",
            "✅ Processed: Cars58.png\n",
            "✅ Segmented 9 characters for Cars234.png\n",
            "✅ Processed: Cars234.png\n",
            "✅ Segmented 1 characters for Cars309.png\n",
            "✅ Processed: Cars309.png\n",
            "✅ Segmented 3 characters for Cars126.png\n",
            "✅ Processed: Cars126.png\n",
            "✅ Segmented 1 characters for Cars354.png\n",
            "✅ Processed: Cars354.png\n",
            "✅ Segmented 1 characters for Cars204.png\n",
            "✅ Processed: Cars204.png\n",
            "✅ Segmented 1 characters for Cars180.png\n",
            "✅ Processed: Cars180.png\n",
            "✅ Segmented 1 characters for Cars112.png\n",
            "✅ Processed: Cars112.png\n",
            "✅ Segmented 2 characters for Cars49.png\n",
            "✅ Processed: Cars49.png\n",
            "✅ Segmented 1 characters for Cars283.png\n",
            "✅ Processed: Cars283.png\n",
            "✅ Segmented 2 characters for Cars91.png\n",
            "✅ Processed: Cars91.png\n",
            "✅ Segmented 1 characters for Cars341.png\n",
            "✅ Processed: Cars341.png\n",
            "✅ Segmented 1 characters for Cars419.png\n",
            "✅ Processed: Cars419.png\n",
            "✅ Segmented 3 characters for Cars92.png\n",
            "✅ Processed: Cars92.png\n",
            "✅ Segmented 1 characters for Cars77.png\n",
            "✅ Processed: Cars77.png\n",
            "✅ Segmented 1 characters for Cars130.png\n",
            "✅ Processed: Cars130.png\n",
            "✅ Segmented 1 characters for Cars70.png\n",
            "✅ Processed: Cars70.png\n",
            "✅ Segmented 1 characters for Cars153.png\n",
            "✅ Processed: Cars153.png\n",
            "✅ Segmented 1 characters for Cars170.png\n",
            "✅ Processed: Cars170.png\n",
            "✅ Segmented 0 characters for Cars12.png\n",
            "✅ Processed: Cars12.png\n",
            "✅ Segmented 2 characters for Cars140.png\n",
            "✅ Processed: Cars140.png\n",
            "✅ Segmented 1 characters for Cars24.png\n",
            "✅ Processed: Cars24.png\n",
            "✅ Segmented 1 characters for Cars364.png\n",
            "✅ Processed: Cars364.png\n",
            "✅ Segmented 1 characters for Cars195.png\n",
            "✅ Processed: Cars195.png\n",
            "✅ Segmented 1 characters for Cars201.png\n",
            "✅ Processed: Cars201.png\n",
            "✅ Segmented 1 characters for Cars313.png\n",
            "✅ Processed: Cars313.png\n",
            "✅ Segmented 1 characters for Cars293.png\n",
            "✅ Processed: Cars293.png\n",
            "✅ Segmented 1 characters for Cars164.png\n",
            "✅ Processed: Cars164.png\n",
            "✅ Segmented 1 characters for Cars274.png\n",
            "✅ Processed: Cars274.png\n",
            "✅ Segmented 4 characters for Cars374.png\n",
            "✅ Processed: Cars374.png\n",
            "✅ Segmented 2 characters for Cars302.png\n",
            "✅ Processed: Cars302.png\n",
            "✅ Segmented 1 characters for Cars379.png\n",
            "✅ Processed: Cars379.png\n",
            "✅ Segmented 1 characters for Cars152.png\n",
            "✅ Processed: Cars152.png\n",
            "✅ Segmented 1 characters for Cars262.png\n",
            "✅ Processed: Cars262.png\n",
            "✅ Segmented 1 characters for Cars363.png\n",
            "✅ Processed: Cars363.png\n",
            "✅ Segmented 2 characters for Cars389.png\n",
            "✅ Processed: Cars389.png\n",
            "✅ Segmented 1 characters for Cars342.png\n",
            "✅ Processed: Cars342.png\n",
            "✅ Segmented 1 characters for Cars348.png\n",
            "✅ Processed: Cars348.png\n",
            "✅ Segmented 1 characters for Cars104.png\n",
            "✅ Processed: Cars104.png\n",
            "✅ Segmented 1 characters for Cars411.png\n",
            "✅ Processed: Cars411.png\n",
            "✅ Segmented 1 characters for Cars301.png\n",
            "✅ Processed: Cars301.png\n",
            "✅ Segmented 1 characters for Cars192.png\n",
            "✅ Processed: Cars192.png\n",
            "✅ Segmented 1 characters for Cars288.png\n",
            "✅ Processed: Cars288.png\n",
            "✅ Segmented 1 characters for Cars156.png\n",
            "✅ Processed: Cars156.png\n",
            "✅ Segmented 1 characters for Cars146.png\n",
            "✅ Processed: Cars146.png\n",
            "✅ Segmented 0 characters for Cars40.png\n",
            "✅ Processed: Cars40.png\n",
            "✅ Segmented 1 characters for Cars249.png\n",
            "✅ Processed: Cars249.png\n",
            "✅ Segmented 2 characters for Cars35.png\n",
            "✅ Processed: Cars35.png\n",
            "✅ Segmented 1 characters for Cars296.png\n",
            "✅ Processed: Cars296.png\n",
            "✅ Segmented 1 characters for Cars306.png\n",
            "✅ Processed: Cars306.png\n",
            "✅ Segmented 1 characters for Cars400.png\n",
            "✅ Processed: Cars400.png\n",
            "✅ Segmented 1 characters for Cars165.png\n",
            "✅ Processed: Cars165.png\n",
            "✅ Segmented 1 characters for Cars83.png\n",
            "✅ Processed: Cars83.png\n",
            "✅ Segmented 1 characters for Cars255.png\n",
            "✅ Processed: Cars255.png\n",
            "✅ Segmented 3 characters for Cars15.png\n",
            "✅ Processed: Cars15.png\n",
            "✅ Segmented 2 characters for Cars127.png\n",
            "✅ Processed: Cars127.png\n",
            "✅ Segmented 5 characters for Cars430.png\n",
            "✅ Processed: Cars430.png\n",
            "✅ Segmented 1 characters for Cars106.png\n",
            "✅ Processed: Cars106.png\n",
            "✅ Segmented 9 characters for Cars297.png\n",
            "✅ Processed: Cars297.png\n",
            "✅ Segmented 0 characters for Cars335.png\n",
            "✅ Processed: Cars335.png\n",
            "✅ Segmented 1 characters for Cars65.png\n",
            "✅ Processed: Cars65.png\n",
            "✅ Segmented 1 characters for Cars417.png\n",
            "✅ Processed: Cars417.png\n",
            "✅ Segmented 1 characters for Cars10.png\n",
            "✅ Processed: Cars10.png\n",
            "✅ Segmented 2 characters for Cars79.png\n",
            "✅ Processed: Cars79.png\n",
            "✅ Segmented 1 characters for Cars128.png\n",
            "✅ Processed: Cars128.png\n",
            "✅ Segmented 1 characters for Cars220.png\n",
            "✅ Processed: Cars220.png\n",
            "✅ Segmented 1 characters for Cars202.png\n",
            "✅ Processed: Cars202.png\n",
            "✅ Segmented 1 characters for Cars407.png\n",
            "✅ Processed: Cars407.png\n",
            "✅ Segmented 1 characters for Cars408.png\n",
            "✅ Processed: Cars408.png\n",
            "✅ Segmented 1 characters for Cars159.png\n",
            "✅ Processed: Cars159.png\n",
            "✅ Segmented 3 characters for Cars89.png\n",
            "✅ Processed: Cars89.png\n",
            "✅ Segmented 2 characters for Cars310.png\n",
            "✅ Processed: Cars310.png\n",
            "✅ Segmented 1 characters for Cars343.png\n",
            "✅ Processed: Cars343.png\n",
            "✅ Segmented 1 characters for Cars27.png\n",
            "✅ Processed: Cars27.png\n",
            "✅ Segmented 1 characters for Cars117.png\n",
            "✅ Processed: Cars117.png\n",
            "✅ Segmented 1 characters for Cars157.png\n",
            "✅ Processed: Cars157.png\n",
            "✅ Segmented 1 characters for Cars9.png\n",
            "✅ Processed: Cars9.png\n",
            "✅ Segmented 1 characters for Cars272.png\n",
            "✅ Processed: Cars272.png\n",
            "✅ Segmented 1 characters for Cars103.png\n",
            "✅ Processed: Cars103.png\n",
            "✅ Segmented 2 characters for Cars386.png\n",
            "✅ Processed: Cars386.png\n",
            "✅ Segmented 2 characters for Cars385.png\n",
            "✅ Processed: Cars385.png\n",
            "✅ Segmented 1 characters for Cars370.png\n",
            "✅ Processed: Cars370.png\n",
            "✅ Segmented 1 characters for Cars209.png\n",
            "✅ Processed: Cars209.png\n",
            "✅ Segmented 1 characters for Cars241.png\n",
            "✅ Processed: Cars241.png\n",
            "✅ Segmented 2 characters for Cars350.png\n",
            "✅ Processed: Cars350.png\n",
            "✅ Segmented 6 characters for Cars17.png\n",
            "✅ Processed: Cars17.png\n",
            "✅ All license plates processed and saved in Google Drive!\n"
          ]
        }
      ]
    },
    {
      "cell_type": "code",
      "source": [
        "import cv2\n",
        "import os\n",
        "import numpy as np\n",
        "from google.colab import drive\n",
        "\n",
        "# Mount Google Drive\n",
        "drive.mount('/content/drive')\n",
        "\n",
        "# Paths\n",
        "input_folder = \"/content/drive/MyDrive/license_plate_recognition/processed_dataset/train/binary\"\n",
        "output_folder = \"/content/drive/MyDrive/license_plate_recognition/segmented_characters\"\n",
        "\n",
        "# Create output directory if it doesn't exist\n",
        "os.makedirs(output_folder, exist_ok=True)\n",
        "\n",
        "# Process each binary image\n",
        "for img_file in os.listdir(input_folder):\n",
        "    img_path = os.path.join(input_folder, img_file)\n",
        "\n",
        "    # Read binary image\n",
        "    binary_img = cv2.imread(img_path, cv2.IMREAD_GRAYSCALE)\n",
        "\n",
        "    # Find contours of characters\n",
        "    contours, _ = cv2.findContours(binary_img, cv2.RETR_EXTERNAL, cv2.CHAIN_APPROX_SIMPLE)\n",
        "\n",
        "    char_count = 0  # Character counter\n",
        "\n",
        "    # Sort contours left to right\n",
        "    contours = sorted(contours, key=lambda c: cv2.boundingRect(c)[0])\n",
        "\n",
        "    for contour in contours:\n",
        "        x, y, w, h = cv2.boundingRect(contour)\n",
        "\n",
        "        # Filter out small contours (noise)\n",
        "        if w > 10 and h > 30:\n",
        "            char_img = binary_img[y:y+h, x:x+w]\n",
        "            char_img = cv2.resize(char_img, (28, 28))  # Resize for CNN input\n",
        "\n",
        "            # Save character image\n",
        "            char_filename = f\"{img_file.replace('.png', '')}_char{char_count}.png\"\n",
        "            char_path = os.path.join(output_folder, char_filename)\n",
        "            cv2.imwrite(char_path, char_img)\n",
        "\n",
        "            char_count += 1\n",
        "\n",
        "    print(f\"✅ Segmented {char_count} characters from {img_file}\")\n",
        "\n",
        "print(\"✅ All character segmentation completed and saved in Google Drive!\")\n"
      ],
      "metadata": {
        "colab": {
          "base_uri": "https://localhost:8080/"
        },
        "id": "QkEow4pT66MQ",
        "outputId": "941c7d78-8722-4479-f4fb-d10559474d00"
      },
      "execution_count": 7,
      "outputs": [
        {
          "output_type": "stream",
          "name": "stdout",
          "text": [
            "Drive already mounted at /content/drive; to attempt to forcibly remount, call drive.mount(\"/content/drive\", force_remount=True).\n",
            "✅ Segmented 1 characters from Cars329.png\n",
            "✅ Segmented 1 characters from Cars32.png\n",
            "✅ Segmented 1 characters from Cars189.png\n",
            "✅ Segmented 2 characters from Cars21.png\n",
            "✅ Segmented 1 characters from Cars263.png\n",
            "✅ Segmented 0 characters from Cars300.png\n",
            "✅ Segmented 1 characters from Cars38.png\n",
            "✅ Segmented 1 characters from Cars383.png\n",
            "✅ Segmented 1 characters from Cars80.png\n",
            "✅ Segmented 3 characters from Cars315.png\n",
            "✅ Segmented 1 characters from Cars319.png\n",
            "✅ Segmented 1 characters from Cars279.png\n",
            "✅ Segmented 1 characters from Cars355.png\n",
            "✅ Segmented 1 characters from Cars351.png\n",
            "✅ Segmented 1 characters from Cars405.png\n",
            "✅ Segmented 1 characters from Cars121.png\n",
            "✅ Segmented 1 characters from Cars56.png\n",
            "✅ Segmented 1 characters from Cars228.png\n",
            "✅ Segmented 1 characters from Cars39.png\n",
            "✅ Segmented 2 characters from Cars143.png\n",
            "✅ Segmented 2 characters from Cars298.png\n",
            "✅ Segmented 1 characters from Cars328.png\n",
            "✅ Segmented 1 characters from Cars401.png\n",
            "✅ Segmented 1 characters from Cars90.png\n",
            "✅ Segmented 1 characters from Cars295.png\n",
            "✅ Segmented 1 characters from Cars167.png\n",
            "✅ Segmented 0 characters from Cars28.png\n",
            "✅ Segmented 1 characters from Cars253.png\n",
            "✅ Segmented 1 characters from Cars326.png\n",
            "✅ Segmented 1 characters from Cars248.png\n",
            "✅ Segmented 2 characters from Cars102.png\n",
            "✅ Segmented 2 characters from Cars238.png\n",
            "✅ Segmented 1 characters from Cars124.png\n",
            "✅ Segmented 0 characters from Cars155.png\n",
            "✅ Segmented 1 characters from Cars84.png\n",
            "✅ Segmented 0 characters from Cars135.png\n",
            "✅ Segmented 1 characters from Cars366.png\n",
            "✅ Segmented 1 characters from Cars22.png\n",
            "✅ Segmented 1 characters from Cars37.png\n",
            "✅ Segmented 1 characters from Cars304.png\n",
            "✅ Segmented 2 characters from Cars213.png\n",
            "✅ Segmented 1 characters from Cars168.png\n",
            "✅ Segmented 1 characters from Cars317.png\n",
            "✅ Segmented 1 characters from Cars158.png\n",
            "✅ Segmented 0 characters from Cars346.png\n",
            "✅ Segmented 1 characters from Cars59.png\n",
            "✅ Segmented 1 characters from Cars67.png\n",
            "✅ Segmented 1 characters from Cars82.png\n",
            "✅ Segmented 1 characters from Cars50.png\n",
            "✅ Segmented 1 characters from Cars392.png\n",
            "✅ Segmented 1 characters from Cars4.png\n",
            "✅ Segmented 2 characters from Cars41.png\n",
            "✅ Segmented 1 characters from Cars98.png\n",
            "✅ Segmented 1 characters from Cars347.png\n",
            "✅ Segmented 1 characters from Cars254.png\n",
            "✅ Segmented 1 characters from Cars181.png\n",
            "✅ Segmented 1 characters from Cars413.png\n",
            "✅ Segmented 0 characters from Cars217.png\n",
            "✅ Segmented 1 characters from Cars101.png\n",
            "✅ Segmented 1 characters from Cars8.png\n",
            "✅ Segmented 0 characters from Cars289.png\n",
            "✅ Segmented 1 characters from Cars186.png\n",
            "✅ Segmented 1 characters from Cars14.png\n",
            "✅ Segmented 1 characters from Cars242.png\n",
            "✅ Segmented 1 characters from Cars95.png\n",
            "✅ Segmented 1 characters from Cars214.png\n",
            "✅ Segmented 1 characters from Cars416.png\n",
            "✅ Segmented 1 characters from Cars418.png\n",
            "✅ Segmented 1 characters from Cars221.png\n",
            "✅ Segmented 2 characters from Cars177.png\n",
            "✅ Segmented 1 characters from Cars432.png\n",
            "✅ Segmented 0 characters from Cars256.png\n",
            "✅ Segmented 0 characters from Cars200.png\n",
            "✅ Segmented 1 characters from Cars198.png\n",
            "✅ Segmented 2 characters from Cars376.png\n",
            "✅ Segmented 1 characters from Cars48.png\n",
            "✅ Segmented 1 characters from Cars147.png\n",
            "✅ Segmented 1 characters from Cars232.png\n",
            "✅ Segmented 1 characters from Cars245.png\n",
            "✅ Segmented 1 characters from Cars266.png\n",
            "✅ Segmented 1 characters from Cars161.png\n",
            "✅ Segmented 0 characters from Cars384.png\n",
            "✅ Segmented 1 characters from Cars391.png\n",
            "✅ Segmented 1 characters from Cars312.png\n",
            "✅ Segmented 1 characters from Cars94.png\n",
            "✅ Segmented 0 characters from Cars269.png\n",
            "✅ Segmented 1 characters from Cars276.png\n",
            "✅ Segmented 1 characters from Cars184.png\n",
            "✅ Segmented 1 characters from Cars394.png\n",
            "✅ Segmented 1 characters from Cars115.png\n",
            "✅ Segmented 0 characters from Cars251.png\n",
            "✅ Segmented 1 characters from Cars46.png\n",
            "✅ Segmented 1 characters from Cars311.png\n",
            "✅ Segmented 0 characters from Cars402.png\n",
            "✅ Segmented 1 characters from Cars88.png\n",
            "✅ Segmented 1 characters from Cars338.png\n",
            "✅ Segmented 1 characters from Cars118.png\n",
            "✅ Segmented 1 characters from Cars224.png\n",
            "✅ Segmented 7 characters from Cars116.png\n",
            "✅ Segmented 1 characters from Cars426.png\n",
            "✅ Segmented 1 characters from Cars275.png\n",
            "✅ Segmented 1 characters from Cars410.png\n",
            "✅ Segmented 1 characters from Cars131.png\n",
            "✅ Segmented 1 characters from Cars149.png\n",
            "✅ Segmented 1 characters from Cars265.png\n",
            "✅ Segmented 1 characters from Cars412.png\n",
            "✅ Segmented 1 characters from Cars225.png\n",
            "✅ Segmented 1 characters from Cars281.png\n",
            "✅ Segmented 0 characters from Cars325.png\n",
            "✅ Segmented 0 characters from Cars160.png\n",
            "✅ Segmented 1 characters from Cars340.png\n",
            "✅ Segmented 1 characters from Cars6.png\n",
            "✅ Segmented 1 characters from Cars368.png\n",
            "✅ Segmented 1 characters from Cars197.png\n",
            "✅ Segmented 1 characters from Cars11.png\n",
            "✅ Segmented 0 characters from Cars66.png\n",
            "✅ Segmented 1 characters from Cars212.png\n",
            "✅ Segmented 1 characters from Cars257.png\n",
            "✅ Segmented 1 characters from Cars74.png\n",
            "✅ Segmented 1 characters from Cars87.png\n",
            "✅ Segmented 0 characters from Cars185.png\n",
            "✅ Segmented 1 characters from Cars264.png\n",
            "✅ Segmented 2 characters from Cars63.png\n",
            "✅ Segmented 1 characters from Cars322.png\n",
            "✅ Segmented 1 characters from Cars345.png\n",
            "✅ Segmented 1 characters from Cars64.png\n",
            "✅ Segmented 0 characters from Cars305.png\n",
            "✅ Segmented 1 characters from Cars226.png\n",
            "✅ Segmented 1 characters from Cars375.png\n",
            "✅ Segmented 1 characters from Cars246.png\n",
            "✅ Segmented 1 characters from Cars183.png\n",
            "✅ Segmented 1 characters from Cars372.png\n",
            "✅ Segmented 1 characters from Cars423.png\n",
            "✅ Segmented 1 characters from Cars120.png\n",
            "✅ Segmented 1 characters from Cars258.png\n",
            "✅ Segmented 1 characters from Cars134.png\n",
            "✅ Segmented 1 characters from Cars2.png\n",
            "✅ Segmented 1 characters from Cars237.png\n",
            "✅ Segmented 1 characters from Cars69.png\n",
            "✅ Segmented 1 characters from Cars373.png\n",
            "✅ Segmented 0 characters from Cars360.png\n",
            "✅ Segmented 0 characters from Cars144.png\n",
            "✅ Segmented 1 characters from Cars429.png\n",
            "✅ Segmented 1 characters from Cars422.png\n",
            "✅ Segmented 1 characters from Cars377.png\n",
            "✅ Segmented 1 characters from Cars358.png\n",
            "✅ Segmented 2 characters from Cars427.png\n",
            "✅ Segmented 1 characters from Cars78.png\n",
            "✅ Segmented 1 characters from Cars52.png\n",
            "✅ Segmented 1 characters from Cars111.png\n",
            "✅ Segmented 0 characters from Cars421.png\n",
            "✅ Segmented 1 characters from Cars318.png\n",
            "✅ Segmented 1 characters from Cars382.png\n",
            "✅ Segmented 1 characters from Cars173.png\n",
            "✅ Segmented 1 characters from Cars280.png\n",
            "✅ Segmented 0 characters from Cars223.png\n",
            "✅ Segmented 1 characters from Cars398.png\n",
            "✅ Segmented 1 characters from Cars122.png\n",
            "✅ Segmented 2 characters from Cars171.png\n",
            "✅ Segmented 1 characters from Cars123.png\n",
            "✅ Segmented 1 characters from Cars361.png\n",
            "✅ Segmented 1 characters from Cars388.png\n",
            "✅ Segmented 1 characters from Cars196.png\n",
            "✅ Segmented 1 characters from Cars33.png\n",
            "✅ Segmented 1 characters from Cars424.png\n",
            "✅ Segmented 1 characters from Cars243.png\n",
            "✅ Segmented 1 characters from Cars141.png\n",
            "✅ Segmented 1 characters from Cars54.png\n",
            "✅ Segmented 1 characters from Cars145.png\n",
            "✅ Segmented 1 characters from Cars154.png\n",
            "✅ Segmented 3 characters from Cars60.png\n",
            "✅ Segmented 1 characters from Cars207.png\n",
            "✅ Segmented 1 characters from Cars367.png\n",
            "✅ Segmented 1 characters from Cars282.png\n",
            "✅ Segmented 1 characters from Cars42.png\n",
            "✅ Segmented 0 characters from Cars29.png\n",
            "✅ Segmented 2 characters from Cars7.png\n",
            "✅ Segmented 1 characters from Cars172.png\n",
            "✅ Segmented 1 characters from Cars76.png\n",
            "✅ Segmented 0 characters from Cars19.png\n",
            "✅ Segmented 1 characters from Cars109.png\n",
            "✅ Segmented 1 characters from Cars323.png\n",
            "✅ Segmented 1 characters from Cars169.png\n",
            "✅ Segmented 1 characters from Cars190.png\n",
            "✅ Segmented 1 characters from Cars182.png\n",
            "✅ Segmented 0 characters from Cars362.png\n",
            "✅ Segmented 0 characters from Cars179.png\n",
            "✅ Segmented 1 characters from Cars113.png\n",
            "✅ Segmented 0 characters from Cars205.png\n",
            "✅ Segmented 0 characters from Cars188.png\n",
            "✅ Segmented 1 characters from Cars193.png\n",
            "✅ Segmented 1 characters from Cars208.png\n",
            "✅ Segmented 1 characters from Cars365.png\n",
            "✅ Segmented 2 characters from Cars138.png\n",
            "✅ Segmented 0 characters from Cars47.png\n",
            "✅ Segmented 1 characters from Cars133.png\n",
            "✅ Segmented 1 characters from Cars231.png\n",
            "✅ Segmented 1 characters from Cars97.png\n",
            "✅ Segmented 1 characters from Cars327.png\n",
            "✅ Segmented 1 characters from Cars53.png\n",
            "✅ Segmented 1 characters from Cars399.png\n",
            "✅ Segmented 0 characters from Cars148.png\n",
            "✅ Segmented 1 characters from Cars425.png\n",
            "✅ Segmented 1 characters from Cars307.png\n",
            "✅ Segmented 1 characters from Cars287.png\n",
            "✅ Segmented 1 characters from Cars132.png\n",
            "✅ Segmented 2 characters from Cars292.png\n",
            "✅ Segmented 4 characters from Cars294.png\n",
            "✅ Segmented 1 characters from Cars378.png\n",
            "✅ Segmented 1 characters from Cars233.png\n",
            "✅ Segmented 1 characters from Cars239.png\n",
            "✅ Segmented 1 characters from Cars284.png\n",
            "✅ Segmented 1 characters from Cars125.png\n",
            "✅ Segmented 1 characters from Cars219.png\n",
            "✅ Segmented 0 characters from Cars16.png\n",
            "✅ Segmented 2 characters from Cars68.png\n",
            "✅ Segmented 1 characters from Cars71.png\n",
            "✅ Segmented 1 characters from Cars142.png\n",
            "✅ Segmented 1 characters from Cars20.png\n",
            "✅ Segmented 2 characters from Cars13.png\n",
            "✅ Segmented 1 characters from Cars308.png\n",
            "✅ Segmented 7 characters from Cars396.png\n",
            "✅ Segmented 2 characters from Cars330.png\n",
            "✅ Segmented 1 characters from Cars414.png\n",
            "✅ Segmented 0 characters from Cars390.png\n",
            "✅ Segmented 1 characters from Cars216.png\n",
            "✅ Segmented 1 characters from Cars285.png\n",
            "✅ Segmented 1 characters from Cars314.png\n",
            "✅ Segmented 1 characters from Cars324.png\n",
            "✅ Segmented 0 characters from Cars339.png\n",
            "✅ Segmented 1 characters from Cars86.png\n",
            "✅ Segmented 1 characters from Cars215.png\n",
            "✅ Segmented 1 characters from Cars166.png\n",
            "✅ Segmented 1 characters from Cars211.png\n",
            "✅ Segmented 1 characters from Cars187.png\n",
            "✅ Segmented 1 characters from Cars428.png\n",
            "✅ Segmented 2 characters from Cars30.png\n",
            "✅ Segmented 3 characters from Cars261.png\n",
            "✅ Segmented 0 characters from Cars23.png\n",
            "✅ Segmented 1 characters from Cars57.png\n",
            "✅ Segmented 3 characters from Cars321.png\n",
            "✅ Segmented 1 characters from Cars25.png\n",
            "✅ Segmented 1 characters from Cars403.png\n",
            "✅ Segmented 1 characters from Cars259.png\n",
            "✅ Segmented 2 characters from Cars139.png\n",
            "✅ Segmented 1 characters from Cars114.png\n",
            "✅ Segmented 2 characters from Cars45.png\n",
            "✅ Segmented 1 characters from Cars267.png\n",
            "✅ Segmented 1 characters from Cars108.png\n",
            "✅ Segmented 1 characters from Cars61.png\n",
            "✅ Segmented 1 characters from Cars99.png\n",
            "✅ Segmented 1 characters from Cars409.png\n",
            "✅ Segmented 1 characters from Cars51.png\n",
            "✅ Segmented 1 characters from Cars100.png\n",
            "✅ Segmented 1 characters from Cars271.png\n",
            "✅ Segmented 1 characters from Cars278.png\n",
            "✅ Segmented 1 characters from Cars151.png\n",
            "✅ Segmented 1 characters from Cars137.png\n",
            "✅ Segmented 1 characters from Cars5.png\n",
            "✅ Segmented 1 characters from Cars107.png\n",
            "✅ Segmented 1 characters from Cars260.png\n",
            "✅ Segmented 1 characters from Cars356.png\n",
            "✅ Segmented 1 characters from Cars369.png\n",
            "✅ Segmented 1 characters from Cars247.png\n",
            "✅ Segmented 1 characters from Cars332.png\n",
            "✅ Segmented 1 characters from Cars218.png\n",
            "✅ Segmented 1 characters from Cars336.png\n",
            "✅ Segmented 0 characters from Cars353.png\n",
            "✅ Segmented 1 characters from Cars250.png\n",
            "✅ Segmented 1 characters from Cars110.png\n",
            "✅ Segmented 1 characters from Cars129.png\n",
            "✅ Segmented 0 characters from Cars55.png\n",
            "✅ Segmented 1 characters from Cars210.png\n",
            "✅ Segmented 3 characters from Cars105.png\n",
            "✅ Segmented 0 characters from Cars75.png\n",
            "✅ Segmented 1 characters from Cars273.png\n",
            "✅ Segmented 1 characters from Cars316.png\n",
            "✅ Segmented 1 characters from Cars406.png\n",
            "✅ Segmented 0 characters from Cars31.png\n",
            "✅ Segmented 1 characters from Cars381.png\n",
            "✅ Segmented 1 characters from Cars3.png\n",
            "✅ Segmented 0 characters from Cars119.png\n",
            "✅ Segmented 1 characters from Cars81.png\n",
            "✅ Segmented 1 characters from Cars371.png\n",
            "✅ Segmented 1 characters from Cars72.png\n",
            "✅ Segmented 1 characters from Cars199.png\n",
            "✅ Segmented 1 characters from Cars393.png\n",
            "✅ Segmented 1 characters from Cars303.png\n",
            "✅ Segmented 0 characters from Cars240.png\n",
            "✅ Segmented 1 characters from Cars244.png\n",
            "✅ Segmented 1 characters from Cars163.png\n",
            "✅ Segmented 2 characters from Cars357.png\n",
            "✅ Segmented 0 characters from Cars175.png\n",
            "✅ Segmented 1 characters from Cars0.png\n",
            "✅ Segmented 1 characters from Cars43.png\n",
            "✅ Segmented 1 characters from Cars277.png\n",
            "✅ Segmented 3 characters from Cars359.png\n",
            "✅ Segmented 0 characters from Cars268.png\n",
            "✅ Segmented 1 characters from Cars395.png\n",
            "✅ Segmented 1 characters from Cars337.png\n",
            "✅ Segmented 1 characters from Cars415.png\n",
            "✅ Segmented 1 characters from Cars404.png\n",
            "✅ Segmented 1 characters from Cars333.png\n",
            "✅ Segmented 1 characters from Cars222.png\n",
            "✅ Segmented 1 characters from Cars176.png\n",
            "✅ Segmented 1 characters from Cars85.png\n",
            "✅ Segmented 1 characters from Cars229.png\n",
            "✅ Segmented 0 characters from Cars191.png\n",
            "✅ Segmented 1 characters from Cars73.png\n",
            "✅ Segmented 1 characters from Cars270.png\n",
            "✅ Segmented 0 characters from Cars380.png\n",
            "✅ Segmented 0 characters from Cars349.png\n",
            "✅ Segmented 1 characters from Cars150.png\n",
            "✅ Segmented 1 characters from Cars331.png\n",
            "✅ Segmented 1 characters from Cars334.png\n",
            "✅ Segmented 0 characters from Cars236.png\n",
            "✅ Segmented 1 characters from Cars320.png\n",
            "✅ Segmented 1 characters from Cars62.png\n",
            "✅ Segmented 1 characters from Cars286.png\n",
            "✅ Segmented 1 characters from Cars178.png\n",
            "✅ Segmented 1 characters from Cars420.png\n",
            "✅ Segmented 1 characters from Cars252.png\n",
            "✅ Segmented 1 characters from Cars352.png\n",
            "✅ Segmented 1 characters from Cars44.png\n",
            "✅ Segmented 1 characters from Cars36.png\n",
            "✅ Segmented 1 characters from Cars194.png\n",
            "✅ Segmented 0 characters from Cars174.png\n",
            "✅ Segmented 1 characters from Cars18.png\n",
            "✅ Segmented 0 characters from Cars397.png\n",
            "✅ Segmented 0 characters from Cars291.png\n",
            "✅ Segmented 8 characters from Cars299.png\n",
            "✅ Segmented 1 characters from Cars290.png\n",
            "✅ Segmented 1 characters from Cars34.png\n",
            "✅ Segmented 1 characters from Cars206.png\n",
            "✅ Segmented 1 characters from Cars235.png\n",
            "✅ Segmented 1 characters from Cars203.png\n",
            "✅ Segmented 1 characters from Cars96.png\n",
            "✅ Segmented 1 characters from Cars387.png\n",
            "✅ Segmented 1 characters from Cars431.png\n",
            "✅ Segmented 1 characters from Cars162.png\n",
            "✅ Segmented 1 characters from Cars1.png\n",
            "✅ Segmented 1 characters from Cars230.png\n",
            "✅ Segmented 1 characters from Cars344.png\n",
            "✅ Segmented 0 characters from Cars227.png\n",
            "✅ Segmented 0 characters from Cars26.png\n",
            "✅ Segmented 2 characters from Cars136.png\n",
            "✅ All character segmentation completed and saved in Google Drive!\n"
          ]
        }
      ]
    },
    {
      "cell_type": "code",
      "source": [
        "import os\n",
        "import shutil\n",
        "import re\n",
        "\n",
        "dataset_path = \"/content/drive/MyDrive/license_plate_recognition/segmented_characters\"\n",
        "\n",
        "# Create a new organized dataset directory\n",
        "organized_dataset_path = \"/content/drive/MyDrive/license_plate_recognition/organized_characters\"\n",
        "os.makedirs(organized_dataset_path, exist_ok=True)\n",
        "\n",
        "# Process each image\n",
        "for filename in os.listdir(dataset_path):\n",
        "    match = re.search(r'_char(\\d+)\\.png$', filename)\n",
        "    if match:\n",
        "        char_label = match.group(1)  # Extract character label\n",
        "\n",
        "        # Create directory for the character if it doesn't exist\n",
        "        char_dir = os.path.join(organized_dataset_path, char_label)\n",
        "        os.makedirs(char_dir, exist_ok=True)\n",
        "\n",
        "        # Move file to the corresponding folder\n",
        "        old_path = os.path.join(dataset_path, filename)\n",
        "        new_path = os.path.join(char_dir, filename)\n",
        "        shutil.move(old_path, new_path)\n",
        "\n",
        "print(\"Dataset organized successfully!\")\n"
      ],
      "metadata": {
        "colab": {
          "base_uri": "https://localhost:8080/"
        },
        "id": "0cmeyK1T66Rv",
        "outputId": "49a742f5-afdb-47b2-8f9f-7101ec5c0761"
      },
      "execution_count": 10,
      "outputs": [
        {
          "output_type": "stream",
          "name": "stdout",
          "text": [
            "Dataset organized successfully!\n"
          ]
        }
      ]
    },
    {
      "cell_type": "code",
      "source": [
        "dataset_path = \"/content/drive/MyDrive/license_plate_recognition/organized_characters\"\n"
      ],
      "metadata": {
        "id": "fFencuWQ13tF"
      },
      "execution_count": 11,
      "outputs": []
    },
    {
      "cell_type": "code",
      "source": [
        "import os\n",
        "\n",
        "dataset_path = \"/content/drive/MyDrive/license_plate_recognition/organized_characters\"\n",
        "categories = os.listdir(dataset_path)\n",
        "print(\"Classes found:\", categories)\n"
      ],
      "metadata": {
        "colab": {
          "base_uri": "https://localhost:8080/"
        },
        "id": "P-DSJFj813v9",
        "outputId": "d2cd092f-70a9-4cd2-cb2f-f3072969c37b"
      },
      "execution_count": 12,
      "outputs": [
        {
          "output_type": "stream",
          "name": "stdout",
          "text": [
            "Classes found: ['0', '1', '2', '3', '4', '5', '6', '7']\n"
          ]
        }
      ]
    },
    {
      "cell_type": "code",
      "source": [
        "from tensorflow.keras.preprocessing.image import ImageDataGenerator\n",
        "\n",
        "# Define batch size and image dimensions\n",
        "batch_size = 32\n",
        "img_height, img_width = 64, 64\n",
        "\n",
        "# Apply data augmentation\n",
        "datagen = ImageDataGenerator(rescale=1./255, validation_split=0.2)\n",
        "\n",
        "train_generator = datagen.flow_from_directory(\n",
        "    dataset_path,\n",
        "    target_size=(img_height, img_width),\n",
        "    batch_size=batch_size,\n",
        "    class_mode=\"categorical\",\n",
        "    subset=\"training\"\n",
        ")\n",
        "\n",
        "val_generator = datagen.flow_from_directory(\n",
        "    dataset_path,\n",
        "    target_size=(img_height, img_width),\n",
        "    batch_size=batch_size,\n",
        "    class_mode=\"categorical\",\n",
        "    subset=\"validation\"\n",
        ")\n"
      ],
      "metadata": {
        "colab": {
          "base_uri": "https://localhost:8080/"
        },
        "id": "LG37cEFn14hp",
        "outputId": "56c42455-1a1b-485f-b94e-c88e90ade4b6"
      },
      "execution_count": 13,
      "outputs": [
        {
          "output_type": "stream",
          "name": "stdout",
          "text": [
            "Found 285 images belonging to 8 classes.\n",
            "Found 67 images belonging to 8 classes.\n"
          ]
        }
      ]
    },
    {
      "cell_type": "code",
      "source": [
        "from tensorflow.keras.models import Sequential\n",
        "from tensorflow.keras.layers import Conv2D, MaxPooling2D, Flatten, Dense, Dropout\n",
        "\n",
        "# Define model\n",
        "model = Sequential([\n",
        "    Conv2D(32, (3,3), activation='relu', input_shape=(64, 64, 3)),\n",
        "    MaxPooling2D(2,2),\n",
        "\n",
        "    Conv2D(64, (3,3), activation='relu'),\n",
        "    MaxPooling2D(2,2),\n",
        "\n",
        "    Conv2D(128, (3,3), activation='relu'),\n",
        "    MaxPooling2D(2,2),\n",
        "\n",
        "    Flatten(),  # Ensures the correct shape before passing to Dense layers\n",
        "\n",
        "    Dense(128, activation='relu'),\n",
        "    Dropout(0.5),\n",
        "    Dense(8, activation='softmax')  # 8 classes as detected in your dataset\n",
        "])\n",
        "\n",
        "# Compile the model\n",
        "model.compile(optimizer=\"adam\", loss=\"categorical_crossentropy\", metrics=[\"accuracy\"])\n",
        "\n",
        "# Train the model\n",
        "model.fit(train_generator, validation_data=val_generator, epochs=15)\n"
      ],
      "metadata": {
        "colab": {
          "base_uri": "https://localhost:8080/"
        },
        "id": "zqht3JTq14km",
        "outputId": "130cc5bd-f518-457c-9f7a-010b863bce58"
      },
      "execution_count": 15,
      "outputs": [
        {
          "output_type": "stream",
          "name": "stdout",
          "text": [
            "Epoch 1/15\n",
            "\u001b[1m9/9\u001b[0m \u001b[32m━━━━━━━━━━━━━━━━━━━━\u001b[0m\u001b[37m\u001b[0m \u001b[1m6s\u001b[0m 361ms/step - accuracy: 0.5800 - loss: 1.3860 - val_accuracy: 0.8806 - val_loss: 0.5330\n",
            "Epoch 2/15\n",
            "\u001b[1m9/9\u001b[0m \u001b[32m━━━━━━━━━━━━━━━━━━━━\u001b[0m\u001b[37m\u001b[0m \u001b[1m2s\u001b[0m 267ms/step - accuracy: 0.8228 - loss: 0.7408 - val_accuracy: 0.8806 - val_loss: 0.4329\n",
            "Epoch 3/15\n",
            "\u001b[1m9/9\u001b[0m \u001b[32m━━━━━━━━━━━━━━━━━━━━\u001b[0m\u001b[37m\u001b[0m \u001b[1m2s\u001b[0m 260ms/step - accuracy: 0.8299 - loss: 0.6945 - val_accuracy: 0.8806 - val_loss: 0.4058\n",
            "Epoch 4/15\n",
            "\u001b[1m9/9\u001b[0m \u001b[32m━━━━━━━━━━━━━━━━━━━━\u001b[0m\u001b[37m\u001b[0m \u001b[1m4s\u001b[0m 405ms/step - accuracy: 0.8453 - loss: 0.6409 - val_accuracy: 0.8806 - val_loss: 0.4397\n",
            "Epoch 5/15\n",
            "\u001b[1m9/9\u001b[0m \u001b[32m━━━━━━━━━━━━━━━━━━━━\u001b[0m\u001b[37m\u001b[0m \u001b[1m3s\u001b[0m 311ms/step - accuracy: 0.8279 - loss: 0.6199 - val_accuracy: 0.8806 - val_loss: 0.3552\n",
            "Epoch 6/15\n",
            "\u001b[1m9/9\u001b[0m \u001b[32m━━━━━━━━━━━━━━━━━━━━\u001b[0m\u001b[37m\u001b[0m \u001b[1m5s\u001b[0m 266ms/step - accuracy: 0.8373 - loss: 0.6228 - val_accuracy: 0.8806 - val_loss: 0.3481\n",
            "Epoch 7/15\n",
            "\u001b[1m9/9\u001b[0m \u001b[32m━━━━━━━━━━━━━━━━━━━━\u001b[0m\u001b[37m\u001b[0m \u001b[1m2s\u001b[0m 262ms/step - accuracy: 0.8510 - loss: 0.4855 - val_accuracy: 0.8955 - val_loss: 0.3213\n",
            "Epoch 8/15\n",
            "\u001b[1m9/9\u001b[0m \u001b[32m━━━━━━━━━━━━━━━━━━━━\u001b[0m\u001b[37m\u001b[0m \u001b[1m3s\u001b[0m 340ms/step - accuracy: 0.8391 - loss: 0.5215 - val_accuracy: 0.8955 - val_loss: 0.3116\n",
            "Epoch 9/15\n",
            "\u001b[1m9/9\u001b[0m \u001b[32m━━━━━━━━━━━━━━━━━━━━\u001b[0m\u001b[37m\u001b[0m \u001b[1m4s\u001b[0m 403ms/step - accuracy: 0.8750 - loss: 0.4200 - val_accuracy: 0.9104 - val_loss: 0.3139\n",
            "Epoch 10/15\n",
            "\u001b[1m9/9\u001b[0m \u001b[32m━━━━━━━━━━━━━━━━━━━━\u001b[0m\u001b[37m\u001b[0m \u001b[1m2s\u001b[0m 263ms/step - accuracy: 0.8744 - loss: 0.3325 - val_accuracy: 0.8806 - val_loss: 0.3442\n",
            "Epoch 11/15\n",
            "\u001b[1m9/9\u001b[0m \u001b[32m━━━━━━━━━━━━━━━━━━━━\u001b[0m\u001b[37m\u001b[0m \u001b[1m2s\u001b[0m 260ms/step - accuracy: 0.8587 - loss: 0.4202 - val_accuracy: 0.8955 - val_loss: 0.3518\n",
            "Epoch 12/15\n",
            "\u001b[1m9/9\u001b[0m \u001b[32m━━━━━━━━━━━━━━━━━━━━\u001b[0m\u001b[37m\u001b[0m \u001b[1m2s\u001b[0m 257ms/step - accuracy: 0.8584 - loss: 0.3963 - val_accuracy: 0.9104 - val_loss: 0.4023\n",
            "Epoch 13/15\n",
            "\u001b[1m9/9\u001b[0m \u001b[32m━━━━━━━━━━━━━━━━━━━━\u001b[0m\u001b[37m\u001b[0m \u001b[1m3s\u001b[0m 329ms/step - accuracy: 0.9227 - loss: 0.2939 - val_accuracy: 0.8806 - val_loss: 0.2979\n",
            "Epoch 14/15\n",
            "\u001b[1m9/9\u001b[0m \u001b[32m━━━━━━━━━━━━━━━━━━━━\u001b[0m\u001b[37m\u001b[0m \u001b[1m4s\u001b[0m 384ms/step - accuracy: 0.8819 - loss: 0.3087 - val_accuracy: 0.9104 - val_loss: 0.3211\n",
            "Epoch 15/15\n",
            "\u001b[1m9/9\u001b[0m \u001b[32m━━━━━━━━━━━━━━━━━━━━\u001b[0m\u001b[37m\u001b[0m \u001b[1m2s\u001b[0m 263ms/step - accuracy: 0.9099 - loss: 0.2647 - val_accuracy: 0.8955 - val_loss: 0.3454\n"
          ]
        },
        {
          "output_type": "execute_result",
          "data": {
            "text/plain": [
              "<keras.src.callbacks.history.History at 0x7c4151fb99d0>"
            ]
          },
          "metadata": {},
          "execution_count": 15
        }
      ]
    },
    {
      "cell_type": "code",
      "source": [
        "import keras.saving\n",
        "keras.saving.save_model(model, 'model.keras')\n",
        "\n"
      ],
      "metadata": {
        "id": "2vrKQqRf14sh"
      },
      "execution_count": 17,
      "outputs": []
    },
    {
      "cell_type": "code",
      "source": [
        "import os\n",
        "import cv2\n",
        "import matplotlib.pyplot as plt\n",
        "from google.colab import drive\n",
        "\n",
        "# Step 1: Mount Google Drive\n",
        "drive.mount('/content/drive')\n",
        "\n",
        "# Step 2: Define Paths\n",
        "BASE_PATH = \"/content/drive/My Drive/license_plate_recognition/\"\n",
        "IMAGES_PATH = os.path.join(BASE_PATH, \"images/train\")  # Update if needed\n",
        "CHARACTERS_PATH = os.path.join(BASE_PATH, \"organized_characters/0\")  # Testing '0' class\n",
        "\n",
        "# Step 3: List Files in Folders\n",
        "def list_files(directory, num_files=5):\n",
        "    if os.path.exists(directory):\n",
        "        files = os.listdir(directory)\n",
        "        print(f\"\\n📂 Found {len(files)} files in '{directory}'. Listing first {num_files} files:\")\n",
        "        print(files[:num_files])\n",
        "        return files\n",
        "    else:\n",
        "        print(f\"❌ Path not found: {directory}\")\n",
        "        return []\n",
        "\n",
        "image_files = list_files(IMAGES_PATH)\n",
        "char_files = list_files(CHARACTERS_PATH)\n",
        "\n",
        "# Step 4: Display Some Sample Images\n",
        "def show_images(directory, files, num=3):\n",
        "    plt.figure(figsize=(10, 5))\n",
        "    for i, file in enumerate(files[:num]):\n",
        "        img_path = os.path.join(directory, file)\n",
        "        img = cv2.imread(img_path)  # Read image\n",
        "        img = cv2.cvtColor(img, cv2.COLOR_BGR2RGB)  # Convert to RGB for Matplotlib\n",
        "        plt.subplot(1, num, i+1)\n",
        "        plt.imshow(img)\n",
        "        plt.title(file)\n",
        "        plt.axis(\"off\")\n",
        "    plt.show()\n",
        "\n",
        "if image_files:\n",
        "    print(\"\\n📸 Showing Sample Train Images:\")\n",
        "    show_images(IMAGES_PATH, image_files)\n",
        "\n",
        "if char_files:\n",
        "    print(\"\\n🔠 Showing Sample Character Images (Class 0):\")\n",
        "    show_images(CHARACTERS_PATH, char_files)\n"
      ],
      "metadata": {
        "colab": {
          "base_uri": "https://localhost:8080/",
          "height": 701
        },
        "id": "7qhLD3hb14wI",
        "outputId": "74788119-3a49-438b-8547-b2b65c9ff92f"
      },
      "execution_count": 22,
      "outputs": [
        {
          "output_type": "stream",
          "name": "stdout",
          "text": [
            "Drive already mounted at /content/drive; to attempt to forcibly remount, call drive.mount(\"/content/drive\", force_remount=True).\n",
            "\n",
            "📂 Found 346 files in '/content/drive/My Drive/license_plate_recognition/images/train'. Listing first 5 files:\n",
            "['Cars329.png', 'Cars32.png', 'Cars189.png', 'Cars21.png', 'Cars263.png']\n",
            "\n",
            "📂 Found 295 files in '/content/drive/My Drive/license_plate_recognition/organized_characters/0'. Listing first 5 files:\n",
            "['Cars329_char0.png', 'Cars32_char0.png', 'Cars189_char0.png', 'Cars21_char0.png', 'Cars263_char0.png']\n",
            "\n",
            "📸 Showing Sample Train Images:\n"
          ]
        },
        {
          "output_type": "display_data",
          "data": {
            "text/plain": [
              "<Figure size 1000x500 with 3 Axes>"
            ],
            "image/png": "[encoded data removed]"
          },
          "metadata": {}
        },
        {
          "output_type": "stream",
          "name": "stdout",
          "text": [
            "\n",
            "🔠 Showing Sample Character Images (Class 0):\n"
          ]
        },
        {
          "output_type": "display_data",
          "data": {
            "text/plain": [
              "<Figure size 1000x500 with 3 Axes>"
            ],
            "image/png": "[encoded data removed]"
          },
          "metadata": {}
        }
      ]
    },
    {
      "cell_type": "code",
      "source": [
        "def show_images(directory, files, num=3):\n",
        "    plt.figure(figsize=(10, 5))\n",
        "    for i, file in enumerate(files[:num]):\n",
        "        img_path = os.path.join(directory, file)\n",
        "        img = cv2.imread(img_path, cv2.IMREAD_GRAYSCALE)  # Load in grayscale\n",
        "        plt.subplot(1, num, i+1)\n",
        "        plt.imshow(img, cmap='gray')  # Display as grayscale\n",
        "        plt.title(file)\n",
        "        plt.axis(\"off\")\n",
        "    plt.show()\n"
      ],
      "metadata": {
        "id": "0eRnhVtn6is7"
      },
      "execution_count": 24,
      "outputs": []
    },
    {
      "cell_type": "code",
      "source": [
        "from google.colab import drive\n",
        "drive.mount('/content/drive')\n",
        "import os\n",
        "import cv2\n",
        "import matplotlib.pyplot as plt\n",
        "\n",
        "# Set the correct path to your dataset in Google Drive\n",
        "base_dir = \"/content/drive/My Drive/license_plate_recognition/organized_characters/0\"  # Modify if needed\n",
        "\n",
        "def show_images(directory, files, num=3):\n",
        "    plt.figure(figsize=(10, 5))\n",
        "    for i, file in enumerate(files[:num]):\n",
        "        img_path = os.path.join(directory, file)\n",
        "        img = cv2.imread(img_path, cv2.IMREAD_GRAYSCALE)  # Load in grayscale\n",
        "        plt.subplot(1, num, i+1)\n",
        "        plt.imshow(img, cmap='gray')  # Display as grayscale\n",
        "        plt.title(file)\n",
        "        plt.axis(\"off\")\n",
        "    plt.show()\n",
        "\n",
        "# Get image files in the directory\n",
        "files = sorted(os.listdir(base_dir))[:10]  # Change number if needed\n",
        "show_images(base_dir, files)\n",
        "import pytesseract\n",
        "\n",
        "# Test OCR on one sample image\n",
        "img_path = os.path.join(base_dir, files[0])  # Modify if needed\n",
        "img = cv2.imread(img_path, cv2.IMREAD_GRAYSCALE)\n",
        "\n",
        "# Extract text\n",
        "text = pytesseract.image_to_string(img, config='--psm 10')\n",
        "print(f\"Detected text: {text}\")\n",
        "\n"
      ],
      "metadata": {
        "colab": {
          "base_uri": "https://localhost:8080/",
          "height": 714
        },
        "id": "mr-vNlm96iy5",
        "outputId": "78a2f5ef-521f-4287-b821-a52e0b67b028"
      },
      "execution_count": 26,
      "outputs": [
        {
          "output_type": "stream",
          "name": "stdout",
          "text": [
            "Drive already mounted at /content/drive; to attempt to forcibly remount, call drive.mount(\"/content/drive\", force_remount=True).\n"
          ]
        },
        {
          "output_type": "display_data",
          "data": {
            "text/plain": [
              "<Figure size 1000x500 with 3 Axes>"
            ],
            "image/png": "[encoded data removed]"
          },
          "metadata": {}
        },
        {
          "output_type": "error",
          "ename": "TesseractNotFoundError",
          "evalue": "tesseract is not installed or it's not in your PATH. See README file for more information.",
          "traceback": [
            "\u001b[0;31m---------------------------------------------------------------------------\u001b[0m",
            "\u001b[0;31mFileNotFoundError\u001b[0m                         Traceback (most recent call last)",
            "\u001b[0;32m/usr/local/lib/python3.11/dist-packages/pytesseract/pytesseract.py\u001b[0m in \u001b[0;36mrun_tesseract\u001b[0;34m(input_filename, output_filename_base, extension, lang, config, nice, timeout)\u001b[0m\n\u001b[1;32m    274\u001b[0m     \u001b[0;32mtry\u001b[0m\u001b[0;34m:\u001b[0m\u001b[0;34m\u001b[0m\u001b[0;34m\u001b[0m\u001b[0m\n\u001b[0;32m--> 275\u001b[0;31m         \u001b[0mproc\u001b[0m \u001b[0;34m=\u001b[0m \u001b[0msubprocess\u001b[0m\u001b[0;34m.\u001b[0m\u001b[0mPopen\u001b[0m\u001b[0;34m(\u001b[0m\u001b[0mcmd_args\u001b[0m\u001b[0;34m,\u001b[0m \u001b[0;34m**\u001b[0m\u001b[0msubprocess_args\u001b[0m\u001b[0;34m(\u001b[0m\u001b[0;34m)\u001b[0m\u001b[0;34m)\u001b[0m\u001b[0;34m\u001b[0m\u001b[0;34m\u001b[0m\u001b[0m\n\u001b[0m\u001b[1;32m    276\u001b[0m     \u001b[0;32mexcept\u001b[0m \u001b[0mOSError\u001b[0m \u001b[0;32mas\u001b[0m \u001b[0me\u001b[0m\u001b[0;34m:\u001b[0m\u001b[0;34m\u001b[0m\u001b[0;34m\u001b[0m\u001b[0m\n",
            "\u001b[0;32m/usr/lib/python3.11/subprocess.py\u001b[0m in \u001b[0;36m__init__\u001b[0;34m(self, args, bufsize, executable, stdin, stdout, stderr, preexec_fn, close_fds, shell, cwd, env, universal_newlines, startupinfo, creationflags, restore_signals, start_new_session, pass_fds, user, group, extra_groups, encoding, errors, text, umask, pipesize, process_group)\u001b[0m\n\u001b[1;32m   1025\u001b[0m \u001b[0;34m\u001b[0m\u001b[0m\n\u001b[0;32m-> 1026\u001b[0;31m             self._execute_child(args, executable, preexec_fn, close_fds,\n\u001b[0m\u001b[1;32m   1027\u001b[0m                                 \u001b[0mpass_fds\u001b[0m\u001b[0;34m,\u001b[0m \u001b[0mcwd\u001b[0m\u001b[0;34m,\u001b[0m \u001b[0menv\u001b[0m\u001b[0;34m,\u001b[0m\u001b[0;34m\u001b[0m\u001b[0;34m\u001b[0m\u001b[0m\n",
            "\u001b[0;32m/usr/lib/python3.11/subprocess.py\u001b[0m in \u001b[0;36m_execute_child\u001b[0;34m(self, args, executable, preexec_fn, close_fds, pass_fds, cwd, env, startupinfo, creationflags, shell, p2cread, p2cwrite, c2pread, c2pwrite, errread, errwrite, restore_signals, gid, gids, uid, umask, start_new_session, process_group)\u001b[0m\n\u001b[1;32m   1954\u001b[0m                     \u001b[0;32mif\u001b[0m \u001b[0merr_filename\u001b[0m \u001b[0;32mis\u001b[0m \u001b[0;32mnot\u001b[0m \u001b[0;32mNone\u001b[0m\u001b[0;34m:\u001b[0m\u001b[0;34m\u001b[0m\u001b[0;34m\u001b[0m\u001b[0m\n\u001b[0;32m-> 1955\u001b[0;31m                         \u001b[0;32mraise\u001b[0m \u001b[0mchild_exception_type\u001b[0m\u001b[0;34m(\u001b[0m\u001b[0merrno_num\u001b[0m\u001b[0;34m,\u001b[0m \u001b[0merr_msg\u001b[0m\u001b[0;34m,\u001b[0m \u001b[0merr_filename\u001b[0m\u001b[0;34m)\u001b[0m\u001b[0;34m\u001b[0m\u001b[0;34m\u001b[0m\u001b[0m\n\u001b[0m\u001b[1;32m   1956\u001b[0m                     \u001b[0;32melse\u001b[0m\u001b[0;34m:\u001b[0m\u001b[0;34m\u001b[0m\u001b[0;34m\u001b[0m\u001b[0m\n",
            "\u001b[0;31mFileNotFoundError\u001b[0m: [Errno 2] No such file or directory: 'tesseract'",
            "\nDuring handling of the above exception, another exception occurred:\n",
            "\u001b[0;31mTesseractNotFoundError\u001b[0m                    Traceback (most recent call last)",
            "\u001b[0;32m<ipython-input-26-cda6d0c9e336>\u001b[0m in \u001b[0;36m<cell line: 0>\u001b[0;34m()\u001b[0m\n\u001b[1;32m     29\u001b[0m \u001b[0;34m\u001b[0m\u001b[0m\n\u001b[1;32m     30\u001b[0m \u001b[0;31m# Extract text\u001b[0m\u001b[0;34m\u001b[0m\u001b[0;34m\u001b[0m\u001b[0m\n\u001b[0;32m---> 31\u001b[0;31m \u001b[0mtext\u001b[0m \u001b[0;34m=\u001b[0m \u001b[0mpytesseract\u001b[0m\u001b[0;34m.\u001b[0m\u001b[0mimage_to_string\u001b[0m\u001b[0;34m(\u001b[0m\u001b[0mimg\u001b[0m\u001b[0;34m,\u001b[0m \u001b[0mconfig\u001b[0m\u001b[0;34m=\u001b[0m\u001b[0;34m'--psm 10'\u001b[0m\u001b[0;34m)\u001b[0m\u001b[0;34m\u001b[0m\u001b[0;34m\u001b[0m\u001b[0m\n\u001b[0m\u001b[1;32m     32\u001b[0m \u001b[0mprint\u001b[0m\u001b[0;34m(\u001b[0m\u001b[0;34mf\"Detected text: {text}\"\u001b[0m\u001b[0;34m)\u001b[0m\u001b[0;34m\u001b[0m\u001b[0;34m\u001b[0m\u001b[0m\n\u001b[1;32m     33\u001b[0m \u001b[0;34m\u001b[0m\u001b[0m\n",
            "\u001b[0;32m/usr/local/lib/python3.11/dist-packages/pytesseract/pytesseract.py\u001b[0m in \u001b[0;36mimage_to_string\u001b[0;34m(image, lang, config, nice, output_type, timeout)\u001b[0m\n\u001b[1;32m    484\u001b[0m     \u001b[0margs\u001b[0m \u001b[0;34m=\u001b[0m \u001b[0;34m[\u001b[0m\u001b[0mimage\u001b[0m\u001b[0;34m,\u001b[0m \u001b[0;34m'txt'\u001b[0m\u001b[0;34m,\u001b[0m \u001b[0mlang\u001b[0m\u001b[0;34m,\u001b[0m \u001b[0mconfig\u001b[0m\u001b[0;34m,\u001b[0m \u001b[0mnice\u001b[0m\u001b[0;34m,\u001b[0m \u001b[0mtimeout\u001b[0m\u001b[0;34m]\u001b[0m\u001b[0;34m\u001b[0m\u001b[0;34m\u001b[0m\u001b[0m\n\u001b[1;32m    485\u001b[0m \u001b[0;34m\u001b[0m\u001b[0m\n\u001b[0;32m--> 486\u001b[0;31m     return {\n\u001b[0m\u001b[1;32m    487\u001b[0m         \u001b[0mOutput\u001b[0m\u001b[0;34m.\u001b[0m\u001b[0mBYTES\u001b[0m\u001b[0;34m:\u001b[0m \u001b[0;32mlambda\u001b[0m\u001b[0;34m:\u001b[0m \u001b[0mrun_and_get_output\u001b[0m\u001b[0;34m(\u001b[0m\u001b[0;34m*\u001b[0m\u001b[0;34m(\u001b[0m\u001b[0margs\u001b[0m \u001b[0;34m+\u001b[0m \u001b[0;34m[\u001b[0m\u001b[0;32mTrue\u001b[0m\u001b[0;34m]\u001b[0m\u001b[0;34m)\u001b[0m\u001b[0;34m)\u001b[0m\u001b[0;34m,\u001b[0m\u001b[0;34m\u001b[0m\u001b[0;34m\u001b[0m\u001b[0m\n\u001b[1;32m    488\u001b[0m         \u001b[0mOutput\u001b[0m\u001b[0;34m.\u001b[0m\u001b[0mDICT\u001b[0m\u001b[0;34m:\u001b[0m \u001b[0;32mlambda\u001b[0m\u001b[0;34m:\u001b[0m \u001b[0;34m{\u001b[0m\u001b[0;34m'text'\u001b[0m\u001b[0;34m:\u001b[0m \u001b[0mrun_and_get_output\u001b[0m\u001b[0;34m(\u001b[0m\u001b[0;34m*\u001b[0m\u001b[0margs\u001b[0m\u001b[0;34m)\u001b[0m\u001b[0;34m}\u001b[0m\u001b[0;34m,\u001b[0m\u001b[0;34m\u001b[0m\u001b[0;34m\u001b[0m\u001b[0m\n",
            "\u001b[0;32m/usr/local/lib/python3.11/dist-packages/pytesseract/pytesseract.py\u001b[0m in \u001b[0;36m<lambda>\u001b[0;34m()\u001b[0m\n\u001b[1;32m    487\u001b[0m         \u001b[0mOutput\u001b[0m\u001b[0;34m.\u001b[0m\u001b[0mBYTES\u001b[0m\u001b[0;34m:\u001b[0m \u001b[0;32mlambda\u001b[0m\u001b[0;34m:\u001b[0m \u001b[0mrun_and_get_output\u001b[0m\u001b[0;34m(\u001b[0m\u001b[0;34m*\u001b[0m\u001b[0;34m(\u001b[0m\u001b[0margs\u001b[0m \u001b[0;34m+\u001b[0m \u001b[0;34m[\u001b[0m\u001b[0;32mTrue\u001b[0m\u001b[0;34m]\u001b[0m\u001b[0;34m)\u001b[0m\u001b[0;34m)\u001b[0m\u001b[0;34m,\u001b[0m\u001b[0;34m\u001b[0m\u001b[0;34m\u001b[0m\u001b[0m\n\u001b[1;32m    488\u001b[0m         \u001b[0mOutput\u001b[0m\u001b[0;34m.\u001b[0m\u001b[0mDICT\u001b[0m\u001b[0;34m:\u001b[0m \u001b[0;32mlambda\u001b[0m\u001b[0;34m:\u001b[0m \u001b[0;34m{\u001b[0m\u001b[0;34m'text'\u001b[0m\u001b[0;34m:\u001b[0m \u001b[0mrun_and_get_output\u001b[0m\u001b[0;34m(\u001b[0m\u001b[0;34m*\u001b[0m\u001b[0margs\u001b[0m\u001b[0;34m)\u001b[0m\u001b[0;34m}\u001b[0m\u001b[0;34m,\u001b[0m\u001b[0;34m\u001b[0m\u001b[0;34m\u001b[0m\u001b[0m\n\u001b[0;32m--> 489\u001b[0;31m         \u001b[0mOutput\u001b[0m\u001b[0;34m.\u001b[0m\u001b[0mSTRING\u001b[0m\u001b[0;34m:\u001b[0m \u001b[0;32mlambda\u001b[0m\u001b[0;34m:\u001b[0m \u001b[0mrun_and_get_output\u001b[0m\u001b[0;34m(\u001b[0m\u001b[0;34m*\u001b[0m\u001b[0margs\u001b[0m\u001b[0;34m)\u001b[0m\u001b[0;34m,\u001b[0m\u001b[0;34m\u001b[0m\u001b[0;34m\u001b[0m\u001b[0m\n\u001b[0m\u001b[1;32m    490\u001b[0m     }[output_type]()\n\u001b[1;32m    491\u001b[0m \u001b[0;34m\u001b[0m\u001b[0m\n",
            "\u001b[0;32m/usr/local/lib/python3.11/dist-packages/pytesseract/pytesseract.py\u001b[0m in \u001b[0;36mrun_and_get_output\u001b[0;34m(image, extension, lang, config, nice, timeout, return_bytes)\u001b[0m\n\u001b[1;32m    350\u001b[0m         }\n\u001b[1;32m    351\u001b[0m \u001b[0;34m\u001b[0m\u001b[0m\n\u001b[0;32m--> 352\u001b[0;31m         \u001b[0mrun_tesseract\u001b[0m\u001b[0;34m(\u001b[0m\u001b[0;34m**\u001b[0m\u001b[0mkwargs\u001b[0m\u001b[0;34m)\u001b[0m\u001b[0;34m\u001b[0m\u001b[0;34m\u001b[0m\u001b[0m\n\u001b[0m\u001b[1;32m    353\u001b[0m         return _read_output(\n\u001b[1;32m    354\u001b[0m             \u001b[0;34mf\"{kwargs['output_filename_base']}{extsep}{extension}\"\u001b[0m\u001b[0;34m,\u001b[0m\u001b[0;34m\u001b[0m\u001b[0;34m\u001b[0m\u001b[0m\n",
            "\u001b[0;32m/usr/local/lib/python3.11/dist-packages/pytesseract/pytesseract.py\u001b[0m in \u001b[0;36mrun_tesseract\u001b[0;34m(input_filename, output_filename_base, extension, lang, config, nice, timeout)\u001b[0m\n\u001b[1;32m    278\u001b[0m             \u001b[0;32mraise\u001b[0m\u001b[0;34m\u001b[0m\u001b[0;34m\u001b[0m\u001b[0m\n\u001b[1;32m    279\u001b[0m         \u001b[0;32melse\u001b[0m\u001b[0;34m:\u001b[0m\u001b[0;34m\u001b[0m\u001b[0;34m\u001b[0m\u001b[0m\n\u001b[0;32m--> 280\u001b[0;31m             \u001b[0;32mraise\u001b[0m \u001b[0mTesseractNotFoundError\u001b[0m\u001b[0;34m(\u001b[0m\u001b[0;34m)\u001b[0m\u001b[0;34m\u001b[0m\u001b[0;34m\u001b[0m\u001b[0m\n\u001b[0m\u001b[1;32m    281\u001b[0m \u001b[0;34m\u001b[0m\u001b[0m\n\u001b[1;32m    282\u001b[0m     \u001b[0;32mwith\u001b[0m \u001b[0mtimeout_manager\u001b[0m\u001b[0;34m(\u001b[0m\u001b[0mproc\u001b[0m\u001b[0;34m,\u001b[0m \u001b[0mtimeout\u001b[0m\u001b[0;34m)\u001b[0m \u001b[0;32mas\u001b[0m \u001b[0merror_string\u001b[0m\u001b[0;34m:\u001b[0m\u001b[0;34m\u001b[0m\u001b[0;34m\u001b[0m\u001b[0m\n",
            "\u001b[0;31mTesseractNotFoundError\u001b[0m: tesseract is not installed or it's not in your PATH. See README file for more information."
          ]
        }
      ]
    },
    {
      "cell_type": "code",
      "source": [],
      "metadata": {
        "id": "CYSNOC116i1C"
      },
      "execution_count": null,
      "outputs": []
    },
    {
      "cell_type": "code",
      "source": [],
      "metadata": {
        "id": "i2urr-2F6i4e"
      },
      "execution_count": null,
      "outputs": []
    }
  ]
}